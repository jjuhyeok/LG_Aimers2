{
 "cells": [
  {
   "cell_type": "code",
   "execution_count": 23,
   "id": "potential-cathedral",
   "metadata": {},
   "outputs": [],
   "source": [
    "import pandas as pd\n",
    "import numpy as np\n",
    "import re\n",
    "import seaborn as sns\n",
    "import matplotlib.pyplot as plt\n",
    "from sklearn.preprocessing import LabelEncoder\n",
    "import warnings\n",
    "import random\n",
    "import os\n",
    "plt.style.use('ggplot')\n",
    "warnings.filterwarnings(action='ignore')"
   ]
  },
  {
   "cell_type": "code",
   "execution_count": 2,
   "id": "prescription-great",
   "metadata": {},
   "outputs": [],
   "source": [
    "def seed_everything(seed):\n",
    "    random.seed(seed)\n",
    "    os.environ['PYTHONHASHSEED'] = str(seed)\n",
    "    np.random.seed(seed)\n",
    "seed_everything(37) # Seed 고정"
   ]
  },
  {
   "cell_type": "code",
   "execution_count": 3,
   "id": "promising-hypothesis",
   "metadata": {},
   "outputs": [],
   "source": [
    "def cyclical_feature(df): \n",
    "    df['sin_time'] = np.sin(2*np.pi*df.HOUR/24)\n",
    "    df['cos_time'] = np.cos(2*np.pi*df.HOUR/24)"
   ]
  },
  {
   "cell_type": "code",
   "execution_count": 5,
   "id": "curious-recommendation",
   "metadata": {},
   "outputs": [],
   "source": [
    "def timestamp_split(df):\n",
    "    df['YEAR'] = df['TIMESTAMP'].str.split('-').str[0].astype('int')\n",
    "    df['MONTH'] = df['TIMESTAMP'].str.split('-').str[1].astype('int')\n",
    "    df['DAY'] = df['TIMESTAMP'].str.split('-').str[2]\n",
    "    df['DAY'] = df['DAY'].str.split().str[0].astype('int')\n",
    "    df['TIME'] = df['TIMESTAMP'].str.split().str[1]\n",
    "    df['HOUR'] = df['TIME'].str.split(':').str[0].astype('int')\n",
    "    df['TIME_MIN'] = df['TIME'].str.split(':').str[1].astype('int')+df['HOUR']*60"
   ]
  },
  {
   "cell_type": "code",
   "execution_count": 4,
   "id": "essential-cinema",
   "metadata": {},
   "outputs": [],
   "source": [
    "train = pd.read_csv('train.csv')\n",
    "test = pd.read_csv('test.csv')"
   ]
  },
  {
   "cell_type": "code",
   "execution_count": 6,
   "id": "useful-romance",
   "metadata": {},
   "outputs": [],
   "source": [
    "timestamp_split(test)\n",
    "timestamp_split(train)\n",
    "\n",
    "cyclical_feature(train)\n",
    "cyclical_feature(test)"
   ]
  },
  {
   "cell_type": "code",
   "execution_count": 8,
   "id": "satellite-thumbnail",
   "metadata": {},
   "outputs": [],
   "source": [
    "col_list = train.columns\n",
    "nan_list = []\n",
    "nan_cnt = []\n",
    "nan_col = []\n",
    "full_list = []\n",
    "for col in col_list:\n",
    "    if train[col].isnull().sum() == 0 :\n",
    "        full_list.append(col)\n",
    "        continue\n",
    "    nan_list.append([col, train[col].isnull().sum()])\n",
    "    nan_cnt.append(train[col].isnull().sum())\n",
    "    nan_col.append(col)\n",
    "    \n",
    "'''모든값이 결측값이면 제거'''\n",
    "\n",
    "del_col = []\n",
    "for col in nan_list :\n",
    "    if col[1] == 598 :\n",
    "        del_col.append(col[0])\n",
    "train = train.drop(columns=del_col)\n",
    "test = test.drop(columns=del_col)\n",
    "train.head(3)"
   ]
  },
  {
   "cell_type": "code",
   "execution_count": 10,
   "id": "after-lambda",
   "metadata": {},
   "outputs": [],
   "source": [
    "trainA_31 = train[train['PRODUCT_CODE']=='A_31']\n",
    "train_T_O = train[train['PRODUCT_CODE']!='A_31']\n",
    "\n",
    "testA_31 = test[test['PRODUCT_CODE']=='A_31']\n",
    "test_T_O = test[test['PRODUCT_CODE']!='A_31']"
   ]
  },
  {
   "cell_type": "code",
   "execution_count": 11,
   "id": "familiar-photography",
   "metadata": {},
   "outputs": [],
   "source": [
    "col_list = train.columns\n",
    "nan_listA_31 = []\n",
    "nan_cntA_31 = []\n",
    "nan_colA_31 = []\n",
    "full_listA_31 = []\n",
    "for col in col_list:\n",
    "    if trainA_31[col].isnull().sum() == 0 :\n",
    "        full_listA_31.append(col)\n",
    "        continue\n",
    "    nan_listA_31.append([col, trainA_31[col].isnull().sum()])\n",
    "    nan_cntA_31.append(trainA_31[col].isnull().sum())\n",
    "    nan_colA_31.append(col)"
   ]
  },
  {
   "cell_type": "code",
   "execution_count": 12,
   "id": "royal-infection",
   "metadata": {},
   "outputs": [
    {
     "data": {
      "text/html": [
       "<div>\n",
       "<style scoped>\n",
       "    .dataframe tbody tr th:only-of-type {\n",
       "        vertical-align: middle;\n",
       "    }\n",
       "\n",
       "    .dataframe tbody tr th {\n",
       "        vertical-align: top;\n",
       "    }\n",
       "\n",
       "    .dataframe thead th {\n",
       "        text-align: right;\n",
       "    }\n",
       "</style>\n",
       "<table border=\"1\" class=\"dataframe\">\n",
       "  <thead>\n",
       "    <tr style=\"text-align: right;\">\n",
       "      <th></th>\n",
       "      <th>PRODUCT_ID</th>\n",
       "      <th>Y_Class</th>\n",
       "      <th>Y_Quality</th>\n",
       "      <th>TIMESTAMP</th>\n",
       "      <th>LINE</th>\n",
       "      <th>PRODUCT_CODE</th>\n",
       "      <th>X_128</th>\n",
       "      <th>X_129</th>\n",
       "      <th>X_130</th>\n",
       "      <th>X_131</th>\n",
       "      <th>...</th>\n",
       "      <th>X_2870</th>\n",
       "      <th>X_2871</th>\n",
       "      <th>YEAR</th>\n",
       "      <th>MONTH</th>\n",
       "      <th>DAY</th>\n",
       "      <th>TIME</th>\n",
       "      <th>HOUR</th>\n",
       "      <th>TIME_MIN</th>\n",
       "      <th>sin_time</th>\n",
       "      <th>cos_time</th>\n",
       "    </tr>\n",
       "  </thead>\n",
       "  <tbody>\n",
       "    <tr>\n",
       "      <th>0</th>\n",
       "      <td>TRAIN_000</td>\n",
       "      <td>1</td>\n",
       "      <td>0.533433</td>\n",
       "      <td>2022-06-13 5:14</td>\n",
       "      <td>T050304</td>\n",
       "      <td>A_31</td>\n",
       "      <td>7813.0</td>\n",
       "      <td>7813.0</td>\n",
       "      <td>NaN</td>\n",
       "      <td>NaN</td>\n",
       "      <td>...</td>\n",
       "      <td>77.77</td>\n",
       "      <td>NaN</td>\n",
       "      <td>2022</td>\n",
       "      <td>6</td>\n",
       "      <td>13</td>\n",
       "      <td>5:14</td>\n",
       "      <td>5</td>\n",
       "      <td>314</td>\n",
       "      <td>0.965926</td>\n",
       "      <td>0.258819</td>\n",
       "    </tr>\n",
       "    <tr>\n",
       "      <th>1</th>\n",
       "      <td>TRAIN_001</td>\n",
       "      <td>2</td>\n",
       "      <td>0.541819</td>\n",
       "      <td>2022-06-13 5:22</td>\n",
       "      <td>T050307</td>\n",
       "      <td>A_31</td>\n",
       "      <td>NaN</td>\n",
       "      <td>NaN</td>\n",
       "      <td>19854.0</td>\n",
       "      <td>19854.0</td>\n",
       "      <td>...</td>\n",
       "      <td>72.55</td>\n",
       "      <td>NaN</td>\n",
       "      <td>2022</td>\n",
       "      <td>6</td>\n",
       "      <td>13</td>\n",
       "      <td>5:22</td>\n",
       "      <td>5</td>\n",
       "      <td>322</td>\n",
       "      <td>0.965926</td>\n",
       "      <td>0.258819</td>\n",
       "    </tr>\n",
       "    <tr>\n",
       "      <th>2</th>\n",
       "      <td>TRAIN_002</td>\n",
       "      <td>1</td>\n",
       "      <td>0.531267</td>\n",
       "      <td>2022-06-13 5:30</td>\n",
       "      <td>T050304</td>\n",
       "      <td>A_31</td>\n",
       "      <td>7815.0</td>\n",
       "      <td>7815.0</td>\n",
       "      <td>NaN</td>\n",
       "      <td>NaN</td>\n",
       "      <td>...</td>\n",
       "      <td>78.35</td>\n",
       "      <td>NaN</td>\n",
       "      <td>2022</td>\n",
       "      <td>6</td>\n",
       "      <td>13</td>\n",
       "      <td>5:30</td>\n",
       "      <td>5</td>\n",
       "      <td>330</td>\n",
       "      <td>0.965926</td>\n",
       "      <td>0.258819</td>\n",
       "    </tr>\n",
       "  </tbody>\n",
       "</table>\n",
       "<p>3 rows × 2130 columns</p>\n",
       "</div>"
      ],
      "text/plain": [
       "  PRODUCT_ID  Y_Class  Y_Quality        TIMESTAMP     LINE PRODUCT_CODE  \\\n",
       "0  TRAIN_000        1   0.533433  2022-06-13 5:14  T050304         A_31   \n",
       "1  TRAIN_001        2   0.541819  2022-06-13 5:22  T050307         A_31   \n",
       "2  TRAIN_002        1   0.531267  2022-06-13 5:30  T050304         A_31   \n",
       "\n",
       "    X_128   X_129    X_130    X_131  ...  X_2870  X_2871  YEAR  MONTH  DAY  \\\n",
       "0  7813.0  7813.0      NaN      NaN  ...   77.77     NaN  2022      6   13   \n",
       "1     NaN     NaN  19854.0  19854.0  ...   72.55     NaN  2022      6   13   \n",
       "2  7815.0  7815.0      NaN      NaN  ...   78.35     NaN  2022      6   13   \n",
       "\n",
       "   TIME  HOUR  TIME_MIN  sin_time  cos_time  \n",
       "0  5:14     5       314  0.965926  0.258819  \n",
       "1  5:22     5       322  0.965926  0.258819  \n",
       "2  5:30     5       330  0.965926  0.258819  \n",
       "\n",
       "[3 rows x 2130 columns]"
      ]
     },
     "execution_count": 12,
     "metadata": {},
     "output_type": "execute_result"
    }
   ],
   "source": [
    "'''모든값이 결측값이면 제거'''\n",
    "del_col = []\n",
    "for col in nan_listA_31 :\n",
    "    if col[1] == len(trainA_31) :\n",
    "        del_col.append(col[0])\n",
    "trainA_31 = trainA_31.drop(columns=del_col)\n",
    "testA_31 = testA_31.drop(columns=del_col)\n",
    "trainA_31.head(3)"
   ]
  },
  {
   "cell_type": "code",
   "execution_count": 13,
   "id": "dated-chart",
   "metadata": {},
   "outputs": [],
   "source": [
    "col_list = train.columns\n",
    "nan_listT_O = []\n",
    "nan_cntT_O = []\n",
    "nan_colT_O = []\n",
    "full_listT_O = []\n",
    "for col in col_list:\n",
    "    if train_T_O[col].isnull().sum() == 0 :\n",
    "        full_listT_O.append(col)\n",
    "        continue\n",
    "    nan_listT_O.append([col, train_T_O[col].isnull().sum()])\n",
    "    nan_cntT_O.append(train_T_O[col].isnull().sum())\n",
    "    nan_colT_O.append(col)"
   ]
  },
  {
   "cell_type": "code",
   "execution_count": 14,
   "id": "empirical-lighter",
   "metadata": {},
   "outputs": [
    {
     "data": {
      "text/html": [
       "<div>\n",
       "<style scoped>\n",
       "    .dataframe tbody tr th:only-of-type {\n",
       "        vertical-align: middle;\n",
       "    }\n",
       "\n",
       "    .dataframe tbody tr th {\n",
       "        vertical-align: top;\n",
       "    }\n",
       "\n",
       "    .dataframe thead th {\n",
       "        text-align: right;\n",
       "    }\n",
       "</style>\n",
       "<table border=\"1\" class=\"dataframe\">\n",
       "  <thead>\n",
       "    <tr style=\"text-align: right;\">\n",
       "      <th></th>\n",
       "      <th>PRODUCT_ID</th>\n",
       "      <th>Y_Class</th>\n",
       "      <th>Y_Quality</th>\n",
       "      <th>TIMESTAMP</th>\n",
       "      <th>LINE</th>\n",
       "      <th>PRODUCT_CODE</th>\n",
       "      <th>X_1</th>\n",
       "      <th>X_2</th>\n",
       "      <th>X_3</th>\n",
       "      <th>X_4</th>\n",
       "      <th>...</th>\n",
       "      <th>X_932</th>\n",
       "      <th>X_933</th>\n",
       "      <th>YEAR</th>\n",
       "      <th>MONTH</th>\n",
       "      <th>DAY</th>\n",
       "      <th>TIME</th>\n",
       "      <th>HOUR</th>\n",
       "      <th>TIME_MIN</th>\n",
       "      <th>sin_time</th>\n",
       "      <th>cos_time</th>\n",
       "    </tr>\n",
       "  </thead>\n",
       "  <tbody>\n",
       "    <tr>\n",
       "      <th>22</th>\n",
       "      <td>TRAIN_022</td>\n",
       "      <td>0</td>\n",
       "      <td>0.517719</td>\n",
       "      <td>2022-06-14 8:53</td>\n",
       "      <td>T100304</td>\n",
       "      <td>T_31</td>\n",
       "      <td>2.0</td>\n",
       "      <td>102.0</td>\n",
       "      <td>0.0</td>\n",
       "      <td>45.0</td>\n",
       "      <td>...</td>\n",
       "      <td>13.443333</td>\n",
       "      <td>13.2</td>\n",
       "      <td>2022</td>\n",
       "      <td>6</td>\n",
       "      <td>14</td>\n",
       "      <td>8:53</td>\n",
       "      <td>8</td>\n",
       "      <td>533</td>\n",
       "      <td>0.866025</td>\n",
       "      <td>-0.500000</td>\n",
       "    </tr>\n",
       "    <tr>\n",
       "      <th>23</th>\n",
       "      <td>TRAIN_023</td>\n",
       "      <td>0</td>\n",
       "      <td>0.519090</td>\n",
       "      <td>2022-06-14 9:01</td>\n",
       "      <td>T100304</td>\n",
       "      <td>T_31</td>\n",
       "      <td>2.0</td>\n",
       "      <td>102.0</td>\n",
       "      <td>0.0</td>\n",
       "      <td>45.0</td>\n",
       "      <td>...</td>\n",
       "      <td>NaN</td>\n",
       "      <td>NaN</td>\n",
       "      <td>2022</td>\n",
       "      <td>6</td>\n",
       "      <td>14</td>\n",
       "      <td>9:01</td>\n",
       "      <td>9</td>\n",
       "      <td>541</td>\n",
       "      <td>0.707107</td>\n",
       "      <td>-0.707107</td>\n",
       "    </tr>\n",
       "    <tr>\n",
       "      <th>25</th>\n",
       "      <td>TRAIN_025</td>\n",
       "      <td>1</td>\n",
       "      <td>0.529362</td>\n",
       "      <td>2022-06-19 9:11</td>\n",
       "      <td>T100304</td>\n",
       "      <td>T_31</td>\n",
       "      <td>2.0</td>\n",
       "      <td>97.0</td>\n",
       "      <td>0.0</td>\n",
       "      <td>45.0</td>\n",
       "      <td>...</td>\n",
       "      <td>13.454839</td>\n",
       "      <td>13.2</td>\n",
       "      <td>2022</td>\n",
       "      <td>6</td>\n",
       "      <td>19</td>\n",
       "      <td>9:11</td>\n",
       "      <td>9</td>\n",
       "      <td>551</td>\n",
       "      <td>0.707107</td>\n",
       "      <td>-0.707107</td>\n",
       "    </tr>\n",
       "  </tbody>\n",
       "</table>\n",
       "<p>3 rows × 691 columns</p>\n",
       "</div>"
      ],
      "text/plain": [
       "   PRODUCT_ID  Y_Class  Y_Quality        TIMESTAMP     LINE PRODUCT_CODE  X_1  \\\n",
       "22  TRAIN_022        0   0.517719  2022-06-14 8:53  T100304         T_31  2.0   \n",
       "23  TRAIN_023        0   0.519090  2022-06-14 9:01  T100304         T_31  2.0   \n",
       "25  TRAIN_025        1   0.529362  2022-06-19 9:11  T100304         T_31  2.0   \n",
       "\n",
       "      X_2  X_3   X_4  ...      X_932  X_933  YEAR  MONTH  DAY  TIME  HOUR  \\\n",
       "22  102.0  0.0  45.0  ...  13.443333   13.2  2022      6   14  8:53     8   \n",
       "23  102.0  0.0  45.0  ...        NaN    NaN  2022      6   14  9:01     9   \n",
       "25   97.0  0.0  45.0  ...  13.454839   13.2  2022      6   19  9:11     9   \n",
       "\n",
       "    TIME_MIN  sin_time  cos_time  \n",
       "22       533  0.866025 -0.500000  \n",
       "23       541  0.707107 -0.707107  \n",
       "25       551  0.707107 -0.707107  \n",
       "\n",
       "[3 rows x 691 columns]"
      ]
     },
     "execution_count": 14,
     "metadata": {},
     "output_type": "execute_result"
    }
   ],
   "source": [
    "'''모든값이 결측값이면 제거'''\n",
    "del_col = []\n",
    "for col in nan_listT_O :\n",
    "    if col[1] == len(train_T_O) :\n",
    "        del_col.append(col[0])\n",
    "train_T_O = train_T_O.drop(columns=del_col)\n",
    "test_T_O = test_T_O.drop(columns=del_col)\n",
    "train_T_O.head(3)"
   ]
  },
  {
   "cell_type": "code",
   "execution_count": 15,
   "id": "racial-necklace",
   "metadata": {},
   "outputs": [],
   "source": [
    "trainA_31_x = trainA_31.drop(columns=['PRODUCT_ID','TIMESTAMP','PRODUCT_CODE','DAY','Y_Class','Y_Quality','YEAR','MONTH','TIME'])\n",
    "testA_31_x = testA_31.drop(columns=['PRODUCT_ID','TIMESTAMP','PRODUCT_CODE','YEAR','DAY','MONTH','TIME'])\n",
    "train_T_O_x = train_T_O.drop(columns=['PRODUCT_ID','TIMESTAMP','Y_Class','Y_Quality','DAY','PRODUCT_CODE','YEAR','MONTH','TIME'])\n",
    "test_T_O_x = test_T_O.drop(columns=['PRODUCT_ID','TIMESTAMP','PRODUCT_CODE','YEAR','DAY','MONTH','TIME'])\n",
    "\n",
    "# classification\n",
    "trainA_31_y_c = trainA_31['Y_Class']\n",
    "train_T_O_y_c = train_T_O['Y_Class']\n",
    "\n",
    "# regression\n",
    "trainA_31_y_r = trainA_31['Y_Quality']\n",
    "train_T_O_y_r = train_T_O['Y_Quality']"
   ]
  },
  {
   "cell_type": "code",
   "execution_count": 16,
   "id": "saving-directory",
   "metadata": {},
   "outputs": [
    {
     "name": "stdout",
     "output_type": "stream",
     "text": [
      "(249, 2121) \n",
      " (67, 2121) \n",
      " (349, 682) \n",
      " (243, 682)\n"
     ]
    }
   ],
   "source": [
    "print(trainA_31_x.shape,'\\n',testA_31_x.shape,'\\n',train_T_O_x.shape,'\\n',test_T_O_x.shape)"
   ]
  },
  {
   "cell_type": "code",
   "execution_count": 17,
   "id": "continental-tuesday",
   "metadata": {},
   "outputs": [],
   "source": [
    "trainA_31_x=trainA_31_x.fillna(-1)\n",
    "testA_31_x=testA_31_x.fillna(-1)\n",
    "train_T_O_x=train_T_O_x.fillna(-1)\n",
    "test_T_O_x=test_T_O_x.fillna(-1)"
   ]
  },
  {
   "cell_type": "code",
   "execution_count": 24,
   "id": "split-defensive",
   "metadata": {},
   "outputs": [
    {
     "name": "stdout",
     "output_type": "stream",
     "text": [
      "Done.\n"
     ]
    }
   ],
   "source": [
    "# qualitative to quantitative\n",
    "qual_col = ['LINE']\n",
    "for i in qual_col:\n",
    "    le = LabelEncoder()\n",
    "    le = le.fit(trainA_31_x[i])\n",
    "    trainA_31_x[i] = le.transform(trainA_31_x[i])\n",
    "    \n",
    "    for label in np.unique(testA_31_x[i]): \n",
    "        if label not in le.classes_: \n",
    "            le.classes_ = np.append(le.classes_, label)\n",
    "    testA_31_x[i] = le.transform(testA_31_x[i]) \n",
    "print('Done.')"
   ]
  },
  {
   "cell_type": "code",
   "execution_count": 25,
   "id": "tired-gravity",
   "metadata": {},
   "outputs": [
    {
     "name": "stdout",
     "output_type": "stream",
     "text": [
      "Done.\n"
     ]
    }
   ],
   "source": [
    "# qualitative to quantitative\n",
    "qual_col = ['LINE']\n",
    "for i in qual_col:\n",
    "    le = LabelEncoder()\n",
    "    le = le.fit(train_T_O_x[i])\n",
    "    train_T_O_x[i] = le.transform(train_T_O_x[i])\n",
    "    \n",
    "    for label in np.unique(test_T_O_x[i]): \n",
    "        if label not in le.classes_: \n",
    "            le.classes_ = np.append(le.classes_, label)\n",
    "    test_T_O_x[i] = le.transform(test_T_O_x[i]) \n",
    "print('Done.')"
   ]
  },
  {
   "cell_type": "code",
   "execution_count": 19,
   "id": "cathedral-evolution",
   "metadata": {},
   "outputs": [],
   "source": [
    "from catboost import *"
   ]
  },
  {
   "cell_type": "code",
   "execution_count": 26,
   "id": "middle-yorkshire",
   "metadata": {},
   "outputs": [
    {
     "name": "stdout",
     "output_type": "stream",
     "text": [
      "Learning rate set to 0.051607\n",
      "0:\tlearn: 0.0097677\ttotal: 290ms\tremaining: 2m 24s\n",
      "499:\tlearn: 0.0001742\ttotal: 37.3s\tremaining: 0us\n"
     ]
    }
   ],
   "source": [
    "model = CatBoostRegressor(random_state=110,verbose=500,iterations=500)\n",
    "model.fit(trainA_31_x, trainA_31_y_r)\n",
    "pred_a = model.predict(testA_31_x)"
   ]
  },
  {
   "cell_type": "code",
   "execution_count": 27,
   "id": "silver-accent",
   "metadata": {},
   "outputs": [
    {
     "name": "stdout",
     "output_type": "stream",
     "text": [
      "Learning rate set to 0.054803\n",
      "0:\tlearn: 0.0046901\ttotal: 24.1ms\tremaining: 12s\n",
      "499:\tlearn: 0.0001228\ttotal: 16.9s\tremaining: 0us\n"
     ]
    }
   ],
   "source": [
    "model.fit(train_T_O_x, train_T_O_y_r)\n",
    "pred_t = model.predict(test_T_O_x)"
   ]
  },
  {
   "cell_type": "code",
   "execution_count": 28,
   "id": "violent-capability",
   "metadata": {},
   "outputs": [],
   "source": [
    "testA_31['Y_quanlity'] = pred_a\n",
    "test_T_O['Y_quanlity'] = pred_t"
   ]
  },
  {
   "cell_type": "code",
   "execution_count": 29,
   "id": "accurate-backing",
   "metadata": {},
   "outputs": [],
   "source": [
    "testA_31['Y_Class'] = 1\n",
    "test_T_O['Y_Class'] = 1"
   ]
  },
  {
   "cell_type": "code",
   "execution_count": 30,
   "id": "minimal-walker",
   "metadata": {},
   "outputs": [],
   "source": [
    "testA_31.loc[(testA_31['Y_quanlity']<0.52507), 'Y_Class'] = 0\n",
    "testA_31.loc[(testA_31['Y_quanlity']>0.5349), 'Y_Class'] = 2\n",
    "\n",
    "test_T_O.loc[(test_T_O['Y_quanlity']<0.52507), 'Y_Class'] = 0\n",
    "test_T_O.loc[(test_T_O['Y_quanlity']>0.5349), 'Y_Class'] = 2"
   ]
  },
  {
   "cell_type": "code",
   "execution_count": 31,
   "id": "downtown-dodge",
   "metadata": {},
   "outputs": [],
   "source": [
    "submita = pd.read_csv('sample_submission.csv')\n",
    "submitt = pd.read_csv('sample_submission.csv')"
   ]
  },
  {
   "cell_type": "code",
   "execution_count": 32,
   "id": "settled-boxing",
   "metadata": {},
   "outputs": [],
   "source": [
    "submita = pd.merge(submita[['PRODUCT_ID']],testA_31[['PRODUCT_ID','Y_Class']],on='PRODUCT_ID')\n",
    "submitt = pd.merge(submitt[['PRODUCT_ID']],test_T_O[['PRODUCT_ID','Y_Class']],on='PRODUCT_ID')\n",
    "\n",
    "pd.concat([submita,submitt]).sort_values(by='PRODUCT_ID').to_csv('sub0203_cat_reg.csv',index=False)"
   ]
  },
  {
   "cell_type": "code",
   "execution_count": 36,
   "id": "elegant-command",
   "metadata": {},
   "outputs": [
    {
     "data": {
      "text/plain": [
       "array([0, 1, 1, 1, 1, 1, 1, 1, 2, 1, 0, 0, 1, 1, 0, 2, 0, 1, 1, 0, 1, 0,\n",
       "       1, 0, 0, 1, 0, 0, 0, 0, 1, 1, 0, 1, 0, 1, 1, 1, 1, 1, 1, 1, 1, 1,\n",
       "       0, 1, 1, 1, 1, 1, 0, 0, 0, 1, 0, 0, 1, 1, 0, 0, 1, 1, 0, 0, 0, 0,\n",
       "       0], dtype=int64)"
      ]
     },
     "execution_count": 36,
     "metadata": {},
     "output_type": "execute_result"
    }
   ],
   "source": [
    "testA_31['Y_Class'].values"
   ]
  },
  {
   "cell_type": "code",
   "execution_count": 35,
   "id": "loved-hughes",
   "metadata": {},
   "outputs": [
    {
     "data": {
      "text/plain": [
       "array([1, 1, 1, 1, 1, 1, 1, 1, 1, 1, 1, 1, 1, 1, 1, 1, 1, 1, 1, 1, 1, 1,\n",
       "       1, 1, 1, 1, 1, 0, 1, 0, 1, 0, 0, 1, 1, 1, 1, 0, 1, 1, 1, 1, 1, 1,\n",
       "       1, 1, 1, 2, 1, 1, 1, 1, 1, 1, 1, 1, 1, 1, 1, 1, 1, 1, 1, 1, 1, 1,\n",
       "       1, 1, 1, 1, 1, 1, 1, 1, 1, 1, 1, 1, 1, 1, 1, 1, 1, 1, 1, 1, 1, 1,\n",
       "       1, 2, 1, 1, 1, 1, 1, 1, 1, 1, 1, 1, 1, 1, 1, 1, 1, 1, 1, 1, 1, 1,\n",
       "       1, 1, 1, 2, 1, 2, 1, 1, 1, 1, 1, 1, 1, 1, 1, 1, 1, 1, 1, 1, 1, 1,\n",
       "       1, 1, 1, 2, 1, 1, 1, 1, 1, 1, 1, 1, 1, 1, 1, 1, 1, 1, 1, 1, 1, 1,\n",
       "       1, 1, 1, 1, 1, 1, 1, 1, 1, 1, 1, 1, 1, 1, 1, 1, 1, 1, 1, 1, 1, 1,\n",
       "       1, 1, 1, 1, 1, 1, 1, 1, 1, 1, 1, 1, 1, 1, 1, 1, 1, 1, 1, 1, 1, 1,\n",
       "       1, 1, 1, 1, 1, 1, 1, 1, 1, 1, 1, 1, 1, 1, 1, 1, 1, 1, 1, 1, 1, 1,\n",
       "       1, 1, 1, 1, 1, 1, 1, 1, 1, 1, 1, 1, 1, 1, 1, 1, 1, 1, 1, 1, 1, 1,\n",
       "       1], dtype=int64)"
      ]
     },
     "execution_count": 35,
     "metadata": {},
     "output_type": "execute_result"
    }
   ],
   "source": [
    "test_T_O['Y_Class'].values"
   ]
  }
 ],
 "metadata": {
  "kernelspec": {
   "display_name": "Python 3",
   "language": "python",
   "name": "python3"
  },
  "language_info": {
   "codemirror_mode": {
    "name": "ipython",
    "version": 3
   },
   "file_extension": ".py",
   "mimetype": "text/x-python",
   "name": "python",
   "nbconvert_exporter": "python",
   "pygments_lexer": "ipython3",
   "version": "3.8.8"
  }
 },
 "nbformat": 4,
 "nbformat_minor": 5
}
