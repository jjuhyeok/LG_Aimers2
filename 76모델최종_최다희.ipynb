{
 "cells": [
  {
   "cell_type": "markdown",
   "id": "52c50cc9",
   "metadata": {},
   "source": [
    "## import & version"
   ]
  },
  {
   "cell_type": "code",
   "execution_count": 11,
   "id": "5035356f",
   "metadata": {},
   "outputs": [],
   "source": [
    "import pandas as pd\n",
    "import numpy as np\n",
    "import warnings\n",
    "warnings.filterwarnings(action='ignore')\n",
    "import catboost\n",
    "from catboost import *\n",
    "import sklearn\n",
    "from sklearn.preprocessing import LabelEncoder\n",
    "import sys"
   ]
  },
  {
   "cell_type": "code",
   "execution_count": 17,
   "id": "d44e26e7",
   "metadata": {},
   "outputs": [
    {
     "name": "stdout",
     "output_type": "stream",
     "text": [
      " pandas version   :  1.5.2 \n",
      " numpy version    :  1.23.5 \n",
      " catboost version :  1.0.6 \n",
      " sklearn version  :  1.2.0 \n",
      " python version   :  3.9.16 (main, Jan 11 2023, 10:02:19) \n",
      "[Clang 14.0.6 ]\n"
     ]
    }
   ],
   "source": [
    "print(' pandas version   : ',pd.__version__,'\\n',\n",
    "       'numpy version    : ',np.__version__,'\\n',\n",
    "       'catboost version : ',catboost.__version__,'\\n',\n",
    "       'sklearn version  : ',sklearn.__version__,'\\n',\n",
    "       'python version   : ',sys.version)"
   ]
  },
  {
   "cell_type": "markdown",
   "id": "1c1690b0",
   "metadata": {},
   "source": [
    "## Feature Engineering\n",
    "#### 함수 정의"
   ]
  },
  {
   "cell_type": "code",
   "execution_count": 40,
   "id": "6fe3402e",
   "metadata": {},
   "outputs": [],
   "source": [
    "def del_columns(train, test):\n",
    "    \n",
    "    '''\n",
    "    모든 값이 결측값이거나,\n",
    "    유니크값이 1개인 경우 제거\n",
    "    '''\n",
    "    \n",
    "    col_list = train.columns\n",
    "    nan_list = []\n",
    "    nan_cnt = []\n",
    "    nan_col = []\n",
    "    full_list = []\n",
    "    for col in col_list:\n",
    "        if train[col].isnull().sum() == 0 :\n",
    "            full_list.append(col)\n",
    "            continue\n",
    "        nan_list.append([col, train[col].isnull().sum()])\n",
    "        nan_cnt.append(train[col].isnull().sum())\n",
    "        nan_col.append(col)\n",
    "\n",
    "    del_col = []\n",
    "    for col in nan_list :\n",
    "        if col[1] == len(train) :\n",
    "            del_col.append(col[0])\n",
    "    train = train.drop(columns=del_col)\n",
    "    test = test.drop(columns=del_col)\n",
    "\n",
    "    del_col = []\n",
    "    col_list = train.describe().columns\n",
    "    for col in col_list :\n",
    "        if col == 'Y_Class':\n",
    "            continue\n",
    "        if col == 'Y_Quality':\n",
    "            continue\n",
    "        if col == 'LINE':\n",
    "            continue\n",
    "        if col == 'PRODUCT_CODE':\n",
    "            continue\n",
    "        if train[col].nunique()==1 :\n",
    "            del_col.append(col)\n",
    "    train = train.drop(columns=del_col)\n",
    "    test = test.drop(columns=del_col)\n",
    "    \n",
    "    return train,test\n",
    "   \n",
    "def make_train_test_dataset(train,test):\n",
    "    \n",
    "    '''\n",
    "    트레인데이터, 학습데이터 셋 만들기\n",
    "    '''\n",
    "    \n",
    "    train_x = train.drop(columns=['PRODUCT_ID','TIMESTAMP','PRODUCT_CODE','Y_Class','Y_Quality'])\n",
    "    test_x = test.drop(columns=['PRODUCT_ID','TIMESTAMP','PRODUCT_CODE'])\n",
    "    train_y = train['Y_Quality']\n",
    "    train_w = train[['Y_Class']]\n",
    "    return train_x, test_x, train_y, train_w\n",
    "\n",
    "def fillna(train,test,value):\n",
    "    \n",
    "    '''\n",
    "    입력받은 value로 결측치 대체\n",
    "    '''\n",
    "    \n",
    "    train = train.fillna(value)\n",
    "    test = test.fillna(value)\n",
    "    return train,test\n",
    "\n",
    "def labelencoder(train,test,col_list):\n",
    "    \n",
    "    '''\n",
    "    입력받은 피처에 대해 라벨인코딩 진행\n",
    "    '''\n",
    "    \n",
    "    qual_col = col_list\n",
    "    for i in qual_col:\n",
    "        le = LabelEncoder()\n",
    "        le = le.fit(train[i])\n",
    "        train[i] = le.transform(train[i])\n",
    "\n",
    "        for label in np.unique(test[i]): \n",
    "            if label not in le.classes_: \n",
    "                le.classes_ = np.append(le.classes_, label)\n",
    "        test[i] = le.transform(test[i]) \n",
    "    return train,test\n",
    "\n",
    "def pred_target(arr):\n",
    "    for i in range(len(arr)):\n",
    "        if arr[i] < -0.64421190232267 :\n",
    "            arr[i] = 0\n",
    "        elif arr[i] <= -0.6256814053066195 :\n",
    "            arr[i] = 1\n",
    "        else : \n",
    "            arr[i] = 2\n",
    "    return arr\n",
    "\n",
    "def make_dataset (train_path, test_path):\n",
    "\n",
    "    train = pd.read_csv(train_path)\n",
    "    test = pd.read_csv(test_path)\n",
    "\n",
    "    # y quality scaling\n",
    "    train['Y_Quality'] = train['Y_Quality'].map(lambda x : np.log(x))\n",
    "\n",
    "    train, test = del_columns(train,test)\n",
    "\n",
    "    trainA_31 = train[train['PRODUCT_CODE']=='A_31']\n",
    "    train_T_31 = train[train['PRODUCT_CODE']=='T_31']\n",
    "    train_O_31 = train[train['PRODUCT_CODE']=='O_31']\n",
    "\n",
    "    testA_31 = test[test['PRODUCT_CODE']=='A_31']\n",
    "    test_T_31 = test[test['PRODUCT_CODE']=='T_31']\n",
    "    test_O_31 = test[test['PRODUCT_CODE']=='O_31']\n",
    "\n",
    "    trainA_31, testA_31 = del_columns(trainA_31,testA_31)\n",
    "    train_T_31, test_T_31 = del_columns(train_T_31,test_T_31)\n",
    "    train_O_31, test_O_31 = del_columns(train_O_31,test_O_31)\n",
    "\n",
    "    trainA_31_x,testA_31_x, trainA_31_y, trainA_31_w = make_train_test_dataset(trainA_31,testA_31)\n",
    "    train_T_31_x,test_T_31_x, train_T_31_y, train_T_31_w = make_train_test_dataset(train_T_31,test_T_31)\n",
    "    train_O_31_x,test_O_31_x, train_O_31_y, train_O_31_w = make_train_test_dataset(train_O_31,test_O_31)\n",
    "\n",
    "    trainA_31_x,testA_31_x = labelencoder(trainA_31_x,testA_31_x,['LINE'])\n",
    "    train_T_31_x,test_T_31_x = labelencoder(train_T_31_x,test_T_31_x,['LINE'])\n",
    "    train_O_31_x,test_O_31_x = labelencoder(train_O_31_x,test_O_31_x,['LINE'])\n",
    "\n",
    "    trainA_31_x,testA_31_x = fillna(trainA_31_x,testA_31_x,-1)\n",
    "    train_T_31_x,test_T_31_x = fillna(train_T_31_x,test_T_31_x,-1)\n",
    "    train_O_31_x,test_O_31_x = fillna(train_O_31_x,test_O_31_x,-1)\n",
    "\n",
    "    print(\" train_a_shape : \",trainA_31_x.shape,testA_31_x.shape,'\\n',\n",
    "          \"train_t_shape : \",train_T_31_x.shape,test_T_31_x.shape,'\\n',\n",
    "          \"train_o_shape : \",train_O_31_x.shape,test_O_31_x.shape)\n",
    "    \n",
    "    return trainA_31_x,testA_31_x, trainA_31_y, testA_31,train_T_31_x,test_T_31_x, train_T_31_y, test_T_31,train_O_31_x,test_O_31_x, train_O_31_y,test_O_31"
   ]
  },
  {
   "cell_type": "markdown",
   "id": "4dcd91e7",
   "metadata": {},
   "source": [
    "#### 실행"
   ]
  },
  {
   "cell_type": "code",
   "execution_count": 19,
   "id": "eb73d213",
   "metadata": {},
   "outputs": [],
   "source": [
    "train_input = 'train.csv'\n",
    "test_input = 'test.csv'"
   ]
  },
  {
   "cell_type": "code",
   "execution_count": 41,
   "id": "f24f1a00",
   "metadata": {},
   "outputs": [
    {
     "name": "stdout",
     "output_type": "stream",
     "text": [
      " train_a_shape :  (249, 1866) (67, 1866) \n",
      " train_t_shape :  (343, 550) (239, 550) \n",
      " train_o_shape :  (6, 499) (4, 499)\n"
     ]
    }
   ],
   "source": [
    "train_A_31_x,test_A_31_x, train_A_31_y,test_A_31, train_T_31_x,test_T_31_x, train_T_31_y,test_T_31, train_O_31_x,test_O_31_x, train_O_31_y,test_O_31 = make_dataset(train_input,test_input)"
   ]
  },
  {
   "cell_type": "markdown",
   "id": "5753b76c",
   "metadata": {},
   "source": [
    "## 학습 및 예측"
   ]
  },
  {
   "cell_type": "code",
   "execution_count": 24,
   "id": "5d9adf01",
   "metadata": {},
   "outputs": [],
   "source": [
    "model = CatBoostRegressor(random_state=1234,verbose=500,iterations=1500,learning_rate=0.033)"
   ]
  },
  {
   "cell_type": "code",
   "execution_count": 31,
   "id": "bc8daa29",
   "metadata": {},
   "outputs": [
    {
     "name": "stdout",
     "output_type": "stream",
     "text": [
      "0:\tlearn: 0.0183320\ttotal: 19.7ms\tremaining: 29.6s\n",
      "500:\tlearn: 0.0012455\ttotal: 7.35s\tremaining: 14.7s\n",
      "1000:\tlearn: 0.0001219\ttotal: 14.7s\tremaining: 7.33s\n",
      "1499:\tlearn: 0.0000129\ttotal: 22.1s\tremaining: 0us\n"
     ]
    }
   ],
   "source": [
    "model.fit(train_A_31_x, train_A_31_y)\n",
    "pred_a = model.predict(test_A_31_x)"
   ]
  },
  {
   "cell_type": "code",
   "execution_count": 32,
   "id": "4d5a3bb6",
   "metadata": {},
   "outputs": [],
   "source": [
    "pred_a = pred_target(pred_a)"
   ]
  },
  {
   "cell_type": "code",
   "execution_count": 33,
   "id": "8cba269a",
   "metadata": {},
   "outputs": [
    {
     "name": "stdout",
     "output_type": "stream",
     "text": [
      "0:\tlearn: 0.0089112\ttotal: 8.27ms\tremaining: 12.4s\n",
      "500:\tlearn: 0.0009494\ttotal: 2.9s\tremaining: 5.78s\n",
      "1000:\tlearn: 0.0001266\ttotal: 5.71s\tremaining: 2.84s\n",
      "1499:\tlearn: 0.0000173\ttotal: 8.58s\tremaining: 0us\n"
     ]
    }
   ],
   "source": [
    "model.fit(train_T_31_x, train_T_31_y)\n",
    "pred_t = model.predict(test_T_31_x)"
   ]
  },
  {
   "cell_type": "code",
   "execution_count": 34,
   "id": "5de05069",
   "metadata": {},
   "outputs": [],
   "source": [
    "pred_t = pred_target(pred_t)"
   ]
  },
  {
   "cell_type": "code",
   "execution_count": 35,
   "id": "6bc036bb",
   "metadata": {},
   "outputs": [
    {
     "name": "stdout",
     "output_type": "stream",
     "text": [
      "0:\tlearn: 0.0059697\ttotal: 1.91ms\tremaining: 2.86s\n",
      "500:\tlearn: 0.0000906\ttotal: 656ms\tremaining: 1.31s\n",
      "1000:\tlearn: 0.0000014\ttotal: 1.26s\tremaining: 626ms\n",
      "1499:\tlearn: 0.0000000\ttotal: 1.85s\tremaining: 0us\n"
     ]
    }
   ],
   "source": [
    "model.fit(train_O_31_x, train_O_31_y)\n",
    "pred_o = model.predict(test_O_31_x)"
   ]
  },
  {
   "cell_type": "code",
   "execution_count": 36,
   "id": "0d5ea056",
   "metadata": {},
   "outputs": [],
   "source": [
    "pred_o = pred_target(pred_o)"
   ]
  },
  {
   "cell_type": "code",
   "execution_count": 47,
   "id": "a6922259",
   "metadata": {},
   "outputs": [],
   "source": [
    "test_A_31['Y_Class'] = pred_a\n",
    "test_T_31['Y_Class'] = pred_t\n",
    "test_O_31['Y_Class'] = pred_o\n",
    "\n",
    "submita = pd.read_csv('sample_submission.csv')\n",
    "submitt = pd.read_csv('sample_submission.csv')\n",
    "submito = pd.read_csv('sample_submission.csv')\n",
    "\n",
    "submita = pd.merge(submita[['PRODUCT_ID']],test_A_31[['PRODUCT_ID','Y_Class']],on='PRODUCT_ID')\n",
    "submitt = pd.merge(submitt[['PRODUCT_ID']],test_T_31[['PRODUCT_ID','Y_Class']],on='PRODUCT_ID')\n",
    "submito = pd.merge(submito[['PRODUCT_ID']],test_O_31[['PRODUCT_ID','Y_Class']],on='PRODUCT_ID')\n",
    "\n",
    "submit_final = pd.concat([submita,submitt,submito]).sort_values(by='PRODUCT_ID')\n",
    "submit_final['Y_Class'] = submit_final['Y_Class'].astype('int')\n",
    "submit_final.to_csv('final_test.csv',index=False)"
   ]
  }
 ],
 "metadata": {
  "kernelspec": {
   "display_name": "Python 3 (ipykernel)",
   "language": "python",
   "name": "python3"
  },
  "language_info": {
   "codemirror_mode": {
    "name": "ipython",
    "version": 3
   },
   "file_extension": ".py",
   "mimetype": "text/x-python",
   "name": "python",
   "nbconvert_exporter": "python",
   "pygments_lexer": "ipython3",
   "version": "3.9.16"
  }
 },
 "nbformat": 4,
 "nbformat_minor": 5
}
