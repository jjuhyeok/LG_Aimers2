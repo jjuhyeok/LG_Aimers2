{
  "cells": [
    {
      "cell_type": "code",
      "source": [
        "from google.colab import drive\n",
        "drive.mount('/content/drive')"
      ],
      "metadata": {
        "colab": {
          "base_uri": "https://localhost:8080/"
        },
        "id": "2L3xrpqoe1iY",
        "outputId": "e5feb096-ac3d-4002-b977-3fd1440d6ea6"
      },
      "id": "2L3xrpqoe1iY",
      "execution_count": 3,
      "outputs": [
        {
          "output_type": "stream",
          "name": "stdout",
          "text": [
            "Mounted at /content/drive\n"
          ]
        }
      ]
    },
    {
      "cell_type": "code",
      "execution_count": 4,
      "id": "spectacular-freeware",
      "metadata": {
        "id": "spectacular-freeware"
      },
      "outputs": [],
      "source": [
        "import pandas as pd\n",
        "import numpy as np\n",
        "import re\n",
        "import seaborn as sns\n",
        "import matplotlib.pyplot as plt\n",
        "from sklearn.preprocessing import LabelEncoder\n",
        "#from category.encoders import OneHotEncoder\n",
        "import warnings\n",
        "import random\n",
        "import os\n",
        "plt.style.use('ggplot')\n",
        "warnings.filterwarnings(action='ignore')"
      ]
    },
    {
      "cell_type": "code",
      "execution_count": 5,
      "id": "funky-painting",
      "metadata": {
        "id": "funky-painting"
      },
      "outputs": [],
      "source": [
        "def seed_everything(seed):\n",
        "    random.seed(seed)\n",
        "    os.environ['PYTHONHASHSEED'] = str(seed)\n",
        "    np.random.seed(seed)\n",
        "seed_everything(37) # Seed 고정"
      ]
    },
    {
      "cell_type": "code",
      "execution_count": 47,
      "id": "dental-rental",
      "metadata": {
        "id": "dental-rental"
      },
      "outputs": [],
      "source": [
        "train = pd.read_csv('/content/drive/MyDrive/LG_Aimers2/open (7)/train.csv')\n",
        "test = pd.read_csv('/content/drive/MyDrive/LG_Aimers2/open (7)/test.csv')"
      ]
    },
    {
      "cell_type": "code",
      "execution_count": null,
      "id": "monetary-paris",
      "metadata": {
        "id": "monetary-paris"
      },
      "outputs": [],
      "source": [
        "# 124-127"
      ]
    },
    {
      "cell_type": "code",
      "execution_count": 48,
      "id": "critical-recovery",
      "metadata": {
        "colab": {
          "base_uri": "https://localhost:8080/",
          "height": 289
        },
        "id": "critical-recovery",
        "outputId": "cc45e78c-26e2-4846-e778-8edcf7642079"
      },
      "outputs": [
        {
          "output_type": "execute_result",
          "data": {
            "text/plain": [
              "  PRODUCT_ID  Y_Class  Y_Quality        TIMESTAMP     LINE PRODUCT_CODE  X_1  \\\n",
              "0  TRAIN_000        1   0.533433  2022-06-13 5:14  T050304         A_31  NaN   \n",
              "1  TRAIN_001        2   0.541819  2022-06-13 5:22  T050307         A_31  NaN   \n",
              "2  TRAIN_002        1   0.531267  2022-06-13 5:30  T050304         A_31  NaN   \n",
              "\n",
              "   X_2  X_3  X_4  ...  X_2862  X_2863      X_2864  X_2865  X_2866  X_2867  \\\n",
              "0  NaN  NaN  NaN  ...   189.0   383.0  368.296296   353.0   39.34   40.89   \n",
              "1  NaN  NaN  NaN  ...   185.6   383.0  367.735849   353.0   38.89   42.82   \n",
              "2  NaN  NaN  NaN  ...   165.5   383.0  367.320755   353.0   39.19   36.65   \n",
              "\n",
              "   X_2868  X_2869  X_2870  X_2871  \n",
              "0   32.56   34.09   77.77     NaN  \n",
              "1   43.92   35.34   72.55     NaN  \n",
              "2   42.47   36.53   78.35     NaN  \n",
              "\n",
              "[3 rows x 2799 columns]"
            ],
            "text/html": [
              "\n",
              "  <div id=\"df-e7d94068-6e59-4bab-85b5-6904eb54821d\">\n",
              "    <div class=\"colab-df-container\">\n",
              "      <div>\n",
              "<style scoped>\n",
              "    .dataframe tbody tr th:only-of-type {\n",
              "        vertical-align: middle;\n",
              "    }\n",
              "\n",
              "    .dataframe tbody tr th {\n",
              "        vertical-align: top;\n",
              "    }\n",
              "\n",
              "    .dataframe thead th {\n",
              "        text-align: right;\n",
              "    }\n",
              "</style>\n",
              "<table border=\"1\" class=\"dataframe\">\n",
              "  <thead>\n",
              "    <tr style=\"text-align: right;\">\n",
              "      <th></th>\n",
              "      <th>PRODUCT_ID</th>\n",
              "      <th>Y_Class</th>\n",
              "      <th>Y_Quality</th>\n",
              "      <th>TIMESTAMP</th>\n",
              "      <th>LINE</th>\n",
              "      <th>PRODUCT_CODE</th>\n",
              "      <th>X_1</th>\n",
              "      <th>X_2</th>\n",
              "      <th>X_3</th>\n",
              "      <th>X_4</th>\n",
              "      <th>...</th>\n",
              "      <th>X_2862</th>\n",
              "      <th>X_2863</th>\n",
              "      <th>X_2864</th>\n",
              "      <th>X_2865</th>\n",
              "      <th>X_2866</th>\n",
              "      <th>X_2867</th>\n",
              "      <th>X_2868</th>\n",
              "      <th>X_2869</th>\n",
              "      <th>X_2870</th>\n",
              "      <th>X_2871</th>\n",
              "    </tr>\n",
              "  </thead>\n",
              "  <tbody>\n",
              "    <tr>\n",
              "      <th>0</th>\n",
              "      <td>TRAIN_000</td>\n",
              "      <td>1</td>\n",
              "      <td>0.533433</td>\n",
              "      <td>2022-06-13 5:14</td>\n",
              "      <td>T050304</td>\n",
              "      <td>A_31</td>\n",
              "      <td>NaN</td>\n",
              "      <td>NaN</td>\n",
              "      <td>NaN</td>\n",
              "      <td>NaN</td>\n",
              "      <td>...</td>\n",
              "      <td>189.0</td>\n",
              "      <td>383.0</td>\n",
              "      <td>368.296296</td>\n",
              "      <td>353.0</td>\n",
              "      <td>39.34</td>\n",
              "      <td>40.89</td>\n",
              "      <td>32.56</td>\n",
              "      <td>34.09</td>\n",
              "      <td>77.77</td>\n",
              "      <td>NaN</td>\n",
              "    </tr>\n",
              "    <tr>\n",
              "      <th>1</th>\n",
              "      <td>TRAIN_001</td>\n",
              "      <td>2</td>\n",
              "      <td>0.541819</td>\n",
              "      <td>2022-06-13 5:22</td>\n",
              "      <td>T050307</td>\n",
              "      <td>A_31</td>\n",
              "      <td>NaN</td>\n",
              "      <td>NaN</td>\n",
              "      <td>NaN</td>\n",
              "      <td>NaN</td>\n",
              "      <td>...</td>\n",
              "      <td>185.6</td>\n",
              "      <td>383.0</td>\n",
              "      <td>367.735849</td>\n",
              "      <td>353.0</td>\n",
              "      <td>38.89</td>\n",
              "      <td>42.82</td>\n",
              "      <td>43.92</td>\n",
              "      <td>35.34</td>\n",
              "      <td>72.55</td>\n",
              "      <td>NaN</td>\n",
              "    </tr>\n",
              "    <tr>\n",
              "      <th>2</th>\n",
              "      <td>TRAIN_002</td>\n",
              "      <td>1</td>\n",
              "      <td>0.531267</td>\n",
              "      <td>2022-06-13 5:30</td>\n",
              "      <td>T050304</td>\n",
              "      <td>A_31</td>\n",
              "      <td>NaN</td>\n",
              "      <td>NaN</td>\n",
              "      <td>NaN</td>\n",
              "      <td>NaN</td>\n",
              "      <td>...</td>\n",
              "      <td>165.5</td>\n",
              "      <td>383.0</td>\n",
              "      <td>367.320755</td>\n",
              "      <td>353.0</td>\n",
              "      <td>39.19</td>\n",
              "      <td>36.65</td>\n",
              "      <td>42.47</td>\n",
              "      <td>36.53</td>\n",
              "      <td>78.35</td>\n",
              "      <td>NaN</td>\n",
              "    </tr>\n",
              "  </tbody>\n",
              "</table>\n",
              "<p>3 rows × 2799 columns</p>\n",
              "</div>\n",
              "      <button class=\"colab-df-convert\" onclick=\"convertToInteractive('df-e7d94068-6e59-4bab-85b5-6904eb54821d')\"\n",
              "              title=\"Convert this dataframe to an interactive table.\"\n",
              "              style=\"display:none;\">\n",
              "        \n",
              "  <svg xmlns=\"http://www.w3.org/2000/svg\" height=\"24px\"viewBox=\"0 0 24 24\"\n",
              "       width=\"24px\">\n",
              "    <path d=\"M0 0h24v24H0V0z\" fill=\"none\"/>\n",
              "    <path d=\"M18.56 5.44l.94 2.06.94-2.06 2.06-.94-2.06-.94-.94-2.06-.94 2.06-2.06.94zm-11 1L8.5 8.5l.94-2.06 2.06-.94-2.06-.94L8.5 2.5l-.94 2.06-2.06.94zm10 10l.94 2.06.94-2.06 2.06-.94-2.06-.94-.94-2.06-.94 2.06-2.06.94z\"/><path d=\"M17.41 7.96l-1.37-1.37c-.4-.4-.92-.59-1.43-.59-.52 0-1.04.2-1.43.59L10.3 9.45l-7.72 7.72c-.78.78-.78 2.05 0 2.83L4 21.41c.39.39.9.59 1.41.59.51 0 1.02-.2 1.41-.59l7.78-7.78 2.81-2.81c.8-.78.8-2.07 0-2.86zM5.41 20L4 18.59l7.72-7.72 1.47 1.35L5.41 20z\"/>\n",
              "  </svg>\n",
              "      </button>\n",
              "      \n",
              "  <style>\n",
              "    .colab-df-container {\n",
              "      display:flex;\n",
              "      flex-wrap:wrap;\n",
              "      gap: 12px;\n",
              "    }\n",
              "\n",
              "    .colab-df-convert {\n",
              "      background-color: #E8F0FE;\n",
              "      border: none;\n",
              "      border-radius: 50%;\n",
              "      cursor: pointer;\n",
              "      display: none;\n",
              "      fill: #1967D2;\n",
              "      height: 32px;\n",
              "      padding: 0 0 0 0;\n",
              "      width: 32px;\n",
              "    }\n",
              "\n",
              "    .colab-df-convert:hover {\n",
              "      background-color: #E2EBFA;\n",
              "      box-shadow: 0px 1px 2px rgba(60, 64, 67, 0.3), 0px 1px 3px 1px rgba(60, 64, 67, 0.15);\n",
              "      fill: #174EA6;\n",
              "    }\n",
              "\n",
              "    [theme=dark] .colab-df-convert {\n",
              "      background-color: #3B4455;\n",
              "      fill: #D2E3FC;\n",
              "    }\n",
              "\n",
              "    [theme=dark] .colab-df-convert:hover {\n",
              "      background-color: #434B5C;\n",
              "      box-shadow: 0px 1px 3px 1px rgba(0, 0, 0, 0.15);\n",
              "      filter: drop-shadow(0px 1px 2px rgba(0, 0, 0, 0.3));\n",
              "      fill: #FFFFFF;\n",
              "    }\n",
              "  </style>\n",
              "\n",
              "      <script>\n",
              "        const buttonEl =\n",
              "          document.querySelector('#df-e7d94068-6e59-4bab-85b5-6904eb54821d button.colab-df-convert');\n",
              "        buttonEl.style.display =\n",
              "          google.colab.kernel.accessAllowed ? 'block' : 'none';\n",
              "\n",
              "        async function convertToInteractive(key) {\n",
              "          const element = document.querySelector('#df-e7d94068-6e59-4bab-85b5-6904eb54821d');\n",
              "          const dataTable =\n",
              "            await google.colab.kernel.invokeFunction('convertToInteractive',\n",
              "                                                     [key], {});\n",
              "          if (!dataTable) return;\n",
              "\n",
              "          const docLinkHtml = 'Like what you see? Visit the ' +\n",
              "            '<a target=\"_blank\" href=https://colab.research.google.com/notebooks/data_table.ipynb>data table notebook</a>'\n",
              "            + ' to learn more about interactive tables.';\n",
              "          element.innerHTML = '';\n",
              "          dataTable['output_type'] = 'display_data';\n",
              "          await google.colab.output.renderOutput(dataTable, element);\n",
              "          const docLink = document.createElement('div');\n",
              "          docLink.innerHTML = docLinkHtml;\n",
              "          element.appendChild(docLink);\n",
              "        }\n",
              "      </script>\n",
              "    </div>\n",
              "  </div>\n",
              "  "
            ]
          },
          "metadata": {},
          "execution_count": 48
        }
      ],
      "source": [
        "col_list = train.columns\n",
        "nan_list = []\n",
        "nan_cnt = []\n",
        "nan_col = []\n",
        "full_list = []\n",
        "for col in col_list:\n",
        "    if train[col].isnull().sum() == 0 :\n",
        "        full_list.append(col)\n",
        "        continue\n",
        "    nan_list.append([col, train[col].isnull().sum()])\n",
        "    nan_cnt.append(train[col].isnull().sum())\n",
        "    nan_col.append(col)\n",
        "    \n",
        "'''모든값이 결측값이면 제거'''\n",
        "del_col = []\n",
        "for col in nan_list :\n",
        "    if col[1] == 598 :\n",
        "        del_col.append(col[0])\n",
        "train = train.drop(columns=del_col)\n",
        "test = test.drop(columns=del_col)\n",
        "train.head(3)"
      ]
    },
    {
      "cell_type": "code",
      "execution_count": 49,
      "id": "adverse-millennium",
      "metadata": {
        "id": "adverse-millennium"
      },
      "outputs": [],
      "source": [
        "trainA_31 = train[train['PRODUCT_CODE']=='A_31']\n",
        "train_T_31 = train[train['PRODUCT_CODE']=='T_31']\n",
        "train_O_31 = train[train['PRODUCT_CODE']=='O_31']\n",
        "\n",
        "testA_31 = test[test['PRODUCT_CODE']=='A_31']\n",
        "test_T_31 = test[test['PRODUCT_CODE']=='T_31']\n",
        "test_O_31 = test[test['PRODUCT_CODE']=='O_31']"
      ]
    },
    {
      "cell_type": "code",
      "execution_count": 50,
      "id": "appropriate-receipt",
      "metadata": {
        "id": "appropriate-receipt"
      },
      "outputs": [],
      "source": [
        "col_list = train.columns\n",
        "nan_listA_31 = []\n",
        "nan_cntA_31 = []\n",
        "nan_colA_31 = []\n",
        "full_listA_31 = []\n",
        "for col in col_list:\n",
        "    if trainA_31[col].isnull().sum() == 0 :\n",
        "        full_listA_31.append(col)\n",
        "        continue\n",
        "    nan_listA_31.append([col, trainA_31[col].isnull().sum()])\n",
        "    nan_cntA_31.append(trainA_31[col].isnull().sum())\n",
        "    nan_colA_31.append(col)\n",
        "    \n",
        "'''모든값이 결측값이면 제거'''\n",
        "del_col = []\n",
        "for col in nan_listA_31 :\n",
        "    if col[1] == len(trainA_31) :\n",
        "        del_col.append(col[0])\n",
        "trainA_31 = trainA_31.drop(columns=del_col)\n",
        "testA_31 = testA_31.drop(columns=del_col)\n",
        "\n",
        "'''값이 1개 존재하면 제거'''\n",
        "del_col = []\n",
        "col_list = trainA_31.columns\n",
        "for col in col_list[6:] :\n",
        "    if trainA_31[col].nunique()==1 :\n",
        "        del_col.append(col)\n",
        "trainA_31 = trainA_31.drop(columns=del_col)\n",
        "testA_31 = testA_31.drop(columns=del_col)"
      ]
    },
    {
      "cell_type": "code",
      "execution_count": 51,
      "id": "sophisticated-colon",
      "metadata": {
        "id": "sophisticated-colon"
      },
      "outputs": [],
      "source": [
        "col_list = train.columns\n",
        "nan_listO = []\n",
        "nan_cntO = []\n",
        "nan_colO = []\n",
        "full_listO = []\n",
        "for col in col_list:\n",
        "    if train_O_31[col].isnull().sum() == 0 :\n",
        "        full_listO.append(col)\n",
        "        continue\n",
        "    nan_listO.append([col, train_O_31[col].isnull().sum()])\n",
        "    nan_cntO.append(train_O_31[col].isnull().sum())\n",
        "    nan_colO.append(col)\n",
        "    \n",
        "'''모든값이 결측값이면 제거'''\n",
        "del_col = []\n",
        "for col in nan_listO :\n",
        "    if col[1] == len(train_O_31) :\n",
        "        del_col.append(col[0])\n",
        "train_O_31 = train_O_31.drop(columns=del_col)\n",
        "test_O_31 = test_O_31.drop(columns=del_col)\n",
        "\n",
        "'''값이 1개 존재하면 제거'''\n",
        "del_col = []\n",
        "col_list = train_O_31.columns\n",
        "for col in col_list[6:] :\n",
        "    if train_O_31[col].nunique()==1 :\n",
        "        del_col.append(col)\n",
        "train_O_31 = train_O_31.drop(columns=del_col)\n",
        "test_O_31 = test_O_31.drop(columns=del_col)"
      ]
    },
    {
      "cell_type": "code",
      "execution_count": 52,
      "id": "massive-dominican",
      "metadata": {
        "id": "massive-dominican"
      },
      "outputs": [],
      "source": [
        "col_list = train.columns\n",
        "nan_listT = []\n",
        "nan_cntT = []\n",
        "nan_colT = []\n",
        "full_listT = []\n",
        "for col in col_list:\n",
        "    if train_T_31[col].isnull().sum() == 0 :\n",
        "        full_listT.append(col)\n",
        "        continue\n",
        "    nan_listT.append([col, train_T_31[col].isnull().sum()])\n",
        "    nan_cntT.append(train_T_31[col].isnull().sum())\n",
        "    nan_colT.append(col)\n",
        "    \n",
        "'''모든값이 결측값이면 제거'''\n",
        "del_col = []\n",
        "for col in nan_listT :\n",
        "    if col[1] == len(train_T_31) :\n",
        "        del_col.append(col[0])\n",
        "train_T_31 = train_T_31.drop(columns=del_col)\n",
        "test_T_31 = test_T_31.drop(columns=del_col)\n",
        "\n",
        "'''값이 1개 존재하면 제거'''\n",
        "del_col = []\n",
        "col_list = train_T_31.columns\n",
        "for col in col_list[6:] :\n",
        "    if train_T_31[col].nunique()==1 :\n",
        "        del_col.append(col)\n",
        "train_T_31 = train_T_31.drop(columns=del_col)\n",
        "test_T_31 = test_T_31.drop(columns=del_col)"
      ]
    },
    {
      "cell_type": "code",
      "execution_count": 53,
      "id": "swiss-density",
      "metadata": {
        "id": "swiss-density"
      },
      "outputs": [],
      "source": [
        "trainA_31_x = trainA_31.drop(columns=['PRODUCT_ID','TIMESTAMP','PRODUCT_CODE','Y_Class','Y_Quality'])\n",
        "testA_31_x = testA_31.drop(columns=['PRODUCT_ID','TIMESTAMP','PRODUCT_CODE'])\n",
        "train_T_31_x = train_T_31.drop(columns=['PRODUCT_ID','TIMESTAMP','Y_Class','Y_Quality','PRODUCT_CODE'])\n",
        "test_T_31_x = test_T_31.drop(columns=['PRODUCT_ID','TIMESTAMP','PRODUCT_CODE'])\n",
        "train_O_31_x = train_O_31.drop(columns=['PRODUCT_ID','TIMESTAMP','PRODUCT_CODE','Y_Class','Y_Quality'])\n",
        "test_O_31_x = test_O_31.drop(columns=['PRODUCT_ID','TIMESTAMP','PRODUCT_CODE'])\n",
        "\n",
        "# classification\n",
        "trainA_31_y_c = trainA_31['Y_Class']\n",
        "train_T_31_y_c = train_T_31['Y_Class']\n",
        "train_O_31_y_c = train_O_31['Y_Class']\n",
        "\n",
        "# regression\n",
        "trainA_31_y_r = trainA_31['Y_Quality']\n",
        "train_T_31_y_r = train_T_31['Y_Quality']\n",
        "train_O_31_y_r = train_O_31['Y_Quality']"
      ]
    },
    {
      "cell_type": "code",
      "execution_count": 54,
      "id": "royal-worry",
      "metadata": {
        "colab": {
          "base_uri": "https://localhost:8080/"
        },
        "id": "royal-worry",
        "outputId": "3568daaa-a68a-4c16-ad61-af44a4445ec7"
      },
      "outputs": [
        {
          "output_type": "stream",
          "name": "stdout",
          "text": [
            "(249, 1866) \n",
            " (67, 1866) \n",
            " (343, 550) \n",
            " (239, 550) \n",
            " (6, 499) \n",
            " (4, 499)\n"
          ]
        }
      ],
      "source": [
        "print(trainA_31_x.shape,'\\n',testA_31_x.shape,'\\n',train_T_31_x.shape,'\\n',test_T_31_x.shape,'\\n',train_O_31_x.shape,'\\n',test_O_31_x.shape)"
      ]
    },
    {
      "cell_type": "code",
      "execution_count": 55,
      "id": "outstanding-marker",
      "metadata": {
        "colab": {
          "base_uri": "https://localhost:8080/"
        },
        "id": "outstanding-marker",
        "outputId": "30b4f586-2e89-422d-8c4d-3e4789def9b3"
      },
      "outputs": [
        {
          "output_type": "execute_result",
          "data": {
            "text/plain": [
              "array(['T050304', 'T050307', 'T010306', 'T010305'], dtype=object)"
            ]
          },
          "metadata": {},
          "execution_count": 55
        }
      ],
      "source": [
        "trainA_31_x['LINE'].unique()"
      ]
    },
    {
      "cell_type": "code",
      "execution_count": 56,
      "id": "powered-bottom",
      "metadata": {
        "colab": {
          "base_uri": "https://localhost:8080/"
        },
        "id": "powered-bottom",
        "outputId": "9a5663b3-b542-4346-adac-2b67422f48b5"
      },
      "outputs": [
        {
          "output_type": "execute_result",
          "data": {
            "text/plain": [
              "array(['T010305', 'T010306', 'T050304', 'T050307'], dtype=object)"
            ]
          },
          "metadata": {},
          "execution_count": 56
        }
      ],
      "source": [
        "testA_31_x['LINE'].unique()"
      ]
    },
    {
      "cell_type": "code",
      "execution_count": 57,
      "id": "appreciated-environment",
      "metadata": {
        "colab": {
          "base_uri": "https://localhost:8080/"
        },
        "id": "appreciated-environment",
        "outputId": "1b9ebb04-ad79-44bb-be0f-04a1d6dc570f"
      },
      "outputs": [
        {
          "output_type": "stream",
          "name": "stdout",
          "text": [
            "0 \n",
            " 0 \n",
            " 0 \n",
            " 0 \n",
            " 0 \n",
            " 0 \n",
            " 0 \n",
            " 0\n"
          ]
        }
      ],
      "source": [
        "print(len(trainA_31_x[trainA_31_x['LINE']==0]),'\\n',\n",
        "len(trainA_31_x[trainA_31_x['LINE']==1]),'\\n',\n",
        "len(trainA_31_x[trainA_31_x['LINE']==2]),'\\n',\n",
        "len(trainA_31_x[trainA_31_x['LINE']==3]),'\\n',\n",
        "len(testA_31_x[testA_31_x['LINE']==0]),'\\n',\n",
        "len(testA_31_x[testA_31_x['LINE']==1]),'\\n',\n",
        "len(testA_31_x[testA_31_x['LINE']==2]),'\\n',\n",
        "len(testA_31_x[testA_31_x['LINE']==3]))"
      ]
    },
    {
      "cell_type": "code",
      "execution_count": 58,
      "id": "perceived-nylon",
      "metadata": {
        "id": "perceived-nylon"
      },
      "outputs": [],
      "source": [
        "trainA_31_x=trainA_31_x.fillna(-1)\n",
        "testA_31_x=testA_31_x.fillna(-1)\n",
        "train_T_31_x=train_T_31_x.fillna(-1)\n",
        "test_T_31_x=test_T_31_x.fillna(-1)\n",
        "train_O_31_x=train_O_31_x.fillna(-1)\n",
        "test_O_31_x=test_O_31_x.fillna(-1)"
      ]
    },
    {
      "cell_type": "code",
      "execution_count": 59,
      "id": "sought-flour",
      "metadata": {
        "colab": {
          "base_uri": "https://localhost:8080/"
        },
        "id": "sought-flour",
        "outputId": "ed9ae2da-6a94-41cf-e959-b5cc472fee2d"
      },
      "outputs": [
        {
          "output_type": "stream",
          "name": "stdout",
          "text": [
            "Done.\n"
          ]
        }
      ],
      "source": [
        "# qualitative to quantitative\n",
        "qual_col = ['LINE']\n",
        "for i in qual_col:\n",
        "    le = LabelEncoder()\n",
        "    le = le.fit(trainA_31_x[i])\n",
        "    trainA_31_x[i] = le.transform(trainA_31_x[i])\n",
        "    \n",
        "    for label in np.unique(testA_31_x[i]): \n",
        "        if label not in le.classes_: \n",
        "            le.classes_ = np.append(le.classes_, label)\n",
        "    testA_31_x[i] = le.transform(testA_31_x[i]) \n",
        "print('Done.')"
      ]
    },
    {
      "cell_type": "code",
      "execution_count": 60,
      "id": "alone-modification",
      "metadata": {
        "colab": {
          "base_uri": "https://localhost:8080/"
        },
        "id": "alone-modification",
        "outputId": "7f24c436-c72f-41ad-a088-4f02ed8f34ab"
      },
      "outputs": [
        {
          "output_type": "stream",
          "name": "stdout",
          "text": [
            "Done.\n"
          ]
        }
      ],
      "source": [
        "# qualitative to quantitative\n",
        "qual_col = ['LINE']\n",
        "for i in qual_col:\n",
        "    le = LabelEncoder()\n",
        "    le = le.fit(train_T_31_x[i])\n",
        "    train_T_31_x[i] = le.transform(train_T_31_x[i])\n",
        "    \n",
        "    for label in np.unique(test_T_31_x[i]): \n",
        "        if label not in le.classes_: \n",
        "            le.classes_ = np.append(le.classes_, label)\n",
        "    test_T_31_x[i] = le.transform(test_T_31_x[i]) \n",
        "print('Done.')"
      ]
    },
    {
      "cell_type": "code",
      "execution_count": 61,
      "id": "associate-threat",
      "metadata": {
        "colab": {
          "base_uri": "https://localhost:8080/"
        },
        "id": "associate-threat",
        "outputId": "7114c845-08d7-49b7-a78e-20ad91cac2ae"
      },
      "outputs": [
        {
          "output_type": "stream",
          "name": "stdout",
          "text": [
            "Done.\n"
          ]
        }
      ],
      "source": [
        "# qualitative to quantitative\n",
        "qual_col = ['LINE']\n",
        "for i in qual_col:\n",
        "    le = LabelEncoder()\n",
        "    le = le.fit(train_O_31_x[i])\n",
        "    train_O_31_x[i] = le.transform(train_O_31_x[i])\n",
        "    \n",
        "    for label in np.unique(test_O_31_x[i]): \n",
        "        if label not in le.classes_: \n",
        "            le.classes_ = np.append(le.classes_, label)\n",
        "    test_O_31_x[i] = le.transform(test_O_31_x[i]) \n",
        "print('Done.')"
      ]
    },
    {
      "cell_type": "markdown",
      "source": [
        "# LOG"
      ],
      "metadata": {
        "id": "fTJv4eVNfV5T"
      },
      "id": "fTJv4eVNfV5T"
    },
    {
      "cell_type": "code",
      "source": [
        "trainA_31_x['X_1032'].min()"
      ],
      "metadata": {
        "colab": {
          "base_uri": "https://localhost:8080/"
        },
        "id": "j6hEppRSgClA",
        "outputId": "722bed37-6f61-41e6-bd78-9312e0abf5ba"
      },
      "id": "j6hEppRSgClA",
      "execution_count": 23,
      "outputs": [
        {
          "output_type": "execute_result",
          "data": {
            "text/plain": [
              "-1.0"
            ]
          },
          "metadata": {},
          "execution_count": 23
        }
      ]
    },
    {
      "cell_type": "code",
      "source": [
        "arr_A = []\n",
        "for col in trainA_31_x.columns:\n",
        "  if(trainA_31_x[col].min() < -3):\n",
        "    arr_A.append(col)\n",
        "    print(col,trainA_31_x[col].min())\n",
        "\n",
        "print(\"======================\")\n",
        "for col in testA_31_x.columns:\n",
        "  if(testA_31_x[col].min() < -3):\n",
        "    print(col,testA_31_x[col].min())"
      ],
      "metadata": {
        "colab": {
          "base_uri": "https://localhost:8080/"
        },
        "id": "di1se6bnfyUB",
        "outputId": "dac5287a-f1fd-4df8-d76b-edaaa660a0a5"
      },
      "id": "di1se6bnfyUB",
      "execution_count": 62,
      "outputs": [
        {
          "output_type": "stream",
          "name": "stdout",
          "text": [
            "X_953 -69.0\n",
            "X_954 -149.0\n",
            "X_955 -37.0\n",
            "X_956 -90.0\n",
            "X_1002 -60.79245283\n",
            "X_1078 -55.0\n",
            "X_1105 -55.0\n",
            "X_1132 -55.0\n",
            "X_1741 -4.0\n",
            "X_1745 -5.0\n",
            "X_1815 -6.0\n",
            "X_1819 -6.0\n",
            "======================\n",
            "X_953 -44.0\n",
            "X_954 -116.0\n",
            "X_955 -6.0\n",
            "X_956 -31.0\n",
            "X_1002 -13.88679245\n",
            "X_1078 -17.0\n",
            "X_1105 -17.0\n",
            "X_1132 -17.0\n",
            "X_1741 -4.0\n",
            "X_1745 -5.0\n",
            "X_1815 -6.0\n",
            "X_1819 -6.0\n"
          ]
        }
      ]
    },
    {
      "cell_type": "code",
      "source": [
        "arr_T = []\n",
        "for col in train_T_31_x.columns:\n",
        "  if(train_T_31_x[col].min() < -1):\n",
        "    arr_T.append(col)\n",
        "    print(col,train_T_31_x[col].min())\n",
        "\n",
        "print(\"======================\")\n",
        "for col in test_T_31_x.columns:\n",
        "  if(test_T_31_x[col].min() < -1):\n",
        "    print(col,test_T_31_x[col].min())\n",
        "\n",
        "arr_T"
      ],
      "metadata": {
        "colab": {
          "base_uri": "https://localhost:8080/"
        },
        "id": "Zkv8MmiKhV5a",
        "outputId": "9192464c-5904-4747-fe55-2698344541bb"
      },
      "id": "Zkv8MmiKhV5a",
      "execution_count": 63,
      "outputs": [
        {
          "output_type": "stream",
          "name": "stdout",
          "text": [
            "X_393 -10.0\n",
            "X_394 -100.0\n",
            "X_395 -190.0\n",
            "X_396 -260.0\n",
            "X_428 -219.2727273\n",
            "X_472 -250.0\n",
            "X_488 -250.0\n",
            "X_504 -250.0\n",
            "======================\n",
            "X_393 -10.0\n",
            "X_394 -90.0\n",
            "X_395 -60.0\n",
            "X_396 -170.0\n",
            "X_428 -105.0909091\n",
            "X_472 -70.0\n",
            "X_488 -70.0\n",
            "X_504 -70.0\n"
          ]
        },
        {
          "output_type": "execute_result",
          "data": {
            "text/plain": [
              "['X_393', 'X_394', 'X_395', 'X_396', 'X_428', 'X_472', 'X_488', 'X_504']"
            ]
          },
          "metadata": {},
          "execution_count": 63
        }
      ]
    },
    {
      "cell_type": "code",
      "source": [
        "arr_O = []\n",
        "for col in train_O_31_x.columns:\n",
        "  if(train_O_31_x[col].min() < -1):\n",
        "    arr_O.append(col)\n",
        "    print(col,train_O_31_x[col].min())\n",
        "\n",
        "print(\"======================\")\n",
        "for col in test_O_31_x.columns:\n",
        "  if(test_O_31_x[col].min() < -1):\n",
        "    print(col,test_O_31_x[col].min())\n",
        "arr_O"
      ],
      "metadata": {
        "colab": {
          "base_uri": "https://localhost:8080/"
        },
        "id": "XyMR0EgZhgLs",
        "outputId": "dce52569-a715-4a15-8323-9576f5e7ba5c"
      },
      "id": "XyMR0EgZhgLs",
      "execution_count": 64,
      "outputs": [
        {
          "output_type": "stream",
          "name": "stdout",
          "text": [
            "X_394 -20.0\n",
            "X_395 -30.0\n",
            "X_396 -70.0\n",
            "X_428 -52.36363636\n",
            "======================\n",
            "X_394 -20.0\n",
            "X_395 -30.0\n",
            "X_396 -70.0\n",
            "X_428 -53.63636364\n"
          ]
        },
        {
          "output_type": "execute_result",
          "data": {
            "text/plain": [
              "['X_394', 'X_395', 'X_396', 'X_428']"
            ]
          },
          "metadata": {},
          "execution_count": 64
        }
      ]
    },
    {
      "cell_type": "code",
      "source": [
        "import math"
      ],
      "metadata": {
        "id": "Z1iS4M_Zgp5Z"
      },
      "id": "Z1iS4M_Zgp5Z",
      "execution_count": 26,
      "outputs": []
    },
    {
      "cell_type": "code",
      "source": [
        "# 0값이 있는 피쳐 제외하고 log 변환 (log1p 사용 안함)\n",
        "basic_col = trainA_31_x.columns\n",
        "for col in basic_col:\n",
        "  if col in arr_A:\n",
        "    continue\n",
        "  trainA_31_x[col+\"_log\"] = trainA_31_x[col].apply(lambda x : math.log(x + 3))\n",
        "  testA_31_x[col+\"_log\"] = testA_31_x[col].apply(lambda x : math.log(x + 3))\n",
        "\n",
        "basic_col = train_T_31_x.columns\n",
        "for col in basic_col:\n",
        "  if col in arr_T:\n",
        "    continue\n",
        "  train_T_31_x[col+\"_log\"] = train_T_31_x[col].apply(lambda x : math.log(x + 3))\n",
        "  test_T_31_x[col+\"_log\"] = test_T_31_x[col].apply(lambda x : math.log(x + 3))\n",
        "\n",
        "basic_col = train_O_31_x.columns\n",
        "for col in basic_col:\n",
        "  if col in arr_O:\n",
        "    continue\n",
        "  train_O_31_x[col+\"_log\"] = train_O_31_x[col].apply(lambda x : math.log(x + 3))\n",
        "  test_O_31_x[col+\"_log\"] = test_O_31_x[col].apply(lambda x : math.log(x + 3))"
      ],
      "metadata": {
        "id": "Oep-_4--fWpn"
      },
      "id": "Oep-_4--fWpn",
      "execution_count": 65,
      "outputs": []
    },
    {
      "cell_type": "code",
      "execution_count": null,
      "id": "mathematical-minutes",
      "metadata": {
        "id": "mathematical-minutes"
      },
      "outputs": [],
      "source": [
        "#from imblearn.combine import SMOTETomek"
      ]
    },
    {
      "cell_type": "code",
      "source": [
        "!pip install catboost"
      ],
      "metadata": {
        "colab": {
          "base_uri": "https://localhost:8080/"
        },
        "id": "eotH5B5akjle",
        "outputId": "183cc497-e8c3-42d6-8732-bae17f07643b"
      },
      "id": "eotH5B5akjle",
      "execution_count": 66,
      "outputs": [
        {
          "output_type": "stream",
          "name": "stdout",
          "text": [
            "Looking in indexes: https://pypi.org/simple, https://us-python.pkg.dev/colab-wheels/public/simple/\n",
            "Collecting catboost\n",
            "  Downloading catboost-1.1.1-cp38-none-manylinux1_x86_64.whl (76.6 MB)\n",
            "\u001b[2K     \u001b[90m━━━━━━━━━━━━━━━━━━━━━━━━━━━━━━━━━━━━━━━━\u001b[0m \u001b[32m76.6/76.6 MB\u001b[0m \u001b[31m10.6 MB/s\u001b[0m eta \u001b[36m0:00:00\u001b[0m\n",
            "\u001b[?25hRequirement already satisfied: graphviz in /usr/local/lib/python3.8/dist-packages (from catboost) (0.10.1)\n",
            "Requirement already satisfied: matplotlib in /usr/local/lib/python3.8/dist-packages (from catboost) (3.2.2)\n",
            "Requirement already satisfied: pandas>=0.24.0 in /usr/local/lib/python3.8/dist-packages (from catboost) (1.3.5)\n",
            "Requirement already satisfied: numpy>=1.16.0 in /usr/local/lib/python3.8/dist-packages (from catboost) (1.21.6)\n",
            "Requirement already satisfied: plotly in /usr/local/lib/python3.8/dist-packages (from catboost) (5.5.0)\n",
            "Requirement already satisfied: six in /usr/local/lib/python3.8/dist-packages (from catboost) (1.15.0)\n",
            "Requirement already satisfied: scipy in /usr/local/lib/python3.8/dist-packages (from catboost) (1.7.3)\n",
            "Requirement already satisfied: python-dateutil>=2.7.3 in /usr/local/lib/python3.8/dist-packages (from pandas>=0.24.0->catboost) (2.8.2)\n",
            "Requirement already satisfied: pytz>=2017.3 in /usr/local/lib/python3.8/dist-packages (from pandas>=0.24.0->catboost) (2022.7.1)\n",
            "Requirement already satisfied: pyparsing!=2.0.4,!=2.1.2,!=2.1.6,>=2.0.1 in /usr/local/lib/python3.8/dist-packages (from matplotlib->catboost) (3.0.9)\n",
            "Requirement already satisfied: kiwisolver>=1.0.1 in /usr/local/lib/python3.8/dist-packages (from matplotlib->catboost) (1.4.4)\n",
            "Requirement already satisfied: cycler>=0.10 in /usr/local/lib/python3.8/dist-packages (from matplotlib->catboost) (0.11.0)\n",
            "Requirement already satisfied: tenacity>=6.2.0 in /usr/local/lib/python3.8/dist-packages (from plotly->catboost) (8.1.0)\n",
            "Installing collected packages: catboost\n",
            "Successfully installed catboost-1.1.1\n"
          ]
        }
      ]
    },
    {
      "cell_type": "code",
      "execution_count": 67,
      "id": "bridal-storage",
      "metadata": {
        "id": "bridal-storage"
      },
      "outputs": [],
      "source": [
        "from catboost import *"
      ]
    },
    {
      "cell_type": "code",
      "execution_count": 68,
      "id": "material-isolation",
      "metadata": {
        "colab": {
          "base_uri": "https://localhost:8080/"
        },
        "id": "material-isolation",
        "outputId": "efcd1651-cef0-4b1a-c137-73d58ab46210"
      },
      "outputs": [
        {
          "output_type": "stream",
          "name": "stdout",
          "text": [
            "0:\tlearn: 0.0098470\ttotal: 746ms\tremaining: 18m 38s\n",
            "500:\tlearn: 0.0006808\ttotal: 1m 32s\tremaining: 3m 4s\n",
            "1000:\tlearn: 0.0000696\ttotal: 3m 6s\tremaining: 1m 32s\n",
            "1499:\tlearn: 0.0000069\ttotal: 4m 34s\tremaining: 0us\n"
          ]
        }
      ],
      "source": [
        "model = CatBoostRegressor(random_state=1234,verbose=500,iterations=1500,learning_rate=0.033)\n",
        "model.fit(trainA_31_x, trainA_31_y_r)\n",
        "pred_a = model.predict(testA_31_x)"
      ]
    },
    {
      "cell_type": "code",
      "execution_count": 69,
      "id": "requested-acceptance",
      "metadata": {
        "colab": {
          "base_uri": "https://localhost:8080/"
        },
        "id": "requested-acceptance",
        "outputId": "73cb3a84-8aea-4368-83df-5426c90244ff"
      },
      "outputs": [
        {
          "output_type": "stream",
          "name": "stdout",
          "text": [
            "0:\tlearn: 0.0047248\ttotal: 68.9ms\tremaining: 1m 43s\n",
            "500:\tlearn: 0.0004849\ttotal: 32.9s\tremaining: 1m 5s\n",
            "1000:\tlearn: 0.0000566\ttotal: 1m 4s\tremaining: 32.3s\n",
            "1499:\tlearn: 0.0000068\ttotal: 1m 39s\tremaining: 0us\n"
          ]
        }
      ],
      "source": [
        "#model = CatBoostRegressor(random_state=110,verbose=500,iterations=500)\n",
        "model.fit(train_T_31_x, train_T_31_y_r)\n",
        "pred_t = model.predict(test_T_31_x)"
      ]
    },
    {
      "cell_type": "code",
      "execution_count": 70,
      "id": "driven-thong",
      "metadata": {
        "colab": {
          "base_uri": "https://localhost:8080/"
        },
        "id": "driven-thong",
        "outputId": "d2a6d743-7384-45ac-ce34-84b8bda20773"
      },
      "outputs": [
        {
          "output_type": "stream",
          "name": "stdout",
          "text": [
            "0:\tlearn: 0.0031704\ttotal: 7.21ms\tremaining: 10.8s\n",
            "500:\tlearn: 0.0000478\ttotal: 3.29s\tremaining: 6.57s\n",
            "1000:\tlearn: 0.0000008\ttotal: 8.35s\tremaining: 4.16s\n",
            "1499:\tlearn: 0.0000000\ttotal: 11.9s\tremaining: 0us\n"
          ]
        }
      ],
      "source": [
        "#model = CatBoostRegressor(random_state=110,verbose=500,iterations=500)\n",
        "model.fit(train_O_31_x, train_O_31_y_r)\n",
        "pred_o = model.predict(test_O_31_x)"
      ]
    },
    {
      "cell_type": "code",
      "execution_count": 71,
      "id": "intended-zimbabwe",
      "metadata": {
        "id": "intended-zimbabwe"
      },
      "outputs": [],
      "source": [
        "testA_31['Y_quanlity'] = pred_a\n",
        "test_T_31['Y_quanlity'] = pred_t\n",
        "test_O_31['Y_quanlity'] = pred_o"
      ]
    },
    {
      "cell_type": "code",
      "execution_count": 72,
      "id": "seventh-argentina",
      "metadata": {
        "id": "seventh-argentina"
      },
      "outputs": [],
      "source": [
        "testA_31['Y_Class'] = 1\n",
        "test_T_31['Y_Class'] = 1\n",
        "test_O_31['Y_Class'] = 1"
      ]
    },
    {
      "cell_type": "code",
      "execution_count": 73,
      "id": "reduced-least",
      "metadata": {
        "id": "reduced-least"
      },
      "outputs": [],
      "source": [
        "testA_31.loc[(testA_31['Y_quanlity']<0.52507), 'Y_Class'] = 0\n",
        "testA_31.loc[(testA_31['Y_quanlity']>0.5349), 'Y_Class'] = 2\n",
        "\n",
        "test_T_31.loc[(test_T_31['Y_quanlity']<0.52507), 'Y_Class'] = 0\n",
        "test_T_31.loc[(test_T_31['Y_quanlity']>0.5349), 'Y_Class'] = 2\n",
        "\n",
        "test_O_31.loc[(test_O_31['Y_quanlity']<0.52507), 'Y_Class'] = 0\n",
        "test_O_31.loc[(test_O_31['Y_quanlity']>0.5349), 'Y_Class'] = 2"
      ]
    },
    {
      "cell_type": "code",
      "execution_count": 74,
      "id": "knowing-tuning",
      "metadata": {
        "id": "knowing-tuning"
      },
      "outputs": [],
      "source": [
        "submita = pd.read_csv('/content/drive/MyDrive/LG_Aimers2/open (7)/sample_submission.csv')\n",
        "submitt = pd.read_csv('/content/drive/MyDrive/LG_Aimers2/open (7)/sample_submission.csv')\n",
        "submito = pd.read_csv('/content/drive/MyDrive/LG_Aimers2/open (7)/sample_submission.csv')"
      ]
    },
    {
      "cell_type": "code",
      "execution_count": 75,
      "id": "significant-aspect",
      "metadata": {
        "id": "significant-aspect"
      },
      "outputs": [],
      "source": [
        "submita = pd.merge(submita[['PRODUCT_ID']],testA_31[['PRODUCT_ID','Y_Class']],on='PRODUCT_ID')\n",
        "submitt = pd.merge(submitt[['PRODUCT_ID']],test_T_31[['PRODUCT_ID','Y_Class']],on='PRODUCT_ID')\n",
        "submito = pd.merge(submito[['PRODUCT_ID']],test_O_31[['PRODUCT_ID','Y_Class']],on='PRODUCT_ID')"
      ]
    },
    {
      "cell_type": "code",
      "execution_count": 76,
      "id": "little-module",
      "metadata": {
        "scrolled": true,
        "id": "little-module"
      },
      "outputs": [],
      "source": [
        "pd.concat([submita,submitt,submito]).sort_values(by='PRODUCT_ID').to_csv('748_log.csv',index=False)"
      ]
    },
    {
      "cell_type": "markdown",
      "source": [
        "### ------------------------------"
      ],
      "metadata": {
        "id": "ER93b4gWlglM"
      },
      "id": "ER93b4gWlglM"
    },
    {
      "cell_type": "code",
      "execution_count": null,
      "id": "statistical-orlando",
      "metadata": {
        "id": "statistical-orlando",
        "outputId": "4ca80a39-1f6a-4441-bb33-c669fca79cbc"
      },
      "outputs": [
        {
          "data": {
            "text/html": [
              "<div>\n",
              "<style scoped>\n",
              "    .dataframe tbody tr th:only-of-type {\n",
              "        vertical-align: middle;\n",
              "    }\n",
              "\n",
              "    .dataframe tbody tr th {\n",
              "        vertical-align: top;\n",
              "    }\n",
              "\n",
              "    .dataframe thead th {\n",
              "        text-align: right;\n",
              "    }\n",
              "</style>\n",
              "<table border=\"1\" class=\"dataframe\">\n",
              "  <thead>\n",
              "    <tr style=\"text-align: right;\">\n",
              "      <th></th>\n",
              "      <th>PRODUCT_ID</th>\n",
              "      <th>Y_Class</th>\n",
              "    </tr>\n",
              "  </thead>\n",
              "  <tbody>\n",
              "    <tr>\n",
              "      <th>0</th>\n",
              "      <td>TEST_138</td>\n",
              "      <td>1</td>\n",
              "    </tr>\n",
              "    <tr>\n",
              "      <th>1</th>\n",
              "      <td>TEST_256</td>\n",
              "      <td>1</td>\n",
              "    </tr>\n",
              "    <tr>\n",
              "      <th>2</th>\n",
              "      <td>TEST_257</td>\n",
              "      <td>1</td>\n",
              "    </tr>\n",
              "    <tr>\n",
              "      <th>3</th>\n",
              "      <td>TEST_287</td>\n",
              "      <td>1</td>\n",
              "    </tr>\n",
              "  </tbody>\n",
              "</table>\n",
              "</div>"
            ],
            "text/plain": [
              "  PRODUCT_ID  Y_Class\n",
              "0   TEST_138        1\n",
              "1   TEST_256        1\n",
              "2   TEST_257        1\n",
              "3   TEST_287        1"
            ]
          },
          "execution_count": 211,
          "metadata": {},
          "output_type": "execute_result"
        }
      ],
      "source": [
        "submito"
      ]
    },
    {
      "cell_type": "code",
      "execution_count": null,
      "id": "settled-train",
      "metadata": {
        "id": "settled-train"
      },
      "outputs": [],
      "source": []
    },
    {
      "cell_type": "code",
      "execution_count": null,
      "id": "italian-plaintiff",
      "metadata": {
        "id": "italian-plaintiff",
        "outputId": "11c2d2a7-ca2e-4514-9bad-f1a94b71734d"
      },
      "outputs": [
        {
          "data": {
            "text/html": [
              "<div>\n",
              "<style scoped>\n",
              "    .dataframe tbody tr th:only-of-type {\n",
              "        vertical-align: middle;\n",
              "    }\n",
              "\n",
              "    .dataframe tbody tr th {\n",
              "        vertical-align: top;\n",
              "    }\n",
              "\n",
              "    .dataframe thead th {\n",
              "        text-align: right;\n",
              "    }\n",
              "</style>\n",
              "<table border=\"1\" class=\"dataframe\">\n",
              "  <thead>\n",
              "    <tr style=\"text-align: right;\">\n",
              "      <th></th>\n",
              "      <th>PRODUCT_ID</th>\n",
              "      <th>Y_Class</th>\n",
              "    </tr>\n",
              "  </thead>\n",
              "  <tbody>\n",
              "    <tr>\n",
              "      <th>257</th>\n",
              "      <td>TEST_257</td>\n",
              "      <td>1</td>\n",
              "    </tr>\n",
              "  </tbody>\n",
              "</table>\n",
              "</div>"
            ],
            "text/plain": [
              "    PRODUCT_ID  Y_Class\n",
              "257   TEST_257        1"
            ]
          },
          "execution_count": 157,
          "metadata": {},
          "output_type": "execute_result"
        }
      ],
      "source": [
        "pd.read_csv('catboost.csv')[pd.read_csv('catboost.csv')['PRODUCT_ID']=='TEST_257']"
      ]
    },
    {
      "cell_type": "code",
      "execution_count": null,
      "id": "opposite-national",
      "metadata": {
        "id": "opposite-national"
      },
      "outputs": [],
      "source": []
    },
    {
      "cell_type": "code",
      "execution_count": null,
      "id": "laden-remedy",
      "metadata": {
        "id": "laden-remedy",
        "outputId": "42e374b4-6c48-4142-8be5-745aca1976f7"
      },
      "outputs": [
        {
          "name": "stdout",
          "output_type": "stream",
          "text": [
            "Learning rate set to 0.051607\n",
            "0:\tlearn: 0.0097830\ttotal: 221ms\tremaining: 1m 50s\n",
            "499:\tlearn: 0.0001949\ttotal: 31.4s\tremaining: 0us\n"
          ]
        }
      ],
      "source": [
        "model = CatBoostRegressor(random_state=110,verbose=500,iterations=500)\n",
        "model.fit(trainA_31_x, trainA_31_y_r)\n",
        "pred_a = model.predict(testA_31_x)"
      ]
    },
    {
      "cell_type": "code",
      "execution_count": null,
      "id": "intelligent-orange",
      "metadata": {
        "id": "intelligent-orange",
        "outputId": "bd01b592-95fb-4a19-d04e-86eef7467fa2"
      },
      "outputs": [
        {
          "name": "stdout",
          "output_type": "stream",
          "text": [
            "Learning rate set to 0.054803\n",
            "0:\tlearn: 0.0046878\ttotal: 31.2ms\tremaining: 15.6s\n",
            "499:\tlearn: 0.0001367\ttotal: 12.5s\tremaining: 0us\n"
          ]
        }
      ],
      "source": [
        "model.fit(train_T_O_x, train_T_O_y_r)\n",
        "pred_t = model.predict(test_T_O_x)"
      ]
    },
    {
      "cell_type": "code",
      "execution_count": null,
      "id": "heavy-jackson",
      "metadata": {
        "id": "heavy-jackson"
      },
      "outputs": [],
      "source": [
        "testA_31['Y_quanlity'] = pred_a\n",
        "test_T_O['Y_quanlity'] = pred_t"
      ]
    },
    {
      "cell_type": "code",
      "execution_count": null,
      "id": "polished-valuation",
      "metadata": {
        "id": "polished-valuation"
      },
      "outputs": [],
      "source": [
        "testA_31['Y_Class'] = 1\n",
        "test_T_O['Y_Class'] = 1"
      ]
    },
    {
      "cell_type": "code",
      "execution_count": null,
      "id": "musical-recipe",
      "metadata": {
        "id": "musical-recipe"
      },
      "outputs": [],
      "source": [
        "testA_31.loc[(testA_31['Y_quanlity']<0.52507), 'Y_Class'] = 0\n",
        "testA_31.loc[(testA_31['Y_quanlity']>0.5349), 'Y_Class'] = 2\n",
        "\n",
        "test_T_O.loc[(test_T_O['Y_quanlity']<0.52507), 'Y_Class'] = 0\n",
        "test_T_O.loc[(test_T_O['Y_quanlity']>0.5349), 'Y_Class'] = 2"
      ]
    },
    {
      "cell_type": "code",
      "execution_count": null,
      "id": "adult-success",
      "metadata": {
        "id": "adult-success"
      },
      "outputs": [],
      "source": [
        "submita = pd.read_csv('sample_submission.csv')\n",
        "submitt = pd.read_csv('sample_submission.csv')"
      ]
    },
    {
      "cell_type": "code",
      "execution_count": null,
      "id": "raising-morocco",
      "metadata": {
        "id": "raising-morocco"
      },
      "outputs": [],
      "source": [
        "submita = pd.merge(submita[['PRODUCT_ID']],testA_31[['PRODUCT_ID','Y_Class']],on='PRODUCT_ID')\n",
        "submitt = pd.merge(submitt[['PRODUCT_ID']],test_T_O[['PRODUCT_ID','Y_Class']],on='PRODUCT_ID')\n",
        "\n",
        "pd.concat([submita,submitt]).sort_values(by='PRODUCT_ID').to_csv('sub0203_cat_reg_time_del.csv',index=False)"
      ]
    },
    {
      "cell_type": "code",
      "execution_count": null,
      "id": "subtle-stationery",
      "metadata": {
        "id": "subtle-stationery",
        "outputId": "5f56164d-6a64-4b42-dba8-609c75f27b21"
      },
      "outputs": [
        {
          "data": {
            "text/plain": [
              "array([0, 1, 1, 1, 0, 0, 1, 1, 1, 1, 0, 0, 0, 1, 0, 2, 0, 1, 0, 0, 0, 0,\n",
              "       0, 0, 0, 0, 0, 0, 0, 0, 1, 1, 0, 1, 0, 1, 1, 1, 1, 1, 1, 1, 1, 1,\n",
              "       1, 1, 1, 1, 1, 1, 1, 1, 1, 1, 1, 1, 1, 1, 1, 1, 1, 1, 1, 0, 1, 0,\n",
              "       1], dtype=int64)"
            ]
          },
          "execution_count": 212,
          "metadata": {},
          "output_type": "execute_result"
        }
      ],
      "source": [
        "testA_31['Y_quanlity'] = pred_a\n",
        "testA_31['Y_Class'] = 1\n",
        "testA_31.loc[(testA_31['Y_quanlity']<0.52507), 'Y_Class'] = 0\n",
        "testA_31.loc[(testA_31['Y_quanlity']>0.5349), 'Y_Class'] = 2\n",
        "testA_31['Y_Class'].values"
      ]
    },
    {
      "cell_type": "code",
      "execution_count": null,
      "id": "smaller-strap",
      "metadata": {
        "id": "smaller-strap",
        "outputId": "b1df5988-df30-4043-c6a6-664a8c28c3fe"
      },
      "outputs": [
        {
          "data": {
            "text/plain": [
              "array([0, 1, 1, 1, 0, 0, 1, 1, 1, 1, 0, 0, 0, 1, 0, 2, 0, 1, 0, 0, 0, 0,\n",
              "       1, 0, 0, 1, 0, 0, 0, 0, 1, 1, 0, 1, 0, 1, 1, 1, 1, 1, 1, 1, 1, 0,\n",
              "       0, 1, 1, 1, 1, 1, 0, 1, 0, 0, 0, 0, 1, 1, 0, 1, 1, 1, 0, 0, 0, 0,\n",
              "       0], dtype=int64)"
            ]
          },
          "execution_count": 122,
          "metadata": {},
          "output_type": "execute_result"
        }
      ],
      "source": [
        "testA_31['Y_Class'].values"
      ]
    },
    {
      "cell_type": "code",
      "execution_count": null,
      "id": "civil-wells",
      "metadata": {
        "id": "civil-wells",
        "outputId": "7e21f249-6d5c-46bd-8c7b-3da07f78cef8"
      },
      "outputs": [
        {
          "data": {
            "text/plain": [
              "array([0, 1, 1, 1, 0, 0, 1, 1, 1, 2, 0, 0, 0, 1, 0, 2, 1, 1, 0, 0, 1, 1,\n",
              "       1, 0, 0, 1, 0, 0, 0, 0, 1, 1, 0, 1, 0, 1, 1, 1, 1, 1, 1, 1, 1, 1,\n",
              "       1, 1, 1, 1, 1, 1, 0, 0, 0, 0, 0, 0, 1, 1, 1, 0, 1, 1, 0, 0, 0, 0,\n",
              "       0], dtype=int64)"
            ]
          },
          "execution_count": 93,
          "metadata": {},
          "output_type": "execute_result"
        }
      ],
      "source": [
        "testA_31['Y_Class'].values"
      ]
    },
    {
      "cell_type": "code",
      "execution_count": null,
      "id": "specialized-honduras",
      "metadata": {
        "id": "specialized-honduras",
        "outputId": "6b5a0e81-be11-43b9-c2ea-0428e631f9a2"
      },
      "outputs": [
        {
          "data": {
            "text/plain": [
              "array([0, 1, 1, 1, 0, 0, 1, 1, 1, 1, 0, 0, 0, 1, 0, 2, 0, 1, 0, 0, 0, 0,\n",
              "       1, 0, 0, 1, 0, 0, 0, 0, 1, 1, 0, 1, 0, 1, 1, 1, 1, 1, 1, 1, 1, 0,\n",
              "       0, 1, 1, 1, 1, 1, 0, 1, 0, 0, 0, 0, 1, 1, 0, 1, 1, 1, 0, 0, 0, 0,\n",
              "       0], dtype=int64)"
            ]
          },
          "execution_count": 24,
          "metadata": {},
          "output_type": "execute_result"
        }
      ],
      "source": [
        "testA_31['Y_Class'].values"
      ]
    },
    {
      "cell_type": "code",
      "execution_count": null,
      "id": "complex-deadline",
      "metadata": {
        "id": "complex-deadline",
        "outputId": "f04aeabc-73dd-43ee-8eb0-90084d296cd2"
      },
      "outputs": [
        {
          "data": {
            "text/plain": [
              "array([1, 1, 1, 1, 1, 1, 1, 1, 1, 1, 1, 1, 1, 1, 1, 1, 1, 1, 1, 1, 1, 1,\n",
              "       1, 1, 1, 1, 1, 0, 1, 0, 1, 0, 1, 1, 1, 1, 1, 1, 1, 1, 1, 1, 1, 1,\n",
              "       1, 1, 1, 1, 1, 1, 1, 1, 1, 1, 1, 1, 1, 1, 1, 1, 1, 1, 1, 1, 1, 1,\n",
              "       1, 1, 1, 1, 1, 1, 2, 1, 1, 1, 1, 1, 2, 1, 1, 1, 1, 1, 1, 2, 1, 1,\n",
              "       1, 1, 1, 1, 1, 1, 1, 1, 1, 1, 1, 1, 1, 1, 1, 1, 1, 1, 1, 1, 1, 1,\n",
              "       1, 2, 2, 1, 2, 1, 1, 1, 1, 1, 1, 1, 1, 1, 1, 1, 1, 1, 1, 1, 1, 1,\n",
              "       1, 1, 2, 1, 1, 1, 2, 1, 1, 1, 1, 1, 1, 1, 1, 1, 1, 1, 1, 1, 1, 1,\n",
              "       1, 1, 1, 1, 1, 1, 1, 1, 1, 1, 1, 1, 1, 1, 1, 1, 1, 1, 1, 1, 1, 1,\n",
              "       1, 1, 1, 1, 1, 1, 1, 1, 1, 1, 1, 1, 1, 1, 1, 1, 1, 1, 1, 1, 1, 1,\n",
              "       1, 1, 1, 1, 1, 1, 1, 1, 1, 1, 1, 1, 1, 1, 1, 1, 1, 1, 1, 1, 1, 1,\n",
              "       1, 1, 1, 1, 1, 1, 1, 1, 1, 1, 1, 1, 1, 1, 1, 1, 1, 1, 1],\n",
              "      dtype=int64)"
            ]
          },
          "execution_count": 123,
          "metadata": {},
          "output_type": "execute_result"
        }
      ],
      "source": [
        "test_T_31['Y_Class'].values"
      ]
    },
    {
      "cell_type": "code",
      "execution_count": null,
      "id": "mineral-wisdom",
      "metadata": {
        "id": "mineral-wisdom",
        "outputId": "b01c7b04-27d5-42af-d1be-637a027b4344"
      },
      "outputs": [
        {
          "data": {
            "text/plain": [
              "array([1, 1, 1, 1, 1, 1, 1, 1, 1, 1, 1, 1, 1, 1, 1, 1, 1, 1, 1, 1, 1, 1,\n",
              "       1, 1, 1, 1, 1, 0, 1, 0, 1, 0, 1, 1, 1, 1, 1, 1, 1, 1, 1, 1, 1, 1,\n",
              "       1, 1, 1, 2, 1, 1, 1, 1, 1, 1, 1, 1, 1, 1, 1, 1, 1, 1, 1, 1, 1, 1,\n",
              "       1, 1, 1, 1, 1, 1, 1, 1, 1, 1, 1, 1, 1, 1, 1, 1, 1, 1, 1, 2, 1, 1,\n",
              "       2, 1, 1, 1, 1, 1, 1, 1, 1, 1, 1, 1, 1, 1, 1, 1, 1, 1, 1, 1, 1, 1,\n",
              "       1, 2, 2, 1, 2, 1, 1, 1, 1, 1, 1, 1, 1, 1, 1, 1, 1, 1, 1, 1, 2, 1,\n",
              "       1, 1, 1, 1, 1, 1, 1, 1, 1, 1, 1, 1, 1, 1, 1, 1, 1, 1, 1, 1, 1, 1,\n",
              "       1, 1, 1, 1, 1, 1, 1, 1, 1, 1, 1, 1, 1, 1, 1, 1, 1, 1, 1, 1, 1, 1,\n",
              "       1, 1, 1, 1, 1, 1, 1, 1, 1, 1, 1, 1, 1, 1, 1, 1, 1, 1, 1, 1, 1, 1,\n",
              "       1, 1, 1, 1, 1, 1, 1, 1, 1, 1, 1, 1, 1, 1, 1, 1, 1, 1, 1, 1, 1, 1,\n",
              "       1, 1, 1, 1, 1, 1, 1, 1, 1, 1, 1, 1, 1, 1, 1, 1, 1, 1, 1],\n",
              "      dtype=int64)"
            ]
          },
          "execution_count": 94,
          "metadata": {},
          "output_type": "execute_result"
        }
      ],
      "source": [
        "test_T_31['Y_Class'].values"
      ]
    },
    {
      "cell_type": "code",
      "execution_count": null,
      "id": "regulation-height",
      "metadata": {
        "id": "regulation-height",
        "outputId": "5dc047ea-7b41-4595-dbc5-bc3771b12378"
      },
      "outputs": [
        {
          "data": {
            "text/plain": [
              "array([1, 1, 1, 1, 1, 1, 1, 1, 1, 1, 1, 1, 1, 1, 1, 1, 1, 1, 1, 1, 1, 1,\n",
              "       1, 1, 1, 1, 1, 0, 1, 0, 1, 0, 0, 1, 1, 1, 1, 0, 1, 1, 1, 1, 1, 1,\n",
              "       1, 1, 1, 2, 1, 1, 1, 1, 1, 1, 1, 1, 1, 1, 1, 1, 1, 1, 1, 1, 1, 1,\n",
              "       1, 1, 1, 1, 1, 1, 1, 1, 1, 1, 1, 1, 1, 1, 1, 1, 1, 1, 1, 1, 1, 1,\n",
              "       1, 2, 1, 1, 1, 1, 1, 1, 1, 1, 1, 1, 1, 1, 1, 1, 1, 1, 1, 1, 1, 1,\n",
              "       1, 1, 1, 2, 1, 2, 1, 1, 1, 1, 1, 1, 1, 1, 1, 1, 1, 1, 1, 1, 1, 1,\n",
              "       1, 1, 1, 2, 1, 1, 1, 1, 1, 1, 1, 1, 1, 1, 1, 1, 1, 1, 1, 1, 1, 1,\n",
              "       1, 1, 1, 1, 1, 1, 1, 1, 1, 1, 1, 1, 1, 1, 1, 1, 1, 1, 1, 1, 1, 1,\n",
              "       1, 1, 1, 1, 1, 1, 1, 1, 1, 1, 1, 1, 1, 1, 1, 1, 1, 1, 1, 1, 1, 1,\n",
              "       1, 1, 1, 1, 1, 1, 1, 1, 1, 1, 1, 1, 1, 1, 1, 1, 1, 1, 1, 1, 1, 1,\n",
              "       1, 1, 1, 1, 1, 1, 1, 1, 1, 1, 1, 1, 1, 1, 1, 1, 1, 1, 1, 1, 1, 1,\n",
              "       1], dtype=int64)"
            ]
          },
          "execution_count": 35,
          "metadata": {},
          "output_type": "execute_result"
        }
      ],
      "source": [
        "test_T_O['Y_Class'].values"
      ]
    },
    {
      "cell_type": "code",
      "execution_count": null,
      "id": "registered-pillow",
      "metadata": {
        "id": "registered-pillow",
        "outputId": "c9a64d93-b3be-40e8-e65c-f62213cb5235"
      },
      "outputs": [
        {
          "data": {
            "text/plain": [
              "array([1, 1, 1, 1], dtype=int64)"
            ]
          },
          "execution_count": 95,
          "metadata": {},
          "output_type": "execute_result"
        }
      ],
      "source": [
        "test_O_31['Y_Class'].values"
      ]
    },
    {
      "cell_type": "code",
      "execution_count": null,
      "id": "assumed-reflection",
      "metadata": {
        "id": "assumed-reflection",
        "outputId": "052e63fb-9530-43f7-a50e-72f7f2c96414"
      },
      "outputs": [
        {
          "data": {
            "text/plain": [
              "array([1, 1, 1, 0, 1, 1, 1, 1, 1, 1, 1, 1, 1, 1, 1, 1, 1, 1, 1, 1, 1, 1,\n",
              "       1, 1, 1, 1, 1, 0, 1, 0, 1, 0, 1, 1, 1, 1, 1, 0, 1, 1, 1, 1, 1, 1,\n",
              "       1, 1, 1, 2, 1, 1, 1, 1, 1, 1, 1, 1, 1, 1, 1, 1, 1, 1, 1, 1, 1, 1,\n",
              "       1, 1, 1, 1, 1, 1, 1, 1, 1, 1, 1, 1, 1, 1, 1, 1, 1, 1, 1, 1, 1, 1,\n",
              "       1, 1, 1, 1, 1, 1, 1, 1, 1, 1, 1, 1, 1, 1, 1, 1, 1, 1, 1, 1, 1, 1,\n",
              "       1, 1, 2, 2, 1, 2, 1, 1, 1, 1, 1, 1, 1, 1, 1, 1, 1, 1, 1, 1, 1, 1,\n",
              "       1, 1, 1, 2, 1, 1, 1, 1, 1, 1, 1, 1, 1, 1, 1, 1, 1, 1, 1, 1, 1, 1,\n",
              "       1, 1, 1, 1, 1, 1, 1, 1, 1, 1, 1, 1, 1, 1, 1, 1, 1, 1, 1, 1, 1, 1,\n",
              "       1, 1, 1, 1, 1, 1, 1, 1, 1, 1, 1, 1, 1, 1, 1, 1, 1, 1, 1, 1, 1, 1,\n",
              "       1, 1, 1, 1, 1, 1, 1, 1, 1, 1, 1, 1, 1, 1, 1, 1, 1, 1, 1, 1, 1, 1,\n",
              "       1, 1, 1, 1, 1, 1, 1, 1, 1, 1, 1, 1, 1, 1, 1, 1, 1, 1, 1, 1, 1, 1,\n",
              "       1], dtype=int64)"
            ]
          },
          "execution_count": 25,
          "metadata": {},
          "output_type": "execute_result"
        }
      ],
      "source": [
        "test_T_O['Y_Class'].values"
      ]
    }
  ],
  "metadata": {
    "kernelspec": {
      "display_name": "Python 3",
      "language": "python",
      "name": "python3"
    },
    "language_info": {
      "codemirror_mode": {
        "name": "ipython",
        "version": 3
      },
      "file_extension": ".py",
      "mimetype": "text/x-python",
      "name": "python",
      "nbconvert_exporter": "python",
      "pygments_lexer": "ipython3",
      "version": "3.8.8"
    },
    "colab": {
      "provenance": []
    }
  },
  "nbformat": 4,
  "nbformat_minor": 5
}