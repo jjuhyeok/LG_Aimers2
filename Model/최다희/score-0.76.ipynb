{
 "cells": [
  {
   "cell_type": "code",
   "execution_count": 74,
   "id": "6fe3402e",
   "metadata": {},
   "outputs": [],
   "source": [
    "import pandas as pd\n",
    "import numpy as np\n",
    "import matplotlib.pyplot as plt\n",
    "import seaborn as sns\n",
    "import re\n",
    "import os\n",
    "import warnings\n",
    "warnings.filterwarnings(action='ignore')\n",
    "from catboost import *\n",
    "import sklearn\n",
    "import math\n",
    "from sklearn.preprocessing import LabelEncoder\n",
    "import math\n",
    "\n",
    "\n",
    "def log(train,test):\n",
    "    col_list = train.columns\n",
    "    for col in col_list :\n",
    "        if '제곱' in col:\n",
    "            train[col+'log'] = np.log1p(train[col])\n",
    "            test[col+'log'] = np.log1p(test[col])\n",
    "    return train,test\n",
    "\n",
    "def del_columns(train, test):\n",
    "    col_list = train.columns\n",
    "    nan_list = []\n",
    "    nan_cnt = []\n",
    "    nan_col = []\n",
    "    full_list = []\n",
    "    for col in col_list:\n",
    "        if train[col].isnull().sum() == 0 :\n",
    "            full_list.append(col)\n",
    "            continue\n",
    "        nan_list.append([col, train[col].isnull().sum()])\n",
    "        nan_cnt.append(train[col].isnull().sum())\n",
    "        nan_col.append(col)\n",
    "\n",
    "    '''모든값이 결측값이면 제거'''\n",
    "    del_col = []\n",
    "    for col in nan_list :\n",
    "        if col[1] == len(train) :\n",
    "            del_col.append(col[0])\n",
    "    train = train.drop(columns=del_col)\n",
    "    test = test.drop(columns=del_col)\n",
    "\n",
    "    '''값이 1개 존재하면 제거'''\n",
    "    del_col = []\n",
    "    col_list = train.describe().columns\n",
    "    for col in col_list :\n",
    "        if col == 'Y_Class':\n",
    "            continue\n",
    "        if col == 'Y_Quality':\n",
    "            continue\n",
    "        if col == 'LINE':\n",
    "            continue\n",
    "        if col == 'PRODUCT_CODE':\n",
    "            continue\n",
    "        if train[col].nunique()==1 :\n",
    "            del_col.append(col)\n",
    "    train = train.drop(columns=del_col)\n",
    "    test = test.drop(columns=del_col)\n",
    "    \n",
    "    return train,test\n",
    "   \n",
    "def make_train_test_dataset(train,test):\n",
    "    train_x = train.drop(columns=['PRODUCT_ID','TIMESTAMP','PRODUCT_CODE','Y_Class','Y_Quality'])\n",
    "    test_x = test.drop(columns=['PRODUCT_ID','TIMESTAMP','PRODUCT_CODE'])\n",
    "    train_y = train['Y_Quality']\n",
    "    train_w = train[['Y_Class']]\n",
    "    return train_x, test_x, train_y, train_w\n",
    "\n",
    "def fillna(train,test,value):\n",
    "    train = train.fillna(value)\n",
    "    test = test.fillna(value)\n",
    "    return train,test\n",
    "\n",
    "def labelencoder(train,test,col_list):\n",
    "    qual_col = col_list\n",
    "    for i in qual_col:\n",
    "        le = LabelEncoder()\n",
    "        le = le.fit(train[i])\n",
    "        train[i] = le.transform(train[i])\n",
    "\n",
    "        for label in np.unique(test[i]): \n",
    "            if label not in le.classes_: \n",
    "                le.classes_ = np.append(le.classes_, label)\n",
    "        test[i] = le.transform(test[i]) \n",
    "    return train,test\n",
    "\n",
    "def multi_col(train,test) : \n",
    "    col_list = train.columns\n",
    "    for col in col_list :\n",
    "        if col == 'LINE':\n",
    "            continue\n",
    "        train[col+'제곱'] = (train[col]**2)//100\n",
    "        test[col+'제곱'] = (test[col]**2)//100\n",
    "    return train,test"
   ]
  },
  {
   "cell_type": "markdown",
   "id": "1c1690b0",
   "metadata": {},
   "source": [
    "# (1) y_q 값을 로그변환"
   ]
  },
  {
   "cell_type": "code",
   "execution_count": 75,
   "id": "40b3dbd6",
   "metadata": {},
   "outputs": [
    {
     "name": "stdout",
     "output_type": "stream",
     "text": [
      "(249, 1866) (67, 1866) (343, 550) (239, 550)\n"
     ]
    }
   ],
   "source": [
    "train = pd.read_csv('train.csv')\n",
    "test = pd.read_csv('test.csv')\n",
    "\n",
    "# y quality scaling\n",
    "train['Y_Quality'] = train['Y_Quality'].map(lambda x : np.log(x))\n",
    "\n",
    "train, test = del_columns(train,test)\n",
    "\n",
    "trainA_31 = train[train['PRODUCT_CODE']=='A_31']\n",
    "train_T_31 = train[train['PRODUCT_CODE']=='T_31']\n",
    "train_O_31 = train[train['PRODUCT_CODE']=='O_31']\n",
    "\n",
    "testA_31 = test[test['PRODUCT_CODE']=='A_31']\n",
    "test_T_31 = test[test['PRODUCT_CODE']=='T_31']\n",
    "test_O_31 = test[test['PRODUCT_CODE']=='O_31']\n",
    "\n",
    "trainA_31, testA_31 = del_columns(trainA_31,testA_31)\n",
    "train_T_31, test_T_31 = del_columns(train_T_31,test_T_31)\n",
    "train_O_31, test_O_31 = del_columns(train_O_31,test_O_31)\n",
    "\n",
    "trainA_31_x,testA_31_x, trainA_31_y, trainA_31_w = make_train_test_dataset(trainA_31,testA_31)\n",
    "train_T_31_x,test_T_31_x, train_T_31_y, train_T_31_w = make_train_test_dataset(train_T_31,test_T_31)\n",
    "train_O_31_x,test_O_31_x, train_O_31_y, train_O_31_w = make_train_test_dataset(train_O_31,test_O_31)\n",
    "\n",
    "trainA_31_x,testA_31_x = labelencoder(trainA_31_x,testA_31_x,['LINE'])\n",
    "train_T_31_x,test_T_31_x = labelencoder(train_T_31_x,test_T_31_x,['LINE'])\n",
    "train_O_31_x,test_O_31_x = labelencoder(train_O_31_x,test_O_31_x,['LINE'])\n",
    "\n",
    "trainA_31_x,testA_31_x = fillna(trainA_31_x,testA_31_x,-1)\n",
    "train_T_31_x,test_T_31_x = fillna(train_T_31_x,test_T_31_x,-1)\n",
    "train_O_31_x,test_O_31_x = fillna(train_O_31_x,test_O_31_x,-1)\n",
    "\n",
    "'''\n",
    "# 강한 추세성보이는 칼럼 중 일부 제거\n",
    "drop_a = ['X_1167','X_1168','X_1169','X_1170','X_1171','X_1274','X_1275','X_1276','X_1277','X_1278']\n",
    "drop_t = ['X_529','X_530','X_531','X_532','X_533','X_600','X_601','X_602','X_603','X_604']\n",
    "\n",
    "trainA_31_x = trainA_31_x.drop(columns=drop_a)\n",
    "testA_31_x = testA_31_x.drop(columns=drop_a)\n",
    "train_T_31_x = train_T_31_x.drop(columns=drop_t)\n",
    "test_T_31_x = test_T_31_x.drop(columns=drop_t)\n",
    "\n",
    "\n",
    "trainA_31_x,testA_31_x = multi_col(trainA_31_x,testA_31_x)\n",
    "train_T_31_x,test_T_31_x = multi_col(train_T_31_x,test_T_31_x)\n",
    "train_O_31_x,test_O_31_x = multi_col(train_O_31_x,test_O_31_x)\n",
    "\n",
    "trainA_31_x,testA_31_x = log(trainA_31_x,testA_31_x)\n",
    "train_T_31_x,test_T_31_x = log(train_T_31_x,test_T_31_x)\n",
    "train_O_31_x,test_O_31_x = log(train_O_31_x,test_O_31_x)\n",
    "'''\n",
    "\n",
    "print(trainA_31_x.shape,testA_31_x.shape,train_T_31_x.shape,test_T_31_x.shape)"
   ]
  },
  {
   "cell_type": "code",
   "execution_count": 76,
   "id": "21d6a395",
   "metadata": {},
   "outputs": [
    {
     "name": "stdout",
     "output_type": "stream",
     "text": [
      "-0.6442300396904909 \n",
      " -0.6441937649548493 \n",
      " -0.6257823004654807 \n",
      " -0.6255805101477584 \n",
      "\n"
     ]
    }
   ],
   "source": [
    "print(train[train['Y_Class']==0]['Y_Quality'].max(),'\\n',\n",
    "      train[train['Y_Class']==1]['Y_Quality'].min(),'\\n',\n",
    "      train[train['Y_Class']==1]['Y_Quality'].max(),'\\n',\n",
    "      train[train['Y_Class']==2]['Y_Quality'].min(),'\\n')"
   ]
  },
  {
   "cell_type": "code",
   "execution_count": 77,
   "id": "6acd9f20",
   "metadata": {},
   "outputs": [],
   "source": [
    "model1 = CatBoostRegressor(random_state=1234,verbose=500,iterations=1500,learning_rate=0.033)"
   ]
  },
  {
   "cell_type": "code",
   "execution_count": 78,
   "id": "dd77f378",
   "metadata": {},
   "outputs": [
    {
     "name": "stdout",
     "output_type": "stream",
     "text": [
      "0:\tlearn: 0.0183320\ttotal: 24.5ms\tremaining: 36.7s\n",
      "500:\tlearn: 0.0012455\ttotal: 7.32s\tremaining: 14.6s\n",
      "1000:\tlearn: 0.0001219\ttotal: 14.5s\tremaining: 7.24s\n",
      "1499:\tlearn: 0.0000129\ttotal: 22.6s\tremaining: 0us\n"
     ]
    }
   ],
   "source": [
    "model1.fit(trainA_31_x, trainA_31_y)\n",
    "pred_a = model1.predict(testA_31_x)"
   ]
  },
  {
   "cell_type": "code",
   "execution_count": 79,
   "id": "66f05514",
   "metadata": {},
   "outputs": [
    {
     "name": "stdout",
     "output_type": "stream",
     "text": [
      "0:\tlearn: 0.0089112\ttotal: 7.55ms\tremaining: 11.3s\n",
      "500:\tlearn: 0.0009494\ttotal: 3.14s\tremaining: 6.25s\n",
      "1000:\tlearn: 0.0001266\ttotal: 6.02s\tremaining: 3s\n",
      "1499:\tlearn: 0.0000173\ttotal: 8.88s\tremaining: 0us\n"
     ]
    }
   ],
   "source": [
    "model1.fit(train_T_31_x, train_T_31_y)\n",
    "pred_t = model1.predict(test_T_31_x)"
   ]
  },
  {
   "cell_type": "code",
   "execution_count": 80,
   "id": "6bc036bb",
   "metadata": {},
   "outputs": [
    {
     "name": "stdout",
     "output_type": "stream",
     "text": [
      "0:\tlearn: 0.0059697\ttotal: 1.87ms\tremaining: 2.8s\n",
      "500:\tlearn: 0.0000906\ttotal: 587ms\tremaining: 1.17s\n",
      "1000:\tlearn: 0.0000014\ttotal: 1.15s\tremaining: 575ms\n",
      "1499:\tlearn: 0.0000000\ttotal: 1.72s\tremaining: 0us\n"
     ]
    }
   ],
   "source": [
    "model1.fit(train_O_31_x, train_O_31_y)\n",
    "pred_o = model1.predict(test_O_31_x)"
   ]
  },
  {
   "cell_type": "code",
   "execution_count": 81,
   "id": "a6922259",
   "metadata": {},
   "outputs": [],
   "source": [
    "testA_31['Y_quanlity'] = pred_a\n",
    "test_T_31['Y_quanlity'] = pred_t\n",
    "test_O_31['Y_quanlity'] = pred_o\n",
    "\n",
    "testA_31['Y_Class'] = 1\n",
    "test_T_31['Y_Class'] = 1\n",
    "test_O_31['Y_Class'] = 1\n",
    "\n",
    "testA_31.loc[(testA_31['Y_quanlity']<-0.64421190232267), 'Y_Class'] = 0\n",
    "testA_31.loc[(testA_31['Y_quanlity']>-0.6256814053066195), 'Y_Class'] = 2\n",
    "test_T_31.loc[(test_T_31['Y_quanlity']<-0.64421190232267), 'Y_Class'] = 0\n",
    "test_T_31.loc[(test_T_31['Y_quanlity']>-0.6256814053066195), 'Y_Class'] = 2\n",
    "test_O_31.loc[(test_O_31['Y_quanlity']<-0.64421190232267), 'Y_Class'] = 0\n",
    "test_O_31.loc[(test_O_31['Y_quanlity']>-0.6256814053066195), 'Y_Class'] = 2\n",
    "\n",
    "submita = pd.read_csv('sample_submission.csv')\n",
    "submitt = pd.read_csv('sample_submission.csv')\n",
    "submito = pd.read_csv('sample_submission.csv')\n",
    "\n",
    "submita = pd.merge(submita[['PRODUCT_ID']],testA_31[['PRODUCT_ID','Y_Class']],on='PRODUCT_ID')\n",
    "submitt = pd.merge(submitt[['PRODUCT_ID']],test_T_31[['PRODUCT_ID','Y_Class']],on='PRODUCT_ID')\n",
    "submito = pd.merge(submito[['PRODUCT_ID']],test_O_31[['PRODUCT_ID','Y_Class']],on='PRODUCT_ID')\n",
    "\n",
    "pd.concat([submita,submitt,submito]).sort_values(by='PRODUCT_ID').to_csv('scale1.csv',index=False)"
   ]
  },
  {
   "cell_type": "code",
   "execution_count": 70,
   "id": "30b82ee9",
   "metadata": {},
   "outputs": [],
   "source": [
    "df = pd.read_csv('scale1.csv')"
   ]
  },
  {
   "cell_type": "code",
   "execution_count": 71,
   "id": "d2c5c473",
   "metadata": {},
   "outputs": [
    {
     "data": {
      "text/plain": [
       "1    272\n",
       "0     30\n",
       "2      8\n",
       "Name: Y_Class, dtype: int64"
      ]
     },
     "execution_count": 71,
     "metadata": {},
     "output_type": "execute_result"
    }
   ],
   "source": [
    "df['Y_Class'].value_counts()"
   ]
  },
  {
   "cell_type": "code",
   "execution_count": 31,
   "id": "6d955f65",
   "metadata": {},
   "outputs": [
    {
     "data": {
      "text/plain": [
       "1    269\n",
       "0     37\n",
       "2      4\n",
       "Name: Y_Class, dtype: int64"
      ]
     },
     "execution_count": 31,
     "metadata": {},
     "output_type": "execute_result"
    }
   ],
   "source": [
    "df['Y_Class'].value_counts() # 1234, 1500, 0.33"
   ]
  },
  {
   "cell_type": "code",
   "execution_count": 47,
   "id": "2a2b1b1e",
   "metadata": {},
   "outputs": [
    {
     "data": {
      "text/html": [
       "<div>\n",
       "<style scoped>\n",
       "    .dataframe tbody tr th:only-of-type {\n",
       "        vertical-align: middle;\n",
       "    }\n",
       "\n",
       "    .dataframe tbody tr th {\n",
       "        vertical-align: top;\n",
       "    }\n",
       "\n",
       "    .dataframe thead th {\n",
       "        text-align: right;\n",
       "    }\n",
       "</style>\n",
       "<table border=\"1\" class=\"dataframe\">\n",
       "  <thead>\n",
       "    <tr style=\"text-align: right;\">\n",
       "      <th></th>\n",
       "      <th>PRODUCT_ID</th>\n",
       "      <th>Y_Class</th>\n",
       "    </tr>\n",
       "  </thead>\n",
       "  <tbody>\n",
       "    <tr>\n",
       "      <th>38</th>\n",
       "      <td>TEST_038</td>\n",
       "      <td>2</td>\n",
       "    </tr>\n",
       "    <tr>\n",
       "      <th>78</th>\n",
       "      <td>TEST_078</td>\n",
       "      <td>2</td>\n",
       "    </tr>\n",
       "    <tr>\n",
       "      <th>160</th>\n",
       "      <td>TEST_160</td>\n",
       "      <td>2</td>\n",
       "    </tr>\n",
       "    <tr>\n",
       "      <th>161</th>\n",
       "      <td>TEST_161</td>\n",
       "      <td>2</td>\n",
       "    </tr>\n",
       "    <tr>\n",
       "      <th>177</th>\n",
       "      <td>TEST_177</td>\n",
       "      <td>2</td>\n",
       "    </tr>\n",
       "    <tr>\n",
       "      <th>183</th>\n",
       "      <td>TEST_183</td>\n",
       "      <td>2</td>\n",
       "    </tr>\n",
       "  </tbody>\n",
       "</table>\n",
       "</div>"
      ],
      "text/plain": [
       "    PRODUCT_ID  Y_Class\n",
       "38    TEST_038        2\n",
       "78    TEST_078        2\n",
       "160   TEST_160        2\n",
       "161   TEST_161        2\n",
       "177   TEST_177        2\n",
       "183   TEST_183        2"
      ]
     },
     "execution_count": 47,
     "metadata": {},
     "output_type": "execute_result"
    }
   ],
   "source": [
    "df[df['Y_Class']==2] # 1234, 5500, 0.02"
   ]
  },
  {
   "cell_type": "code",
   "execution_count": 62,
   "id": "a0bdfeca",
   "metadata": {},
   "outputs": [
    {
     "data": {
      "text/plain": [
       "array([0, 1, 1, 1, 0, 0, 2, 1, 1, 2, 0, 0, 0, 1, 0, 2, 0, 1, 0, 0, 0, 0,\n",
       "       1, 0, 0, 1, 0, 0, 0, 0, 1, 1, 0, 1, 0, 0, 2, 1, 1, 1, 1, 1, 1, 0,\n",
       "       0, 0, 1, 0, 0, 0, 0, 0, 0, 0, 0, 0, 1, 0, 0, 0, 0, 0, 0, 0, 0, 0,\n",
       "       0])"
      ]
     },
     "execution_count": 62,
     "metadata": {},
     "output_type": "execute_result"
    }
   ],
   "source": [
    "testA_31['Y_Class'].values"
   ]
  },
  {
   "cell_type": "code",
   "execution_count": 63,
   "id": "6de04fd9",
   "metadata": {},
   "outputs": [
    {
     "data": {
      "text/plain": [
       "array([1, 1, 1, 1, 1, 1, 1, 1, 1, 1, 1, 1, 1, 1, 1, 1, 1, 1, 1, 1, 1, 1,\n",
       "       1, 1, 1, 1, 1, 0, 1, 0, 1, 0, 1, 1, 1, 0, 1, 0, 1, 1, 1, 1, 1, 1,\n",
       "       1, 1, 1, 2, 1, 1, 1, 1, 1, 1, 1, 1, 1, 1, 1, 1, 1, 1, 1, 1, 1, 1,\n",
       "       1, 1, 1, 1, 1, 1, 1, 1, 1, 1, 1, 1, 1, 1, 1, 1, 1, 1, 1, 1, 1, 1,\n",
       "       1, 1, 1, 1, 1, 1, 1, 1, 1, 1, 1, 1, 1, 1, 1, 1, 1, 1, 1, 1, 1, 1,\n",
       "       1, 2, 2, 1, 1, 1, 1, 1, 1, 1, 1, 1, 1, 1, 1, 1, 1, 1, 2, 1, 1, 1,\n",
       "       1, 1, 2, 1, 1, 1, 1, 1, 1, 1, 1, 1, 1, 1, 1, 1, 1, 1, 1, 1, 1, 1,\n",
       "       1, 1, 1, 1, 1, 1, 1, 1, 1, 1, 1, 1, 1, 1, 1, 1, 1, 1, 1, 1, 1, 1,\n",
       "       1, 1, 1, 1, 1, 1, 1, 1, 1, 1, 1, 1, 1, 1, 1, 1, 1, 1, 1, 1, 1, 1,\n",
       "       1, 1, 1, 1, 1, 1, 1, 1, 1, 1, 1, 1, 1, 1, 1, 1, 1, 1, 1, 1, 1, 1,\n",
       "       1, 1, 1, 1, 1, 1, 1, 1, 1, 1, 1, 1, 1, 1, 1, 1, 1, 1, 1])"
      ]
     },
     "execution_count": 63,
     "metadata": {},
     "output_type": "execute_result"
    }
   ],
   "source": [
    "test_T_31['Y_Class'].values"
   ]
  },
  {
   "cell_type": "code",
   "execution_count": 73,
   "id": "d803c6af",
   "metadata": {},
   "outputs": [
    {
     "data": {
      "text/html": [
       "<div>\n",
       "<style scoped>\n",
       "    .dataframe tbody tr th:only-of-type {\n",
       "        vertical-align: middle;\n",
       "    }\n",
       "\n",
       "    .dataframe tbody tr th {\n",
       "        vertical-align: top;\n",
       "    }\n",
       "\n",
       "    .dataframe thead th {\n",
       "        text-align: right;\n",
       "    }\n",
       "</style>\n",
       "<table border=\"1\" class=\"dataframe\">\n",
       "  <thead>\n",
       "    <tr style=\"text-align: right;\">\n",
       "      <th></th>\n",
       "      <th>PRODUCT_ID</th>\n",
       "      <th>Y_Class</th>\n",
       "    </tr>\n",
       "  </thead>\n",
       "  <tbody>\n",
       "    <tr>\n",
       "      <th>38</th>\n",
       "      <td>TEST_038</td>\n",
       "      <td>2</td>\n",
       "    </tr>\n",
       "    <tr>\n",
       "      <th>78</th>\n",
       "      <td>TEST_078</td>\n",
       "      <td>2</td>\n",
       "    </tr>\n",
       "    <tr>\n",
       "      <th>160</th>\n",
       "      <td>TEST_160</td>\n",
       "      <td>2</td>\n",
       "    </tr>\n",
       "    <tr>\n",
       "      <th>161</th>\n",
       "      <td>TEST_161</td>\n",
       "      <td>2</td>\n",
       "    </tr>\n",
       "    <tr>\n",
       "      <th>163</th>\n",
       "      <td>TEST_163</td>\n",
       "      <td>2</td>\n",
       "    </tr>\n",
       "    <tr>\n",
       "      <th>169</th>\n",
       "      <td>TEST_169</td>\n",
       "      <td>2</td>\n",
       "    </tr>\n",
       "    <tr>\n",
       "      <th>183</th>\n",
       "      <td>TEST_183</td>\n",
       "      <td>2</td>\n",
       "    </tr>\n",
       "    <tr>\n",
       "      <th>187</th>\n",
       "      <td>TEST_187</td>\n",
       "      <td>2</td>\n",
       "    </tr>\n",
       "  </tbody>\n",
       "</table>\n",
       "</div>"
      ],
      "text/plain": [
       "    PRODUCT_ID  Y_Class\n",
       "38    TEST_038        2\n",
       "78    TEST_078        2\n",
       "160   TEST_160        2\n",
       "161   TEST_161        2\n",
       "163   TEST_163        2\n",
       "169   TEST_169        2\n",
       "183   TEST_183        2\n",
       "187   TEST_187        2"
      ]
     },
     "execution_count": 73,
     "metadata": {},
     "output_type": "execute_result"
    }
   ],
   "source": [
    "df[df['Y_Class']==2]"
   ]
  }
 ],
 "metadata": {
  "kernelspec": {
   "display_name": "Python 3 (ipykernel)",
   "language": "python",
   "name": "python3"
  },
  "language_info": {
   "codemirror_mode": {
    "name": "ipython",
    "version": 3
   },
   "file_extension": ".py",
   "mimetype": "text/x-python",
   "name": "python",
   "nbconvert_exporter": "python",
   "pygments_lexer": "ipython3",
   "version": "3.9.16"
  }
 },
 "nbformat": 4,
 "nbformat_minor": 5
}
