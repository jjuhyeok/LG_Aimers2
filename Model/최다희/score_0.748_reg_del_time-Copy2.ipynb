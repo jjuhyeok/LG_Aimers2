{
 "cells": [
  {
   "cell_type": "code",
   "execution_count": 183,
   "id": "spectacular-freeware",
   "metadata": {},
   "outputs": [],
   "source": [
    "import pandas as pd\n",
    "import numpy as np\n",
    "import re\n",
    "import seaborn as sns\n",
    "import matplotlib.pyplot as plt\n",
    "from sklearn.preprocessing import LabelEncoder\n",
    "from category_encoders import OneHotEncoder\n",
    "import warnings\n",
    "import random\n",
    "import os\n",
    "plt.style.use('ggplot')\n",
    "warnings.filterwarnings(action='ignore')"
   ]
  },
  {
   "cell_type": "code",
   "execution_count": 184,
   "id": "funky-painting",
   "metadata": {},
   "outputs": [],
   "source": [
    "def seed_everything(seed):\n",
    "    random.seed(seed)\n",
    "    os.environ['PYTHONHASHSEED'] = str(seed)\n",
    "    np.random.seed(seed)\n",
    "seed_everything(37) # Seed 고정"
   ]
  },
  {
   "cell_type": "code",
   "execution_count": 214,
   "id": "dental-rental",
   "metadata": {},
   "outputs": [],
   "source": [
    "train = pd.read_csv('train.csv')\n",
    "test = pd.read_csv('test.csv')"
   ]
  },
  {
   "cell_type": "code",
   "execution_count": null,
   "id": "monetary-paris",
   "metadata": {},
   "outputs": [],
   "source": [
    "# 124-127"
   ]
  },
  {
   "cell_type": "code",
   "execution_count": 215,
   "id": "english-shield",
   "metadata": {},
   "outputs": [],
   "source": [
    "train = train.drop(columns=['X_124', 'X_125','X_126', 'X_127'])\n",
    "test = test.drop(columns=['X_124', 'X_125','X_126', 'X_127'])"
   ]
  },
  {
   "cell_type": "code",
   "execution_count": 216,
   "id": "critical-recovery",
   "metadata": {},
   "outputs": [
    {
     "data": {
      "text/html": [
       "<div>\n",
       "<style scoped>\n",
       "    .dataframe tbody tr th:only-of-type {\n",
       "        vertical-align: middle;\n",
       "    }\n",
       "\n",
       "    .dataframe tbody tr th {\n",
       "        vertical-align: top;\n",
       "    }\n",
       "\n",
       "    .dataframe thead th {\n",
       "        text-align: right;\n",
       "    }\n",
       "</style>\n",
       "<table border=\"1\" class=\"dataframe\">\n",
       "  <thead>\n",
       "    <tr style=\"text-align: right;\">\n",
       "      <th></th>\n",
       "      <th>PRODUCT_ID</th>\n",
       "      <th>Y_Class</th>\n",
       "      <th>Y_Quality</th>\n",
       "      <th>TIMESTAMP</th>\n",
       "      <th>LINE</th>\n",
       "      <th>PRODUCT_CODE</th>\n",
       "      <th>X_1</th>\n",
       "      <th>X_2</th>\n",
       "      <th>X_3</th>\n",
       "      <th>X_4</th>\n",
       "      <th>...</th>\n",
       "      <th>X_2862</th>\n",
       "      <th>X_2863</th>\n",
       "      <th>X_2864</th>\n",
       "      <th>X_2865</th>\n",
       "      <th>X_2866</th>\n",
       "      <th>X_2867</th>\n",
       "      <th>X_2868</th>\n",
       "      <th>X_2869</th>\n",
       "      <th>X_2870</th>\n",
       "      <th>X_2871</th>\n",
       "    </tr>\n",
       "  </thead>\n",
       "  <tbody>\n",
       "    <tr>\n",
       "      <th>0</th>\n",
       "      <td>TRAIN_000</td>\n",
       "      <td>1</td>\n",
       "      <td>0.533433</td>\n",
       "      <td>2022-06-13 5:14</td>\n",
       "      <td>T050304</td>\n",
       "      <td>A_31</td>\n",
       "      <td>NaN</td>\n",
       "      <td>NaN</td>\n",
       "      <td>NaN</td>\n",
       "      <td>NaN</td>\n",
       "      <td>...</td>\n",
       "      <td>189.0</td>\n",
       "      <td>383.0</td>\n",
       "      <td>368.296296</td>\n",
       "      <td>353.0</td>\n",
       "      <td>39.34</td>\n",
       "      <td>40.89</td>\n",
       "      <td>32.56</td>\n",
       "      <td>34.09</td>\n",
       "      <td>77.77</td>\n",
       "      <td>NaN</td>\n",
       "    </tr>\n",
       "    <tr>\n",
       "      <th>1</th>\n",
       "      <td>TRAIN_001</td>\n",
       "      <td>2</td>\n",
       "      <td>0.541819</td>\n",
       "      <td>2022-06-13 5:22</td>\n",
       "      <td>T050307</td>\n",
       "      <td>A_31</td>\n",
       "      <td>NaN</td>\n",
       "      <td>NaN</td>\n",
       "      <td>NaN</td>\n",
       "      <td>NaN</td>\n",
       "      <td>...</td>\n",
       "      <td>185.6</td>\n",
       "      <td>383.0</td>\n",
       "      <td>367.735849</td>\n",
       "      <td>353.0</td>\n",
       "      <td>38.89</td>\n",
       "      <td>42.82</td>\n",
       "      <td>43.92</td>\n",
       "      <td>35.34</td>\n",
       "      <td>72.55</td>\n",
       "      <td>NaN</td>\n",
       "    </tr>\n",
       "    <tr>\n",
       "      <th>2</th>\n",
       "      <td>TRAIN_002</td>\n",
       "      <td>1</td>\n",
       "      <td>0.531267</td>\n",
       "      <td>2022-06-13 5:30</td>\n",
       "      <td>T050304</td>\n",
       "      <td>A_31</td>\n",
       "      <td>NaN</td>\n",
       "      <td>NaN</td>\n",
       "      <td>NaN</td>\n",
       "      <td>NaN</td>\n",
       "      <td>...</td>\n",
       "      <td>165.5</td>\n",
       "      <td>383.0</td>\n",
       "      <td>367.320755</td>\n",
       "      <td>353.0</td>\n",
       "      <td>39.19</td>\n",
       "      <td>36.65</td>\n",
       "      <td>42.47</td>\n",
       "      <td>36.53</td>\n",
       "      <td>78.35</td>\n",
       "      <td>NaN</td>\n",
       "    </tr>\n",
       "  </tbody>\n",
       "</table>\n",
       "<p>3 rows × 2795 columns</p>\n",
       "</div>"
      ],
      "text/plain": [
       "  PRODUCT_ID  Y_Class  Y_Quality        TIMESTAMP     LINE PRODUCT_CODE  X_1  \\\n",
       "0  TRAIN_000        1   0.533433  2022-06-13 5:14  T050304         A_31  NaN   \n",
       "1  TRAIN_001        2   0.541819  2022-06-13 5:22  T050307         A_31  NaN   \n",
       "2  TRAIN_002        1   0.531267  2022-06-13 5:30  T050304         A_31  NaN   \n",
       "\n",
       "   X_2  X_3  X_4  ...  X_2862  X_2863      X_2864  X_2865  X_2866  X_2867  \\\n",
       "0  NaN  NaN  NaN  ...   189.0   383.0  368.296296   353.0   39.34   40.89   \n",
       "1  NaN  NaN  NaN  ...   185.6   383.0  367.735849   353.0   38.89   42.82   \n",
       "2  NaN  NaN  NaN  ...   165.5   383.0  367.320755   353.0   39.19   36.65   \n",
       "\n",
       "   X_2868  X_2869  X_2870  X_2871  \n",
       "0   32.56   34.09   77.77     NaN  \n",
       "1   43.92   35.34   72.55     NaN  \n",
       "2   42.47   36.53   78.35     NaN  \n",
       "\n",
       "[3 rows x 2795 columns]"
      ]
     },
     "execution_count": 216,
     "metadata": {},
     "output_type": "execute_result"
    }
   ],
   "source": [
    "col_list = train.columns\n",
    "nan_list = []\n",
    "nan_cnt = []\n",
    "nan_col = []\n",
    "full_list = []\n",
    "for col in col_list:\n",
    "    if train[col].isnull().sum() == 0 :\n",
    "        full_list.append(col)\n",
    "        continue\n",
    "    nan_list.append([col, train[col].isnull().sum()])\n",
    "    nan_cnt.append(train[col].isnull().sum())\n",
    "    nan_col.append(col)\n",
    "    \n",
    "'''모든값이 결측값이면 제거'''\n",
    "del_col = []\n",
    "for col in nan_list :\n",
    "    if col[1] == 598 :\n",
    "        del_col.append(col[0])\n",
    "train = train.drop(columns=del_col)\n",
    "test = test.drop(columns=del_col)\n",
    "train.head(3)"
   ]
  },
  {
   "cell_type": "code",
   "execution_count": 217,
   "id": "adverse-millennium",
   "metadata": {},
   "outputs": [],
   "source": [
    "trainA_31 = train[train['PRODUCT_CODE']=='A_31']\n",
    "train_T_31 = train[train['PRODUCT_CODE']=='T_31']\n",
    "train_O_31 = train[train['PRODUCT_CODE']=='O_31']\n",
    "\n",
    "testA_31 = test[test['PRODUCT_CODE']=='A_31']\n",
    "test_T_31 = test[test['PRODUCT_CODE']=='T_31']\n",
    "test_O_31 = test[test['PRODUCT_CODE']=='O_31']"
   ]
  },
  {
   "cell_type": "code",
   "execution_count": 218,
   "id": "appropriate-receipt",
   "metadata": {},
   "outputs": [],
   "source": [
    "col_list = train.columns\n",
    "nan_listA_31 = []\n",
    "nan_cntA_31 = []\n",
    "nan_colA_31 = []\n",
    "full_listA_31 = []\n",
    "for col in col_list:\n",
    "    if trainA_31[col].isnull().sum() == 0 :\n",
    "        full_listA_31.append(col)\n",
    "        continue\n",
    "    nan_listA_31.append([col, trainA_31[col].isnull().sum()])\n",
    "    nan_cntA_31.append(trainA_31[col].isnull().sum())\n",
    "    nan_colA_31.append(col)\n",
    "    \n",
    "'''모든값이 결측값이면 제거'''\n",
    "del_col = []\n",
    "for col in nan_listA_31 :\n",
    "    if col[1] == len(trainA_31) :\n",
    "        del_col.append(col[0])\n",
    "trainA_31 = trainA_31.drop(columns=del_col)\n",
    "testA_31 = testA_31.drop(columns=del_col)\n",
    "\n",
    "'''값이 1개 존재하면 제거'''\n",
    "del_col = []\n",
    "col_list = trainA_31.columns\n",
    "for col in col_list[6:] :\n",
    "    if trainA_31[col].nunique()==1 :\n",
    "        del_col.append(col)\n",
    "trainA_31 = trainA_31.drop(columns=del_col)\n",
    "testA_31 = testA_31.drop(columns=del_col)"
   ]
  },
  {
   "cell_type": "code",
   "execution_count": 219,
   "id": "sophisticated-colon",
   "metadata": {},
   "outputs": [],
   "source": [
    "col_list = train.columns\n",
    "nan_listO = []\n",
    "nan_cntO = []\n",
    "nan_colO = []\n",
    "full_listO = []\n",
    "for col in col_list:\n",
    "    if train_O_31[col].isnull().sum() == 0 :\n",
    "        full_listO.append(col)\n",
    "        continue\n",
    "    nan_listO.append([col, train_O_31[col].isnull().sum()])\n",
    "    nan_cntO.append(train_O_31[col].isnull().sum())\n",
    "    nan_colO.append(col)\n",
    "    \n",
    "'''모든값이 결측값이면 제거'''\n",
    "del_col = []\n",
    "for col in nan_listO :\n",
    "    if col[1] == len(train_O_31) :\n",
    "        del_col.append(col[0])\n",
    "train_O_31 = train_O_31.drop(columns=del_col)\n",
    "test_O_31 = test_O_31.drop(columns=del_col)\n",
    "\n",
    "'''값이 1개 존재하면 제거'''\n",
    "del_col = []\n",
    "col_list = train_O_31.columns\n",
    "for col in col_list[6:] :\n",
    "    if train_O_31[col].nunique()==1 :\n",
    "        del_col.append(col)\n",
    "train_O_31 = train_O_31.drop(columns=del_col)\n",
    "test_O_31 = test_O_31.drop(columns=del_col)"
   ]
  },
  {
   "cell_type": "code",
   "execution_count": 220,
   "id": "massive-dominican",
   "metadata": {},
   "outputs": [],
   "source": [
    "col_list = train.columns\n",
    "nan_listT = []\n",
    "nan_cntT = []\n",
    "nan_colT = []\n",
    "full_listT = []\n",
    "for col in col_list:\n",
    "    if train_T_31[col].isnull().sum() == 0 :\n",
    "        full_listT.append(col)\n",
    "        continue\n",
    "    nan_listT.append([col, train_T_31[col].isnull().sum()])\n",
    "    nan_cntT.append(train_T_31[col].isnull().sum())\n",
    "    nan_colT.append(col)\n",
    "    \n",
    "'''모든값이 결측값이면 제거'''\n",
    "del_col = []\n",
    "for col in nan_listT :\n",
    "    if col[1] == len(train_T_31) :\n",
    "        del_col.append(col[0])\n",
    "train_T_31 = train_T_31.drop(columns=del_col)\n",
    "test_T_31 = test_T_31.drop(columns=del_col)\n",
    "\n",
    "'''값이 1개 존재하면 제거'''\n",
    "del_col = []\n",
    "col_list = train_T_31.columns\n",
    "for col in col_list[6:] :\n",
    "    if train_T_31[col].nunique()==1 :\n",
    "        del_col.append(col)\n",
    "train_T_31 = train_T_31.drop(columns=del_col)\n",
    "test_T_31 = test_T_31.drop(columns=del_col)"
   ]
  },
  {
   "cell_type": "code",
   "execution_count": 221,
   "id": "swiss-density",
   "metadata": {},
   "outputs": [],
   "source": [
    "trainA_31_x = trainA_31.drop(columns=['PRODUCT_ID','TIMESTAMP','PRODUCT_CODE','Y_Class','Y_Quality'])\n",
    "testA_31_x = testA_31.drop(columns=['PRODUCT_ID','TIMESTAMP','PRODUCT_CODE'])\n",
    "train_T_31_x = train_T_31.drop(columns=['PRODUCT_ID','TIMESTAMP','Y_Class','Y_Quality','PRODUCT_CODE'])\n",
    "test_T_31_x = test_T_31.drop(columns=['PRODUCT_ID','TIMESTAMP','PRODUCT_CODE'])\n",
    "train_O_31_x = train_O_31.drop(columns=['PRODUCT_ID','TIMESTAMP','PRODUCT_CODE','Y_Class','Y_Quality'])\n",
    "test_O_31_x = test_O_31.drop(columns=['PRODUCT_ID','TIMESTAMP','PRODUCT_CODE'])\n",
    "\n",
    "# classification\n",
    "trainA_31_y_c = trainA_31['Y_Class']\n",
    "train_T_31_y_c = train_T_31['Y_Class']\n",
    "train_O_31_y_c = train_O_31['Y_Class']\n",
    "\n",
    "# regression\n",
    "trainA_31_y_r = trainA_31['Y_Quality']\n",
    "train_T_31_y_r = train_T_31['Y_Quality']\n",
    "train_O_31_y_r = train_O_31['Y_Quality']"
   ]
  },
  {
   "cell_type": "code",
   "execution_count": 222,
   "id": "royal-worry",
   "metadata": {},
   "outputs": [
    {
     "name": "stdout",
     "output_type": "stream",
     "text": [
      "(249, 1866) \n",
      " (67, 1866) \n",
      " (343, 546) \n",
      " (239, 546) \n",
      " (6, 495) \n",
      " (4, 495)\n"
     ]
    }
   ],
   "source": [
    "print(trainA_31_x.shape,'\\n',testA_31_x.shape,'\\n',train_T_31_x.shape,'\\n',test_T_31_x.shape,'\\n',train_O_31_x.shape,'\\n',test_O_31_x.shape)"
   ]
  },
  {
   "cell_type": "code",
   "execution_count": 223,
   "id": "outstanding-marker",
   "metadata": {},
   "outputs": [
    {
     "data": {
      "text/plain": [
       "array(['T050304', 'T050307', 'T010306', 'T010305'], dtype=object)"
      ]
     },
     "execution_count": 223,
     "metadata": {},
     "output_type": "execute_result"
    }
   ],
   "source": [
    "trainA_31_x['LINE'].unique()"
   ]
  },
  {
   "cell_type": "code",
   "execution_count": 224,
   "id": "powered-bottom",
   "metadata": {},
   "outputs": [
    {
     "data": {
      "text/plain": [
       "array(['T010305', 'T010306', 'T050304', 'T050307'], dtype=object)"
      ]
     },
     "execution_count": 224,
     "metadata": {},
     "output_type": "execute_result"
    }
   ],
   "source": [
    "testA_31_x['LINE'].unique()"
   ]
  },
  {
   "cell_type": "code",
   "execution_count": 225,
   "id": "appreciated-environment",
   "metadata": {},
   "outputs": [
    {
     "name": "stdout",
     "output_type": "stream",
     "text": [
      "0 \n",
      " 0 \n",
      " 0 \n",
      " 0 \n",
      " 0 \n",
      " 0 \n",
      " 0 \n",
      " 0\n"
     ]
    }
   ],
   "source": [
    "print(len(trainA_31_x[trainA_31_x['LINE']==0]),'\\n',\n",
    "len(trainA_31_x[trainA_31_x['LINE']==1]),'\\n',\n",
    "len(trainA_31_x[trainA_31_x['LINE']==2]),'\\n',\n",
    "len(trainA_31_x[trainA_31_x['LINE']==3]),'\\n',\n",
    "len(testA_31_x[testA_31_x['LINE']==0]),'\\n',\n",
    "len(testA_31_x[testA_31_x['LINE']==1]),'\\n',\n",
    "len(testA_31_x[testA_31_x['LINE']==2]),'\\n',\n",
    "len(testA_31_x[testA_31_x['LINE']==3]))"
   ]
  },
  {
   "cell_type": "code",
   "execution_count": 226,
   "id": "perceived-nylon",
   "metadata": {},
   "outputs": [],
   "source": [
    "trainA_31_x=trainA_31_x.fillna(-1)\n",
    "testA_31_x=testA_31_x.fillna(-1)\n",
    "train_T_31_x=train_T_31_x.fillna(-1)\n",
    "test_T_31_x=test_T_31_x.fillna(-1)\n",
    "train_O_31_x=train_O_31_x.fillna(-1)\n",
    "test_O_31_x=test_O_31_x.fillna(-1)"
   ]
  },
  {
   "cell_type": "code",
   "execution_count": 227,
   "id": "sought-flour",
   "metadata": {},
   "outputs": [
    {
     "name": "stdout",
     "output_type": "stream",
     "text": [
      "Done.\n"
     ]
    }
   ],
   "source": [
    "# qualitative to quantitative\n",
    "qual_col = ['LINE']\n",
    "for i in qual_col:\n",
    "    le = LabelEncoder()\n",
    "    le = le.fit(trainA_31_x[i])\n",
    "    trainA_31_x[i] = le.transform(trainA_31_x[i])\n",
    "    \n",
    "    for label in np.unique(testA_31_x[i]): \n",
    "        if label not in le.classes_: \n",
    "            le.classes_ = np.append(le.classes_, label)\n",
    "    testA_31_x[i] = le.transform(testA_31_x[i]) \n",
    "print('Done.')"
   ]
  },
  {
   "cell_type": "code",
   "execution_count": 228,
   "id": "alone-modification",
   "metadata": {},
   "outputs": [
    {
     "name": "stdout",
     "output_type": "stream",
     "text": [
      "Done.\n"
     ]
    }
   ],
   "source": [
    "# qualitative to quantitative\n",
    "qual_col = ['LINE']\n",
    "for i in qual_col:\n",
    "    le = LabelEncoder()\n",
    "    le = le.fit(train_T_31_x[i])\n",
    "    train_T_31_x[i] = le.transform(train_T_31_x[i])\n",
    "    \n",
    "    for label in np.unique(test_T_31_x[i]): \n",
    "        if label not in le.classes_: \n",
    "            le.classes_ = np.append(le.classes_, label)\n",
    "    test_T_31_x[i] = le.transform(test_T_31_x[i]) \n",
    "print('Done.')"
   ]
  },
  {
   "cell_type": "code",
   "execution_count": 229,
   "id": "associate-threat",
   "metadata": {},
   "outputs": [
    {
     "name": "stdout",
     "output_type": "stream",
     "text": [
      "Done.\n"
     ]
    }
   ],
   "source": [
    "# qualitative to quantitative\n",
    "qual_col = ['LINE']\n",
    "for i in qual_col:\n",
    "    le = LabelEncoder()\n",
    "    le = le.fit(train_O_31_x[i])\n",
    "    train_O_31_x[i] = le.transform(train_O_31_x[i])\n",
    "    \n",
    "    for label in np.unique(test_O_31_x[i]): \n",
    "        if label not in le.classes_: \n",
    "            le.classes_ = np.append(le.classes_, label)\n",
    "    test_O_31_x[i] = le.transform(test_O_31_x[i]) \n",
    "print('Done.')"
   ]
  },
  {
   "cell_type": "code",
   "execution_count": 230,
   "id": "mathematical-minutes",
   "metadata": {},
   "outputs": [],
   "source": [
    "#from imblearn.combine import SMOTETomek"
   ]
  },
  {
   "cell_type": "code",
   "execution_count": 231,
   "id": "bridal-storage",
   "metadata": {},
   "outputs": [],
   "source": [
    "from catboost import *"
   ]
  },
  {
   "cell_type": "code",
   "execution_count": 202,
   "id": "material-isolation",
   "metadata": {},
   "outputs": [
    {
     "name": "stdout",
     "output_type": "stream",
     "text": [
      "0:\tlearn: 0.0098329\ttotal: 113ms\tremaining: 2m 49s\n",
      "500:\tlearn: 0.0006581\ttotal: 30.5s\tremaining: 1m\n",
      "1000:\tlearn: 0.0000632\ttotal: 1m 2s\tremaining: 30.9s\n",
      "1499:\tlearn: 0.0000061\ttotal: 1m 32s\tremaining: 0us\n"
     ]
    }
   ],
   "source": [
    "model = CatBoostRegressor(random_state=1234,verbose=500,iterations=1500,learning_rate=0.033)\n",
    "model.fit(trainA_31_x, trainA_31_y_r)\n",
    "pred_a = model.predict(testA_31_x)"
   ]
  },
  {
   "cell_type": "code",
   "execution_count": 203,
   "id": "requested-acceptance",
   "metadata": {},
   "outputs": [
    {
     "name": "stdout",
     "output_type": "stream",
     "text": [
      "0:\tlearn: 0.0047159\ttotal: 24.5ms\tremaining: 36.8s\n",
      "500:\tlearn: 0.0005292\ttotal: 12s\tremaining: 23.9s\n",
      "1000:\tlearn: 0.0000593\ttotal: 24s\tremaining: 12s\n",
      "1499:\tlearn: 0.0000079\ttotal: 36.7s\tremaining: 0us\n"
     ]
    }
   ],
   "source": [
    "#model = CatBoostRegressor(random_state=110,verbose=500,iterations=500)\n",
    "model.fit(train_T_31_x, train_T_31_y_r)\n",
    "pred_t = model.predict(test_T_31_x)"
   ]
  },
  {
   "cell_type": "code",
   "execution_count": 204,
   "id": "driven-thong",
   "metadata": {},
   "outputs": [
    {
     "name": "stdout",
     "output_type": "stream",
     "text": [
      "0:\tlearn: 0.0031679\ttotal: 4.02ms\tremaining: 6.02s\n",
      "500:\tlearn: 0.0000479\ttotal: 1.98s\tremaining: 3.95s\n",
      "1000:\tlearn: 0.0000008\ttotal: 3.67s\tremaining: 1.83s\n",
      "1499:\tlearn: 0.0000000\ttotal: 5.51s\tremaining: 0us\n"
     ]
    }
   ],
   "source": [
    "#model = CatBoostRegressor(random_state=110,verbose=500,iterations=500)\n",
    "model.fit(train_O_31_x, train_O_31_y_r)\n",
    "pred_o = model.predict(test_O_31_x)"
   ]
  },
  {
   "cell_type": "code",
   "execution_count": 205,
   "id": "intended-zimbabwe",
   "metadata": {},
   "outputs": [],
   "source": [
    "testA_31['Y_quanlity'] = pred_a\n",
    "test_T_31['Y_quanlity'] = pred_t\n",
    "test_O_31['Y_quanlity'] = pred_o"
   ]
  },
  {
   "cell_type": "code",
   "execution_count": 206,
   "id": "seventh-argentina",
   "metadata": {},
   "outputs": [],
   "source": [
    "testA_31['Y_Class'] = 1\n",
    "test_T_31['Y_Class'] = 1\n",
    "test_O_31['Y_Class'] = 1"
   ]
  },
  {
   "cell_type": "code",
   "execution_count": 207,
   "id": "reduced-least",
   "metadata": {},
   "outputs": [],
   "source": [
    "testA_31.loc[(testA_31['Y_quanlity']<0.52507), 'Y_Class'] = 0\n",
    "testA_31.loc[(testA_31['Y_quanlity']>0.5349), 'Y_Class'] = 2\n",
    "\n",
    "test_T_31.loc[(test_T_31['Y_quanlity']<0.52507), 'Y_Class'] = 0\n",
    "test_T_31.loc[(test_T_31['Y_quanlity']>0.5349), 'Y_Class'] = 2\n",
    "\n",
    "test_O_31.loc[(test_O_31['Y_quanlity']<0.52507), 'Y_Class'] = 0\n",
    "test_O_31.loc[(test_O_31['Y_quanlity']>0.5349), 'Y_Class'] = 2"
   ]
  },
  {
   "cell_type": "code",
   "execution_count": 208,
   "id": "knowing-tuning",
   "metadata": {},
   "outputs": [],
   "source": [
    "submita = pd.read_csv('sample_submission.csv')\n",
    "submitt = pd.read_csv('sample_submission.csv')\n",
    "submito = pd.read_csv('sample_submission.csv')"
   ]
  },
  {
   "cell_type": "code",
   "execution_count": 209,
   "id": "significant-aspect",
   "metadata": {},
   "outputs": [],
   "source": [
    "submita = pd.merge(submita[['PRODUCT_ID']],testA_31[['PRODUCT_ID','Y_Class']],on='PRODUCT_ID')\n",
    "submitt = pd.merge(submitt[['PRODUCT_ID']],test_T_31[['PRODUCT_ID','Y_Class']],on='PRODUCT_ID')\n",
    "submito = pd.merge(submito[['PRODUCT_ID']],test_O_31[['PRODUCT_ID','Y_Class']],on='PRODUCT_ID')"
   ]
  },
  {
   "cell_type": "code",
   "execution_count": 210,
   "id": "little-module",
   "metadata": {
    "scrolled": true
   },
   "outputs": [],
   "source": [
    "pd.concat([submita,submitt,submito]).sort_values(by='PRODUCT_ID').to_csv('캣2_5.csv',index=False)"
   ]
  },
  {
   "cell_type": "code",
   "execution_count": 211,
   "id": "statistical-orlando",
   "metadata": {},
   "outputs": [
    {
     "data": {
      "text/html": [
       "<div>\n",
       "<style scoped>\n",
       "    .dataframe tbody tr th:only-of-type {\n",
       "        vertical-align: middle;\n",
       "    }\n",
       "\n",
       "    .dataframe tbody tr th {\n",
       "        vertical-align: top;\n",
       "    }\n",
       "\n",
       "    .dataframe thead th {\n",
       "        text-align: right;\n",
       "    }\n",
       "</style>\n",
       "<table border=\"1\" class=\"dataframe\">\n",
       "  <thead>\n",
       "    <tr style=\"text-align: right;\">\n",
       "      <th></th>\n",
       "      <th>PRODUCT_ID</th>\n",
       "      <th>Y_Class</th>\n",
       "    </tr>\n",
       "  </thead>\n",
       "  <tbody>\n",
       "    <tr>\n",
       "      <th>0</th>\n",
       "      <td>TEST_138</td>\n",
       "      <td>1</td>\n",
       "    </tr>\n",
       "    <tr>\n",
       "      <th>1</th>\n",
       "      <td>TEST_256</td>\n",
       "      <td>1</td>\n",
       "    </tr>\n",
       "    <tr>\n",
       "      <th>2</th>\n",
       "      <td>TEST_257</td>\n",
       "      <td>1</td>\n",
       "    </tr>\n",
       "    <tr>\n",
       "      <th>3</th>\n",
       "      <td>TEST_287</td>\n",
       "      <td>1</td>\n",
       "    </tr>\n",
       "  </tbody>\n",
       "</table>\n",
       "</div>"
      ],
      "text/plain": [
       "  PRODUCT_ID  Y_Class\n",
       "0   TEST_138        1\n",
       "1   TEST_256        1\n",
       "2   TEST_257        1\n",
       "3   TEST_287        1"
      ]
     },
     "execution_count": 211,
     "metadata": {},
     "output_type": "execute_result"
    }
   ],
   "source": [
    "submito"
   ]
  },
  {
   "cell_type": "code",
   "execution_count": null,
   "id": "settled-train",
   "metadata": {},
   "outputs": [],
   "source": []
  },
  {
   "cell_type": "code",
   "execution_count": 157,
   "id": "italian-plaintiff",
   "metadata": {},
   "outputs": [
    {
     "data": {
      "text/html": [
       "<div>\n",
       "<style scoped>\n",
       "    .dataframe tbody tr th:only-of-type {\n",
       "        vertical-align: middle;\n",
       "    }\n",
       "\n",
       "    .dataframe tbody tr th {\n",
       "        vertical-align: top;\n",
       "    }\n",
       "\n",
       "    .dataframe thead th {\n",
       "        text-align: right;\n",
       "    }\n",
       "</style>\n",
       "<table border=\"1\" class=\"dataframe\">\n",
       "  <thead>\n",
       "    <tr style=\"text-align: right;\">\n",
       "      <th></th>\n",
       "      <th>PRODUCT_ID</th>\n",
       "      <th>Y_Class</th>\n",
       "    </tr>\n",
       "  </thead>\n",
       "  <tbody>\n",
       "    <tr>\n",
       "      <th>257</th>\n",
       "      <td>TEST_257</td>\n",
       "      <td>1</td>\n",
       "    </tr>\n",
       "  </tbody>\n",
       "</table>\n",
       "</div>"
      ],
      "text/plain": [
       "    PRODUCT_ID  Y_Class\n",
       "257   TEST_257        1"
      ]
     },
     "execution_count": 157,
     "metadata": {},
     "output_type": "execute_result"
    }
   ],
   "source": [
    "pd.read_csv('catboost.csv')[pd.read_csv('catboost.csv')['PRODUCT_ID']=='TEST_257']"
   ]
  },
  {
   "cell_type": "code",
   "execution_count": null,
   "id": "opposite-national",
   "metadata": {},
   "outputs": [],
   "source": []
  },
  {
   "cell_type": "code",
   "execution_count": 17,
   "id": "laden-remedy",
   "metadata": {},
   "outputs": [
    {
     "name": "stdout",
     "output_type": "stream",
     "text": [
      "Learning rate set to 0.051607\n",
      "0:\tlearn: 0.0097830\ttotal: 221ms\tremaining: 1m 50s\n",
      "499:\tlearn: 0.0001949\ttotal: 31.4s\tremaining: 0us\n"
     ]
    }
   ],
   "source": [
    "model = CatBoostRegressor(random_state=110,verbose=500,iterations=500)\n",
    "model.fit(trainA_31_x, trainA_31_y_r)\n",
    "pred_a = model.predict(testA_31_x)"
   ]
  },
  {
   "cell_type": "code",
   "execution_count": 18,
   "id": "intelligent-orange",
   "metadata": {},
   "outputs": [
    {
     "name": "stdout",
     "output_type": "stream",
     "text": [
      "Learning rate set to 0.054803\n",
      "0:\tlearn: 0.0046878\ttotal: 31.2ms\tremaining: 15.6s\n",
      "499:\tlearn: 0.0001367\ttotal: 12.5s\tremaining: 0us\n"
     ]
    }
   ],
   "source": [
    "model.fit(train_T_O_x, train_T_O_y_r)\n",
    "pred_t = model.predict(test_T_O_x)"
   ]
  },
  {
   "cell_type": "code",
   "execution_count": 19,
   "id": "heavy-jackson",
   "metadata": {},
   "outputs": [],
   "source": [
    "testA_31['Y_quanlity'] = pred_a\n",
    "test_T_O['Y_quanlity'] = pred_t"
   ]
  },
  {
   "cell_type": "code",
   "execution_count": 20,
   "id": "polished-valuation",
   "metadata": {},
   "outputs": [],
   "source": [
    "testA_31['Y_Class'] = 1\n",
    "test_T_O['Y_Class'] = 1"
   ]
  },
  {
   "cell_type": "code",
   "execution_count": 21,
   "id": "musical-recipe",
   "metadata": {},
   "outputs": [],
   "source": [
    "testA_31.loc[(testA_31['Y_quanlity']<0.52507), 'Y_Class'] = 0\n",
    "testA_31.loc[(testA_31['Y_quanlity']>0.5349), 'Y_Class'] = 2\n",
    "\n",
    "test_T_O.loc[(test_T_O['Y_quanlity']<0.52507), 'Y_Class'] = 0\n",
    "test_T_O.loc[(test_T_O['Y_quanlity']>0.5349), 'Y_Class'] = 2"
   ]
  },
  {
   "cell_type": "code",
   "execution_count": 22,
   "id": "adult-success",
   "metadata": {},
   "outputs": [],
   "source": [
    "submita = pd.read_csv('sample_submission.csv')\n",
    "submitt = pd.read_csv('sample_submission.csv')"
   ]
  },
  {
   "cell_type": "code",
   "execution_count": 23,
   "id": "raising-morocco",
   "metadata": {},
   "outputs": [],
   "source": [
    "submita = pd.merge(submita[['PRODUCT_ID']],testA_31[['PRODUCT_ID','Y_Class']],on='PRODUCT_ID')\n",
    "submitt = pd.merge(submitt[['PRODUCT_ID']],test_T_O[['PRODUCT_ID','Y_Class']],on='PRODUCT_ID')\n",
    "\n",
    "pd.concat([submita,submitt]).sort_values(by='PRODUCT_ID').to_csv('sub0203_cat_reg_time_del.csv',index=False)"
   ]
  },
  {
   "cell_type": "code",
   "execution_count": 212,
   "id": "subtle-stationery",
   "metadata": {},
   "outputs": [
    {
     "data": {
      "text/plain": [
       "array([0, 1, 1, 1, 0, 0, 1, 1, 1, 1, 0, 0, 0, 1, 0, 2, 0, 1, 0, 0, 0, 0,\n",
       "       0, 0, 0, 0, 0, 0, 0, 0, 1, 1, 0, 1, 0, 1, 1, 1, 1, 1, 1, 1, 1, 1,\n",
       "       1, 1, 1, 1, 1, 1, 1, 1, 1, 1, 1, 1, 1, 1, 1, 1, 1, 1, 1, 0, 1, 0,\n",
       "       1], dtype=int64)"
      ]
     },
     "execution_count": 212,
     "metadata": {},
     "output_type": "execute_result"
    }
   ],
   "source": [
    "testA_31['Y_quanlity'] = pred_a\n",
    "testA_31['Y_Class'] = 1\n",
    "testA_31.loc[(testA_31['Y_quanlity']<0.52507), 'Y_Class'] = 0\n",
    "testA_31.loc[(testA_31['Y_quanlity']>0.5349), 'Y_Class'] = 2\n",
    "testA_31['Y_Class'].values"
   ]
  },
  {
   "cell_type": "code",
   "execution_count": 122,
   "id": "smaller-strap",
   "metadata": {},
   "outputs": [
    {
     "data": {
      "text/plain": [
       "array([0, 1, 1, 1, 0, 0, 1, 1, 1, 1, 0, 0, 0, 1, 0, 2, 0, 1, 0, 0, 0, 0,\n",
       "       1, 0, 0, 1, 0, 0, 0, 0, 1, 1, 0, 1, 0, 1, 1, 1, 1, 1, 1, 1, 1, 0,\n",
       "       0, 1, 1, 1, 1, 1, 0, 1, 0, 0, 0, 0, 1, 1, 0, 1, 1, 1, 0, 0, 0, 0,\n",
       "       0], dtype=int64)"
      ]
     },
     "execution_count": 122,
     "metadata": {},
     "output_type": "execute_result"
    }
   ],
   "source": [
    "testA_31['Y_Class'].values"
   ]
  },
  {
   "cell_type": "code",
   "execution_count": 93,
   "id": "civil-wells",
   "metadata": {},
   "outputs": [
    {
     "data": {
      "text/plain": [
       "array([0, 1, 1, 1, 0, 0, 1, 1, 1, 2, 0, 0, 0, 1, 0, 2, 1, 1, 0, 0, 1, 1,\n",
       "       1, 0, 0, 1, 0, 0, 0, 0, 1, 1, 0, 1, 0, 1, 1, 1, 1, 1, 1, 1, 1, 1,\n",
       "       1, 1, 1, 1, 1, 1, 0, 0, 0, 0, 0, 0, 1, 1, 1, 0, 1, 1, 0, 0, 0, 0,\n",
       "       0], dtype=int64)"
      ]
     },
     "execution_count": 93,
     "metadata": {},
     "output_type": "execute_result"
    }
   ],
   "source": [
    "testA_31['Y_Class'].values"
   ]
  },
  {
   "cell_type": "code",
   "execution_count": 24,
   "id": "specialized-honduras",
   "metadata": {},
   "outputs": [
    {
     "data": {
      "text/plain": [
       "array([0, 1, 1, 1, 0, 0, 1, 1, 1, 1, 0, 0, 0, 1, 0, 2, 0, 1, 0, 0, 0, 0,\n",
       "       1, 0, 0, 1, 0, 0, 0, 0, 1, 1, 0, 1, 0, 1, 1, 1, 1, 1, 1, 1, 1, 0,\n",
       "       0, 1, 1, 1, 1, 1, 0, 1, 0, 0, 0, 0, 1, 1, 0, 1, 1, 1, 0, 0, 0, 0,\n",
       "       0], dtype=int64)"
      ]
     },
     "execution_count": 24,
     "metadata": {},
     "output_type": "execute_result"
    }
   ],
   "source": [
    "testA_31['Y_Class'].values"
   ]
  },
  {
   "cell_type": "code",
   "execution_count": 123,
   "id": "complex-deadline",
   "metadata": {},
   "outputs": [
    {
     "data": {
      "text/plain": [
       "array([1, 1, 1, 1, 1, 1, 1, 1, 1, 1, 1, 1, 1, 1, 1, 1, 1, 1, 1, 1, 1, 1,\n",
       "       1, 1, 1, 1, 1, 0, 1, 0, 1, 0, 1, 1, 1, 1, 1, 1, 1, 1, 1, 1, 1, 1,\n",
       "       1, 1, 1, 1, 1, 1, 1, 1, 1, 1, 1, 1, 1, 1, 1, 1, 1, 1, 1, 1, 1, 1,\n",
       "       1, 1, 1, 1, 1, 1, 2, 1, 1, 1, 1, 1, 2, 1, 1, 1, 1, 1, 1, 2, 1, 1,\n",
       "       1, 1, 1, 1, 1, 1, 1, 1, 1, 1, 1, 1, 1, 1, 1, 1, 1, 1, 1, 1, 1, 1,\n",
       "       1, 2, 2, 1, 2, 1, 1, 1, 1, 1, 1, 1, 1, 1, 1, 1, 1, 1, 1, 1, 1, 1,\n",
       "       1, 1, 2, 1, 1, 1, 2, 1, 1, 1, 1, 1, 1, 1, 1, 1, 1, 1, 1, 1, 1, 1,\n",
       "       1, 1, 1, 1, 1, 1, 1, 1, 1, 1, 1, 1, 1, 1, 1, 1, 1, 1, 1, 1, 1, 1,\n",
       "       1, 1, 1, 1, 1, 1, 1, 1, 1, 1, 1, 1, 1, 1, 1, 1, 1, 1, 1, 1, 1, 1,\n",
       "       1, 1, 1, 1, 1, 1, 1, 1, 1, 1, 1, 1, 1, 1, 1, 1, 1, 1, 1, 1, 1, 1,\n",
       "       1, 1, 1, 1, 1, 1, 1, 1, 1, 1, 1, 1, 1, 1, 1, 1, 1, 1, 1],\n",
       "      dtype=int64)"
      ]
     },
     "execution_count": 123,
     "metadata": {},
     "output_type": "execute_result"
    }
   ],
   "source": [
    "test_T_31['Y_Class'].values"
   ]
  },
  {
   "cell_type": "code",
   "execution_count": 94,
   "id": "mineral-wisdom",
   "metadata": {},
   "outputs": [
    {
     "data": {
      "text/plain": [
       "array([1, 1, 1, 1, 1, 1, 1, 1, 1, 1, 1, 1, 1, 1, 1, 1, 1, 1, 1, 1, 1, 1,\n",
       "       1, 1, 1, 1, 1, 0, 1, 0, 1, 0, 1, 1, 1, 1, 1, 1, 1, 1, 1, 1, 1, 1,\n",
       "       1, 1, 1, 2, 1, 1, 1, 1, 1, 1, 1, 1, 1, 1, 1, 1, 1, 1, 1, 1, 1, 1,\n",
       "       1, 1, 1, 1, 1, 1, 1, 1, 1, 1, 1, 1, 1, 1, 1, 1, 1, 1, 1, 2, 1, 1,\n",
       "       2, 1, 1, 1, 1, 1, 1, 1, 1, 1, 1, 1, 1, 1, 1, 1, 1, 1, 1, 1, 1, 1,\n",
       "       1, 2, 2, 1, 2, 1, 1, 1, 1, 1, 1, 1, 1, 1, 1, 1, 1, 1, 1, 1, 2, 1,\n",
       "       1, 1, 1, 1, 1, 1, 1, 1, 1, 1, 1, 1, 1, 1, 1, 1, 1, 1, 1, 1, 1, 1,\n",
       "       1, 1, 1, 1, 1, 1, 1, 1, 1, 1, 1, 1, 1, 1, 1, 1, 1, 1, 1, 1, 1, 1,\n",
       "       1, 1, 1, 1, 1, 1, 1, 1, 1, 1, 1, 1, 1, 1, 1, 1, 1, 1, 1, 1, 1, 1,\n",
       "       1, 1, 1, 1, 1, 1, 1, 1, 1, 1, 1, 1, 1, 1, 1, 1, 1, 1, 1, 1, 1, 1,\n",
       "       1, 1, 1, 1, 1, 1, 1, 1, 1, 1, 1, 1, 1, 1, 1, 1, 1, 1, 1],\n",
       "      dtype=int64)"
      ]
     },
     "execution_count": 94,
     "metadata": {},
     "output_type": "execute_result"
    }
   ],
   "source": [
    "test_T_31['Y_Class'].values"
   ]
  },
  {
   "cell_type": "code",
   "execution_count": 35,
   "id": "regulation-height",
   "metadata": {},
   "outputs": [
    {
     "data": {
      "text/plain": [
       "array([1, 1, 1, 1, 1, 1, 1, 1, 1, 1, 1, 1, 1, 1, 1, 1, 1, 1, 1, 1, 1, 1,\n",
       "       1, 1, 1, 1, 1, 0, 1, 0, 1, 0, 0, 1, 1, 1, 1, 0, 1, 1, 1, 1, 1, 1,\n",
       "       1, 1, 1, 2, 1, 1, 1, 1, 1, 1, 1, 1, 1, 1, 1, 1, 1, 1, 1, 1, 1, 1,\n",
       "       1, 1, 1, 1, 1, 1, 1, 1, 1, 1, 1, 1, 1, 1, 1, 1, 1, 1, 1, 1, 1, 1,\n",
       "       1, 2, 1, 1, 1, 1, 1, 1, 1, 1, 1, 1, 1, 1, 1, 1, 1, 1, 1, 1, 1, 1,\n",
       "       1, 1, 1, 2, 1, 2, 1, 1, 1, 1, 1, 1, 1, 1, 1, 1, 1, 1, 1, 1, 1, 1,\n",
       "       1, 1, 1, 2, 1, 1, 1, 1, 1, 1, 1, 1, 1, 1, 1, 1, 1, 1, 1, 1, 1, 1,\n",
       "       1, 1, 1, 1, 1, 1, 1, 1, 1, 1, 1, 1, 1, 1, 1, 1, 1, 1, 1, 1, 1, 1,\n",
       "       1, 1, 1, 1, 1, 1, 1, 1, 1, 1, 1, 1, 1, 1, 1, 1, 1, 1, 1, 1, 1, 1,\n",
       "       1, 1, 1, 1, 1, 1, 1, 1, 1, 1, 1, 1, 1, 1, 1, 1, 1, 1, 1, 1, 1, 1,\n",
       "       1, 1, 1, 1, 1, 1, 1, 1, 1, 1, 1, 1, 1, 1, 1, 1, 1, 1, 1, 1, 1, 1,\n",
       "       1], dtype=int64)"
      ]
     },
     "execution_count": 35,
     "metadata": {},
     "output_type": "execute_result"
    }
   ],
   "source": [
    "test_T_O['Y_Class'].values"
   ]
  },
  {
   "cell_type": "code",
   "execution_count": 95,
   "id": "registered-pillow",
   "metadata": {},
   "outputs": [
    {
     "data": {
      "text/plain": [
       "array([1, 1, 1, 1], dtype=int64)"
      ]
     },
     "execution_count": 95,
     "metadata": {},
     "output_type": "execute_result"
    }
   ],
   "source": [
    "test_O_31['Y_Class'].values"
   ]
  },
  {
   "cell_type": "code",
   "execution_count": 25,
   "id": "assumed-reflection",
   "metadata": {},
   "outputs": [
    {
     "data": {
      "text/plain": [
       "array([1, 1, 1, 0, 1, 1, 1, 1, 1, 1, 1, 1, 1, 1, 1, 1, 1, 1, 1, 1, 1, 1,\n",
       "       1, 1, 1, 1, 1, 0, 1, 0, 1, 0, 1, 1, 1, 1, 1, 0, 1, 1, 1, 1, 1, 1,\n",
       "       1, 1, 1, 2, 1, 1, 1, 1, 1, 1, 1, 1, 1, 1, 1, 1, 1, 1, 1, 1, 1, 1,\n",
       "       1, 1, 1, 1, 1, 1, 1, 1, 1, 1, 1, 1, 1, 1, 1, 1, 1, 1, 1, 1, 1, 1,\n",
       "       1, 1, 1, 1, 1, 1, 1, 1, 1, 1, 1, 1, 1, 1, 1, 1, 1, 1, 1, 1, 1, 1,\n",
       "       1, 1, 2, 2, 1, 2, 1, 1, 1, 1, 1, 1, 1, 1, 1, 1, 1, 1, 1, 1, 1, 1,\n",
       "       1, 1, 1, 2, 1, 1, 1, 1, 1, 1, 1, 1, 1, 1, 1, 1, 1, 1, 1, 1, 1, 1,\n",
       "       1, 1, 1, 1, 1, 1, 1, 1, 1, 1, 1, 1, 1, 1, 1, 1, 1, 1, 1, 1, 1, 1,\n",
       "       1, 1, 1, 1, 1, 1, 1, 1, 1, 1, 1, 1, 1, 1, 1, 1, 1, 1, 1, 1, 1, 1,\n",
       "       1, 1, 1, 1, 1, 1, 1, 1, 1, 1, 1, 1, 1, 1, 1, 1, 1, 1, 1, 1, 1, 1,\n",
       "       1, 1, 1, 1, 1, 1, 1, 1, 1, 1, 1, 1, 1, 1, 1, 1, 1, 1, 1, 1, 1, 1,\n",
       "       1], dtype=int64)"
      ]
     },
     "execution_count": 25,
     "metadata": {},
     "output_type": "execute_result"
    }
   ],
   "source": [
    "test_T_O['Y_Class'].values"
   ]
  }
 ],
 "metadata": {
  "kernelspec": {
   "display_name": "Python 3",
   "language": "python",
   "name": "python3"
  },
  "language_info": {
   "codemirror_mode": {
    "name": "ipython",
    "version": 3
   },
   "file_extension": ".py",
   "mimetype": "text/x-python",
   "name": "python",
   "nbconvert_exporter": "python",
   "pygments_lexer": "ipython3",
   "version": "3.8.8"
  }
 },
 "nbformat": 4,
 "nbformat_minor": 5
}
