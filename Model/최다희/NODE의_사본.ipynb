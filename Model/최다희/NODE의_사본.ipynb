{
  "nbformat": 4,
  "nbformat_minor": 0,
  "metadata": {
    "colab": {
      "provenance": [],
      "machine_shape": "hm"
    },
    "kernelspec": {
      "name": "python3",
      "display_name": "Python 3"
    },
    "language_info": {
      "name": "python"
    },
    "accelerator": "GPU",
    "gpuClass": "premium"
  },
  "cells": [
    {
      "cell_type": "code",
      "execution_count": 2,
      "metadata": {
        "colab": {
          "base_uri": "https://localhost:8080/"
        },
        "id": "N-L3VbyhPe75",
        "outputId": "7668edfd-b22e-4fa1-87b3-c84d8edb8ec9"
      },
      "outputs": [
        {
          "output_type": "stream",
          "name": "stdout",
          "text": [
            "Mounted at /content/drive\n"
          ]
        }
      ],
      "source": [
        "from google.colab import drive\n",
        "drive.mount('/content/drive')"
      ]
    },
    {
      "cell_type": "code",
      "source": [
        "# install PyTorch Tabular first\n",
        "!pip install pytorch_tabular\n",
        "# This is for a custom optimizer. PyTorch Tabular is flexible enough to use custom optimizers\n",
        "!pip install torch_optimizer"
      ],
      "metadata": {
        "id": "a8OHXinvLpSx"
      },
      "execution_count": null,
      "outputs": []
    },
    {
      "cell_type": "code",
      "source": [
        "# packages\n",
        "# standard\n",
        "import numpy as np\n",
        "import pandas as pd\n",
        "import time\n",
        "# plots\n",
        "import matplotlib.pyplot as plt\n",
        "import seaborn as sns\n",
        "# NODE and ML tools\n",
        "from sklearn.model_selection import KFold\n",
        "from sklearn.metrics import mean_squared_error\n",
        "from sklearn.preprocessing import StandardScaler\n",
        "from pytorch_tabular import TabularModel\n",
        "from pytorch_tabular.models import CategoryEmbeddingModelConfig, NodeConfig, TabNetModelConfig\n",
        "from pytorch_tabular.config import DataConfig, OptimizerConfig, TrainerConfig, ExperimentConfig\n",
        "from pytorch_tabular.categorical_encoders import CategoricalEmbeddingTransformer\n",
        "from torch_optimizer import QHAdam\n",
        "import category_encoders as ce\n",
        "from lightgbm import LGBMRegressor\n",
        "#from catboost import CatBoostRegressor\n",
        "import warnings\n",
        "warnings.filterwarnings(action='ignore')"
      ],
      "metadata": {
        "colab": {
          "base_uri": "https://localhost:8080/"
        },
        "id": "Cty33FNDLpQa",
        "outputId": "62b58a81-b520-4e58-9b60-a6caeb5b1f0c"
      },
      "execution_count": 1,
      "outputs": [
        {
          "output_type": "stream",
          "name": "stderr",
          "text": [
            "/usr/local/lib/python3.8/dist-packages/pytorch_tabular/models/mixture_density/mdn.py:25: UserWarning: Wandb not installed. WandbLogger will not work.\n",
            "  warnings.warn(\"Wandb not installed. WandbLogger will not work.\")\n"
          ]
        }
      ]
    },
    {
      "cell_type": "code",
      "source": [
        "# load training data\n",
        "df_train_a = pd.read_csv('/content/drive/MyDrive/lg/train_a.csv')\n",
        "df_test_a = pd.read_csv('/content/drive/MyDrive/lg/test_a.csv')\n",
        "# load training data\n",
        "df_train_o = pd.read_csv('/content/drive/MyDrive/lg/train_o.csv')\n",
        "df_test_o = pd.read_csv('/content/drive/MyDrive/lg/test_o.csv')\n",
        "# load training data\n",
        "df_train_t = pd.read_csv('/content/drive/MyDrive/lg/train_t.csv')\n",
        "df_test_t = pd.read_csv('/content/drive/MyDrive/lg/test_t.csv')"
      ],
      "metadata": {
        "id": "FxYgYcZnLpNz"
      },
      "execution_count": 2,
      "outputs": []
    },
    {
      "cell_type": "code",
      "source": [
        "# y quality scaling\n",
        "df_train_t['Y_Quality'] = df_train_t['Y_Quality'].map(lambda x : np.log(x))"
      ],
      "metadata": {
        "id": "_iTc1ZDtnAEZ"
      },
      "execution_count": 3,
      "outputs": []
    },
    {
      "cell_type": "code",
      "source": [
        "'''df_train_a['Y_Quality'] = df_train_a['Y_Quality']*1000\n",
        "df_train_t['Y_Quality'] = df_train_t['Y_Quality']*1000\n",
        "df_train_o['Y_Quality'] = df_train_o['Y_Quality']*1000'''"
      ],
      "metadata": {
        "id": "DqOQJ6dLqqbF"
      },
      "execution_count": null,
      "outputs": []
    },
    {
      "cell_type": "code",
      "source": [
        "'''df_train_a = df_train_a.drop(columns = ['X_1167','X_1168','X_1169','X_1170','X_1171','X_1274','X_1275','X_1276','X_1277','X_1278'])\n",
        "df_test_a = df_test_a.drop(columns = ['X_1167','X_1168','X_1169','X_1170','X_1171','X_1274','X_1275','X_1276','X_1277','X_1278'])\n",
        "'''\n",
        "df_train_t = df_train_t.drop(columns = ['X_529','X_530','X_531','X_532','X_533','X_600','X_601','X_602','X_603','X_604'])\n",
        "df_test_t = df_test_t.drop(columns = ['X_529','X_530','X_531','X_532','X_533','X_600','X_601','X_602','X_603','X_604'])"
      ],
      "metadata": {
        "id": "vJ5sr65s3AGo"
      },
      "execution_count": 4,
      "outputs": []
    },
    {
      "cell_type": "code",
      "source": [
        "del_col = []\n",
        "for col in df_train_t.describe().columns:\n",
        "    if df_train_t[col].std() >= 500 :\n",
        "        del_col.append(col)"
      ],
      "metadata": {
        "id": "VEjV6kxqjDzO"
      },
      "execution_count": 5,
      "outputs": []
    },
    {
      "cell_type": "code",
      "source": [
        "del_col"
      ],
      "metadata": {
        "id": "G_9Dd6tXmSpd"
      },
      "execution_count": null,
      "outputs": []
    },
    {
      "cell_type": "code",
      "source": [
        "df_train_t = df_train_t.drop(columns = del_col)\n",
        "df_test_t = df_test_t.drop(columns = del_col)"
      ],
      "metadata": {
        "id": "IE2X7euEjS3i"
      },
      "execution_count": 6,
      "outputs": []
    },
    {
      "cell_type": "code",
      "source": [
        "df_train_t.shape"
      ],
      "metadata": {
        "id": "aCSsytywjsOY"
      },
      "execution_count": null,
      "outputs": []
    },
    {
      "cell_type": "code",
      "source": [
        "def get_configs(train):\n",
        "    epochs = 70\n",
        "    batch_size = 25\n",
        "    steps_per_epoch = int((len(train)//batch_size)*0.9)\n",
        "    data_config = DataConfig(\n",
        "        target=['Y_Quality'], \n",
        "        continuous_cols= train.columns[:-1].to_list() ,\n",
        "    )\n",
        "    trainer_config = TrainerConfig(\n",
        "        auto_lr_find=False, # Runs the LRFinder to automatically derive a learning rate\n",
        "        batch_size=batch_size,\n",
        "        max_epochs=epochs,\n",
        "        gpus=1, #index of the GPU to use. 0, means CPU\n",
        "    )\n",
        "    optimizer_config = OptimizerConfig(lr_scheduler=\"OneCycleLR\", lr_scheduler_params={\"max_lr\":0.033, \"epochs\": epochs, \"steps_per_epoch\":steps_per_epoch})\n",
        "\n",
        "    model_config = NodeConfig(\n",
        "        task=\"regression\",\n",
        "        num_layers=20, # Number of Dense Layers\n",
        "        num_trees=250, #Number of Trees in each layer\n",
        "        depth=6, #Depth of each Tree\n",
        "        embed_categorical= True, #If True, will use a learned embedding, else it will use LeaveOneOutEncoding for categorical columns\n",
        "        learning_rate = 0.033,\n",
        "        target_range=[(float(train[col].min()),float(train[col].max())) for col in ['Y_Quality']]\n",
        "    )\n",
        "    \n",
        "    return data_config, trainer_config, optimizer_config, model_config"
      ],
      "metadata": {
        "id": "7LqLnwMKLpDJ"
      },
      "execution_count": 27,
      "outputs": []
    },
    {
      "cell_type": "code",
      "source": [
        "# random seeds\n",
        "rnd_seed_cv = 1234\n",
        "rnd_seed_reg = 1234\n",
        "# cross validation\n",
        "kf = KFold(n_splits=5, random_state=rnd_seed_cv, shuffle=True)\n",
        "df_test_a['Y_Quality'] = 0\n",
        "df_test_t['Y_Quality'] = 0\n",
        "df_test_o['Y_Quality'] = 0"
      ],
      "metadata": {
        "id": "7L4Gd3MzLpAV"
      },
      "execution_count": 8,
      "outputs": []
    },
    {
      "cell_type": "code",
      "source": [
        "def node(train, valid, df_test):\n",
        "    data_config, trainer_config, optimizer_config, model_config = get_configs(train)\n",
        "    tabular_model = TabularModel(\n",
        "        data_config=data_config,\n",
        "        model_config=model_config,\n",
        "        optimizer_config=optimizer_config,\n",
        "        trainer_config=trainer_config\n",
        "    )\n",
        "    # fit model\n",
        "    tabular_model.fit(train=train, validation=valid, optimizer=QHAdam, \n",
        "                  optimizer_params={\"nus\": (0.7, 1.0), \"betas\": (0.95, 0.998)})\n",
        "    result = tabular_model.evaluate(valid)\n",
        "    print('-------------')\n",
        "    print(result)\n",
        "    return np.sqrt(result[0][\"test_mean_squared_error\"]), tabular_model.predict(valid)[\"Y_Quality_prediction\"].values, tabular_model.predict(df_test)[\"Y_Quality_prediction\"].values, tabular_model"
      ],
      "metadata": {
        "id": "gTZSg0nVPWbL"
      },
      "execution_count": 9,
      "outputs": []
    },
    {
      "cell_type": "code",
      "source": [
        "CV_node_a = []\n",
        "preds_train_node_a = []\n",
        "preds_test_node_a = []\n",
        "CV_node_t = []\n",
        "preds_train_node_t = []\n",
        "preds_test_node_t = []\n",
        "\n",
        "t1 = time.time()\n",
        "for train_index, test_index in kf.split(df_train_t):\n",
        "    print(\"------start a-------\")\n",
        "    train = df_train_t.iloc[train_index]\n",
        "    valid = df_train_t.iloc[test_index]\n",
        "    cv_val = valid.copy()\n",
        "    node_score, node_train_pred, node_test_pred, tabular_model = node(train, valid, df_test_t)\n",
        "    CV_node_a.append(node_score)\n",
        "    cv_val['pred_node'] = node_train_pred\n",
        "    preds_train_node_a.append(node_train_pred)\n",
        "    preds_test_node_a.append(node_test_pred)\n",
        "t2 = time.time()\n",
        "print('productcode a :: Elapsed time [s]: ', t2-t1)"
      ],
      "metadata": {
        "id": "11KQgAPwPWYi"
      },
      "execution_count": null,
      "outputs": []
    },
    {
      "cell_type": "code",
      "source": [
        "t = pd.read_csv('/content/drive/MyDrive/lg/pid_t.csv')\n",
        "a = pd.read_csv('/content/drive/MyDrive/lg/pid_a.csv')\n",
        "o = pd.read_csv('/content/drive/MyDrive/lg/pid_o.csv')"
      ],
      "metadata": {
        "id": "E0GL-8azhk__"
      },
      "execution_count": 15,
      "outputs": []
    },
    {
      "cell_type": "code",
      "source": [
        "preds_test_node_a"
      ],
      "metadata": {
        "id": "E-01wQEpmdvu"
      },
      "execution_count": null,
      "outputs": []
    },
    {
      "cell_type": "code",
      "source": [
        "ttt = (preds_test_node_a[0]+preds_test_node_a[1]+preds_test_node_a[2]+preds_test_node_a[3]+preds_test_node_a[4])/5"
      ],
      "metadata": {
        "id": "V8eJpPP0p1m1"
      },
      "execution_count": 17,
      "outputs": []
    },
    {
      "cell_type": "code",
      "source": [
        "ppp = [5.293466 , 5.323602 , 5.3159866, 5.2875233, 5.301686 , 5.3124886,\n",
        "       5.312852 , 5.3081994, 5.2980056, 5.327128 , 5.285574 , 5.2929673,\n",
        "       5.2973633, 5.3043036, 5.304208 , 5.29397  , 5.29274  , 5.3028646,\n",
        "       5.2828455, 5.317207 , 5.2896957, 5.293864 , 5.3092995, 5.2806263,\n",
        "       5.285693 , 5.324366 , 5.314264 , 5.2572546, 5.2900324, 5.2625136,\n",
        "       5.2954617, 5.2545996, 5.280834 , 5.291468 , 5.283338 , 5.274568 ,\n",
        "       5.2747736, 5.2731113, 5.312507 , 5.321829 , 5.318307 , 5.309747 ,\n",
        "       5.306521 , 5.3131037, 5.324361 , 5.3144503, 5.325783 , 5.3345814,\n",
        "       5.320949 , 5.32036  , 5.3153753, 5.3266754, 5.326373 , 5.3323607,\n",
        "       5.3213644, 5.3256793, 5.3239923, 5.3268714, 5.306283 , 5.326499 ,\n",
        "       5.318757 , 5.328589 , 5.3119073, 5.325813 , 5.307254 , 5.3227816,\n",
        "       5.3027487, 5.3261323, 5.317509 , 5.319888 , 5.3200817, 5.3084903,\n",
        "       5.3342404, 5.3218603, 5.313556 , 5.303539 , 5.3309293, 5.3196945,\n",
        "       5.3366036, 5.3230104, 5.3166914, 5.3306713, 5.3378615, 5.3216395,\n",
        "       5.3140507, 5.3219533, 5.309964 , 5.312243 , 5.315069 , 5.310431 ,\n",
        "       5.31872  , 5.328703 , 5.2971153, 5.3250284, 5.322083 , 5.3211546,\n",
        "       5.335465 , 5.3231773, 5.327879 , 5.296985 , 5.3130403, 5.3071227,\n",
        "       5.320326 , 5.3293705, 5.3153977, 5.3115883, 5.3294296, 5.2975845,\n",
        "       5.3189464, 5.3320637, 5.31026  , 5.3343387, 5.3348727, 5.3204947,\n",
        "       5.33422  , 5.3021483, 5.3294697, 5.3221784, 5.313323 , 5.313703 ,\n",
        "       5.3211045, 5.329157 , 5.3162274, 5.325688 , 5.3115015, 5.3252087,\n",
        "       5.30281  , 5.3283787, 5.3408837, 5.31062  , 5.3282514, 5.331292 ,\n",
        "       5.322797 , 5.3288217, 5.336482 , 5.322403 , 5.3204603, 5.3191023,\n",
        "       5.330142 , 5.317251 , 5.326909 , 5.3090773, 5.328071 , 5.3127904,\n",
        "       5.331016 , 5.3169203, 5.331262 , 5.3148994, 5.3039536, 5.3292103,\n",
        "       5.314355 , 5.328689 , 5.314101 , 5.3277416, 5.29677  , 5.3288174,\n",
        "       5.319478 , 5.3320765, 5.3131824, 5.3151608, 5.328886 , 5.318504 ,\n",
        "       5.316331 , 5.314597 , 5.3273635, 5.3289323, 5.304873 , 5.31398  ,\n",
        "       5.330834 , 5.307636 , 5.329036 , 5.317323 , 5.313458 , 5.3314157,\n",
        "       5.303113 , 5.301588 , 5.3081894, 5.3134904, 5.31059  , 5.3215895,\n",
        "       5.314023 , 5.311284 , 5.308907 , 5.333932 , 5.3255897, 5.305844 ,\n",
        "       5.3110156, 5.3137407, 5.315883 , 5.325205 , 5.3028135, 5.306897 ,\n",
        "       5.3198276, 5.2975717, 5.3020663, 5.3024406, 5.3078475, 5.30654  ,\n",
        "       5.304393 , 5.3158402, 5.31215  , 5.304424 , 5.298312 , 5.318548 ,\n",
        "       5.295038 , 5.3057055, 5.3157225, 5.3097687, 5.3154836, 5.3116393,\n",
        "       5.3048534, 5.317833 , 5.300263 , 5.304865 , 5.3151712, 5.304819 ,\n",
        "       5.30724  , 5.294277 , 5.3012357, 5.306077 , 5.3005614, 5.300459 ,\n",
        "       5.311871 , 5.2805376, 5.3024087, 5.2882757, 5.3033013, 5.2963567,\n",
        "       5.293053 , 5.292839 , 5.2934318, 5.3037577, 5.3033304, 5.299841 ,\n",
        "       5.2982554, 5.29531  , 5.3104777, 5.3024836, 5.304693 ]"
      ],
      "metadata": {
        "id": "ELbnROHEqQPC"
      },
      "execution_count": null,
      "outputs": []
    },
    {
      "cell_type": "code",
      "source": [
        "t['Y_qaulity'] = ttt\n",
        "t['Y_Class'] = 1\n",
        "t.loc[(t['Y_qaulity']<-0.6442119), 'Y_Class'] = 0\n",
        "t.loc[(t['Y_qaulity']>-0.62578), 'Y_Class'] = 2"
      ],
      "metadata": {
        "id": "GiNbvtxgZ3wN"
      },
      "execution_count": 18,
      "outputs": []
    },
    {
      "cell_type": "code",
      "source": [
        "t['Y_Class'].value_counts()"
      ],
      "metadata": {
        "colab": {
          "base_uri": "https://localhost:8080/"
        },
        "id": "5vcgPPK5aJQR",
        "outputId": "8454a9fb-afd3-41c9-c7b8-a7e22fb6fc34"
      },
      "execution_count": 21,
      "outputs": [
        {
          "output_type": "execute_result",
          "data": {
            "text/plain": [
              "1    239\n",
              "Name: Y_Class, dtype: int64"
            ]
          },
          "metadata": {},
          "execution_count": 21
        }
      ]
    },
    {
      "cell_type": "code",
      "source": [
        "a['Y_qaulity'] = (preds_test_node_a[0]+preds_test_node_a[1]+preds_test_node_a[2]+preds_test_node_a[3]+preds_test_node_a[4])/5\n",
        "t['Y_qaulity'] = (preds_test_node_t[0]+preds_test_node_t[1]+preds_test_node_t[2]+preds_test_node_t[3]+preds_test_node_t[4])/5\n",
        "o['Y_qaulity'] = [0.53,0.53,0.53,0.53]\n",
        "\n",
        "a['Y_Class'] = 1\n",
        "t['Y_Class'] = 1\n",
        "o['Y_Class'] = 1\n",
        "\n",
        "a.loc[(a['Y_qaulity']<0.52507), 'Y_Class'] = 0\n",
        "a.loc[(a['Y_qaulity']>0.5349), 'Y_Class'] = 2\n",
        "t.loc[(t['Y_qaulity']<0.52507), 'Y_Class'] = 0\n",
        "t.loc[(t['Y_qaulity']>0.5349), 'Y_Class'] = 2\n",
        "o.loc[(o['Y_qaulity']<0.52507), 'Y_Class'] = 0\n",
        "o.loc[(o['Y_qaulity']>0.5349), 'Y_Class'] = 2\n",
        "\n",
        "submita = pd.read_csv('/content/drive/MyDrive/lg/sample_submission.csv')\n",
        "submitt = pd.read_csv('/content/drive/MyDrive/lg/sample_submission.csv')\n",
        "submito = pd.read_csv('/content/drive/MyDrive/lg/sample_submission.csv')\n",
        "\n",
        "submita = pd.merge(submita[['PRODUCT_ID']],a[['PRODUCT_ID','Y_Class']],on='PRODUCT_ID')\n",
        "submitt = pd.merge(submitt[['PRODUCT_ID']],t[['PRODUCT_ID','Y_Class']],on='PRODUCT_ID')\n",
        "submito = pd.merge(submito[['PRODUCT_ID']],o[['PRODUCT_ID','Y_Class']],on='PRODUCT_ID')\n",
        "\n",
        "pd.concat([submita,submitt,submito]).sort_values(by='PRODUCT_ID').to_csv('node0219.csv',index=False)"
      ],
      "metadata": {
        "id": "vUtsmM1Icisp"
      },
      "execution_count": null,
      "outputs": []
    },
    {
      "cell_type": "code",
      "source": [
        "t['Y_Class'].value_counts()"
      ],
      "metadata": {
        "colab": {
          "base_uri": "https://localhost:8080/"
        },
        "id": "GaFoKnkTcipz",
        "outputId": "ed20fbcb-c6d8-4486-a88d-b177e053c751"
      },
      "execution_count": null,
      "outputs": [
        {
          "output_type": "execute_result",
          "data": {
            "text/plain": [
              "1    239\n",
              "Name: Y_Class, dtype: int64"
            ]
          },
          "metadata": {},
          "execution_count": 27
        }
      ]
    },
    {
      "cell_type": "code",
      "source": [],
      "metadata": {
        "id": "mJ4YM_cAcino"
      },
      "execution_count": null,
      "outputs": []
    }
  ]
}