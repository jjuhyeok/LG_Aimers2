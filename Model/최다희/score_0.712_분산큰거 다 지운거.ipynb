{
 "cells": [
  {
   "cell_type": "code",
   "execution_count": 232,
   "id": "spectacular-freeware",
   "metadata": {},
   "outputs": [],
   "source": [
    "import pandas as pd\n",
    "import numpy as np\n",
    "import re\n",
    "import seaborn as sns\n",
    "import matplotlib.pyplot as plt\n",
    "from sklearn.preprocessing import LabelEncoder\n",
    "from category_encoders import OneHotEncoder\n",
    "import warnings\n",
    "import random\n",
    "import os\n",
    "plt.style.use('ggplot')\n",
    "warnings.filterwarnings(action='ignore')"
   ]
  },
  {
   "cell_type": "code",
   "execution_count": 233,
   "id": "funky-painting",
   "metadata": {},
   "outputs": [],
   "source": [
    "def seed_everything(seed):\n",
    "    random.seed(seed)\n",
    "    os.environ['PYTHONHASHSEED'] = str(seed)\n",
    "    np.random.seed(seed)\n",
    "seed_everything(37) # Seed 고정"
   ]
  },
  {
   "cell_type": "code",
   "execution_count": 275,
   "id": "dental-rental",
   "metadata": {},
   "outputs": [],
   "source": [
    "train = pd.read_csv('train.csv')\n",
    "test = pd.read_csv('test.csv')"
   ]
  },
  {
   "cell_type": "code",
   "execution_count": 235,
   "id": "accompanied-visit",
   "metadata": {},
   "outputs": [],
   "source": [
    "# 124-127"
   ]
  },
  {
   "cell_type": "code",
   "execution_count": 276,
   "id": "effective-rendering",
   "metadata": {},
   "outputs": [],
   "source": [
    "def cyclical_feature(df): \n",
    "    df['sin_time'] = np.sin(2*np.pi*df.HOUR/24)\n",
    "    df['cos_time'] = np.cos(2*np.pi*df.HOUR/24)\n",
    "def timestamp_split(df):\n",
    "    df['YEAR'] = df['TIMESTAMP'].str.split('-').str[0].astype('int')\n",
    "    df['MONTH'] = df['TIMESTAMP'].str.split('-').str[1].astype('int')\n",
    "    df['DAY'] = df['TIMESTAMP'].str.split('-').str[2]\n",
    "    df['DAY'] = df['DAY'].str.split().str[0].astype('int')\n",
    "    df['TIME'] = df['TIMESTAMP'].str.split().str[1]\n",
    "    df['HOUR'] = df['TIME'].str.split(':').str[0].astype('int')\n",
    "    df['TIME_MIN'] = df['TIME'].str.split(':').str[1].astype('int')+df['HOUR']*60"
   ]
  },
  {
   "cell_type": "code",
   "execution_count": 278,
   "id": "clear-toolbox",
   "metadata": {},
   "outputs": [],
   "source": [
    "timestamp_split(train)\n",
    "cyclical_feature(train)"
   ]
  },
  {
   "cell_type": "code",
   "execution_count": 248,
   "id": "australian-advancement",
   "metadata": {},
   "outputs": [
    {
     "name": "stdout",
     "output_type": "stream",
     "text": [
      "X_123\n",
      "range :  52730.0\n",
      "std :  15036.418890416313\n",
      "-------\n",
      "X_124\n",
      "range :  37683.0\n",
      "std :  10750.383291637096\n",
      "-------\n",
      "X_125\n",
      "range :  39477.0\n",
      "std :  11307.951227059795\n",
      "-------\n",
      "X_126\n",
      "range :  34052.0\n",
      "std :  10155.391143601983\n",
      "-------\n",
      "X_127\n",
      "range :  37847.0\n",
      "std :  11063.650413933403\n",
      "-------\n",
      "X_128\n",
      "range :  25759.0\n",
      "std :  8290.625484239017\n",
      "-------\n",
      "X_129\n",
      "range :  25759.0\n",
      "std :  8233.16089710643\n",
      "-------\n",
      "X_130\n",
      "range :  25349.0\n",
      "std :  9234.859280734025\n",
      "-------\n",
      "X_131\n",
      "range :  25349.0\n",
      "std :  9234.859280734025\n",
      "-------\n",
      "X_370\n",
      "range :  121533.0\n",
      "std :  41455.62393833486\n",
      "-------\n",
      "X_371\n",
      "range :  39212.0\n",
      "std :  10875.204157941778\n",
      "-------\n",
      "X_372\n",
      "range :  39212.0\n",
      "std :  10628.805641028688\n",
      "-------\n",
      "X_373\n",
      "range :  39158.0\n",
      "std :  12506.636876956556\n",
      "-------\n",
      "X_374\n",
      "range :  39158.0\n",
      "std :  12506.636876956556\n",
      "-------\n",
      "X_978\n",
      "range :  65480.0\n",
      "std :  32598.08650522215\n",
      "-------\n",
      "X_979\n",
      "range :  44341.39617\n",
      "std :  16372.72617958863\n",
      "-------\n",
      "X_991\n",
      "range :  30000.0\n",
      "std :  12838.30278302486\n",
      "-------\n",
      "X_996\n",
      "range :  237848.0\n",
      "std :  66456.32807027274\n",
      "-------\n",
      "X_997\n",
      "range :  237831.4838452\n",
      "std :  66449.63735466708\n",
      "-------\n",
      "X_998\n",
      "range :  237813.0\n",
      "std :  66442.95390209192\n",
      "-------\n",
      "X_1033\n",
      "range :  3445010.0\n",
      "std :  944923.9001081992\n",
      "-------\n",
      "X_1040\n",
      "range :  3729530.0\n",
      "std :  1028212.9885094615\n",
      "-------\n",
      "X_1050\n",
      "range :  3445009.999778\n",
      "std :  944922.6160853386\n",
      "-------\n",
      "X_1057\n",
      "range :  3729535.332889\n",
      "std :  1028212.0024435152\n",
      "-------\n",
      "X_1067\n",
      "range :  3445010.0\n",
      "std :  944921.8573371292\n",
      "-------\n",
      "X_1074\n",
      "range :  3729530.0\n",
      "std :  1028211.4905023916\n",
      "-------\n",
      "X_1077\n",
      "range :  67607.0\n",
      "std :  20389.957359863016\n",
      "-------\n",
      "X_1088\n",
      "range :  7149.0\n",
      "std :  1819.2919081141586\n",
      "-------\n",
      "X_1089\n",
      "range :  633428.0\n",
      "std :  165856.3324043568\n",
      "-------\n",
      "X_1104\n",
      "range :  67597.00000283001\n",
      "std :  20386.42935744738\n",
      "-------\n",
      "X_1115\n",
      "range :  7149.226415170001\n",
      "std :  1819.2288503935054\n",
      "-------\n",
      "X_1116\n",
      "range :  633429.226451\n",
      "std :  165855.04580995176\n",
      "-------\n",
      "X_1131\n",
      "range :  67587.0\n",
      "std :  20382.921779239172\n",
      "-------\n",
      "X_1142\n",
      "range :  7149.0\n",
      "std :  1819.169982015992\n",
      "-------\n",
      "X_1143\n",
      "range :  633431.0\n",
      "std :  165853.7475717782\n",
      "-------\n",
      "X_1290\n",
      "range :  65527.0\n",
      "std :  32796.5663176278\n",
      "-------\n",
      "X_1401\n",
      "range :  3445009.999778\n",
      "std :  944922.6160853386\n",
      "-------\n",
      "X_1404\n",
      "range :  3729535.332889\n",
      "std :  1028212.0024435152\n",
      "-------\n",
      "X_1409\n",
      "range :  1832947.323\n",
      "std :  439836.88435105194\n",
      "-------\n",
      "X_1418\n",
      "range :  135927.2257645\n",
      "std :  35325.67195803293\n",
      "-------\n",
      "X_1430\n",
      "range :  258217.5483871\n",
      "std :  70561.45774583869\n",
      "-------\n",
      "X_1447\n",
      "range :  3445010.0\n",
      "std :  944923.9001081992\n",
      "-------\n",
      "X_1448\n",
      "range :  3445010.0\n",
      "std :  944921.8573371292\n",
      "-------\n",
      "X_1471\n",
      "range :  3729530.0\n",
      "std :  1028212.9885094615\n",
      "-------\n",
      "X_1472\n",
      "range :  3729530.0\n",
      "std :  1028211.4905023916\n",
      "-------\n",
      "X_1473\n",
      "range :  67607.0\n",
      "std :  20389.957359863016\n",
      "-------\n",
      "X_1474\n",
      "range :  67597.00000283001\n",
      "std :  20386.42935744738\n",
      "-------\n",
      "X_1475\n",
      "range :  67587.0\n",
      "std :  20382.921779239172\n",
      "-------\n",
      "X_1494\n",
      "range :  7149.0\n",
      "std :  1819.2919081141586\n",
      "-------\n",
      "X_1495\n",
      "range :  7149.226415170001\n",
      "std :  1819.2288503935054\n",
      "-------\n",
      "X_1496\n",
      "range :  7149.0\n",
      "std :  1819.169982015992\n",
      "-------\n",
      "X_1497\n",
      "range :  633428.0\n",
      "std :  165856.3324043568\n",
      "-------\n",
      "X_1498\n",
      "range :  633429.226451\n",
      "std :  165855.04580995176\n",
      "-------\n",
      "X_1499\n",
      "range :  633431.0\n",
      "std :  165853.7475717782\n",
      "-------\n",
      "X_1526\n",
      "range :  1968380.0\n",
      "std :  560058.7446806711\n",
      "-------\n",
      "X_1527\n",
      "range :  1968275.417\n",
      "std :  559977.6448239777\n",
      "-------\n",
      "X_1528\n",
      "range :  1968180.0\n",
      "std :  559895.9515771677\n",
      "-------\n",
      "X_1538\n",
      "range :  775566.0\n",
      "std :  207671.67609852957\n",
      "-------\n",
      "X_1539\n",
      "range :  775563.5\n",
      "std :  207638.0860613395\n",
      "-------\n",
      "X_1541\n",
      "range :  775560.0\n",
      "std :  207604.9181724502\n",
      "-------\n",
      "X_1544\n",
      "range :  335730.0\n",
      "std :  84896.61024175418\n",
      "-------\n",
      "X_1545\n",
      "range :  335729.9999667\n",
      "std :  84893.12640120415\n",
      "-------\n",
      "X_1546\n",
      "range :  335730.0\n",
      "std :  84889.74714692523\n",
      "-------\n",
      "X_1589\n",
      "range :  1833110.0\n",
      "std :  439895.2534755439\n",
      "-------\n",
      "X_1590\n",
      "range :  1832787.0\n",
      "std :  439778.50044777093\n",
      "-------\n",
      "X_1607\n",
      "range :  135933.0\n",
      "std :  35327.256754157046\n",
      "-------\n",
      "X_1608\n",
      "range :  135920.0\n",
      "std :  35324.06317509242\n",
      "-------\n",
      "X_1624\n",
      "range :  65503.0\n",
      "std :  32782.003177654595\n",
      "-------\n",
      "X_1625\n",
      "range :  65503.06451613\n",
      "std :  32782.48207519357\n",
      "-------\n",
      "X_1626\n",
      "range :  65504.0\n",
      "std :  32782.79042401147\n",
      "-------\n",
      "X_1641\n",
      "range :  65507.0\n",
      "std :  32780.551166583944\n",
      "-------\n",
      "X_1642\n",
      "range :  65507.37802\n",
      "std :  32781.27764678591\n",
      "-------\n",
      "X_1643\n",
      "range :  65510.0\n",
      "std :  32781.9392390234\n",
      "-------\n",
      "X_1653\n",
      "range :  258220.0\n",
      "std :  70561.52244246233\n",
      "-------\n",
      "X_1654\n",
      "range :  258216.0\n",
      "std :  70561.47930870969\n",
      "-------\n",
      "X_1735\n",
      "range :  25790.0\n",
      "std :  8784.258656414162\n",
      "-------\n",
      "X_1737\n",
      "range :  25790.0\n",
      "std :  8758.488070987814\n",
      "-------\n",
      "X_2044\n",
      "range :  11514.0\n",
      "std :  5084.208568947871\n",
      "-------\n",
      "X_2045\n",
      "range :  10579.0\n",
      "std :  4817.379084735064\n",
      "-------\n",
      "X_2046\n",
      "range :  8366.0\n",
      "std :  3559.589642170071\n",
      "-------\n",
      "X_2047\n",
      "range :  11559.0\n",
      "std :  5138.789924314274\n",
      "-------\n",
      "X_2428\n",
      "range :  25789.0\n",
      "std :  8784.26063920698\n",
      "-------\n",
      "X_2429\n",
      "range :  25789.0\n",
      "std :  8758.486498875269\n",
      "-------\n",
      "X_2741\n",
      "range :  25789.0\n",
      "std :  8784.26063920698\n",
      "-------\n",
      "X_2742\n",
      "range :  25789.0\n",
      "std :  8758.486498875269\n",
      "-------\n"
     ]
    }
   ],
   "source": [
    "del_col = []\n",
    "for col in train.describe().columns:\n",
    "    if train[col].std() >= 1000 :\n",
    "        print(col)\n",
    "        print(\"range : \",train[col].max()-train[col].min())\n",
    "        print(\"std : \",train[col].std())\n",
    "        del_col.append(col)\n",
    "        print(\"-------\")"
   ]
  },
  {
   "cell_type": "code",
   "execution_count": 249,
   "id": "daily-techno",
   "metadata": {},
   "outputs": [],
   "source": [
    "train = train.drop(columns=del_col)\n",
    "test = test.drop(columns=del_col)"
   ]
  },
  {
   "cell_type": "code",
   "execution_count": 250,
   "id": "critical-recovery",
   "metadata": {},
   "outputs": [
    {
     "data": {
      "text/html": [
       "<div>\n",
       "<style scoped>\n",
       "    .dataframe tbody tr th:only-of-type {\n",
       "        vertical-align: middle;\n",
       "    }\n",
       "\n",
       "    .dataframe tbody tr th {\n",
       "        vertical-align: top;\n",
       "    }\n",
       "\n",
       "    .dataframe thead th {\n",
       "        text-align: right;\n",
       "    }\n",
       "</style>\n",
       "<table border=\"1\" class=\"dataframe\">\n",
       "  <thead>\n",
       "    <tr style=\"text-align: right;\">\n",
       "      <th></th>\n",
       "      <th>PRODUCT_ID</th>\n",
       "      <th>Y_Class</th>\n",
       "      <th>Y_Quality</th>\n",
       "      <th>TIMESTAMP</th>\n",
       "      <th>LINE</th>\n",
       "      <th>PRODUCT_CODE</th>\n",
       "      <th>X_1</th>\n",
       "      <th>X_2</th>\n",
       "      <th>X_3</th>\n",
       "      <th>X_4</th>\n",
       "      <th>...</th>\n",
       "      <th>X_2862</th>\n",
       "      <th>X_2863</th>\n",
       "      <th>X_2864</th>\n",
       "      <th>X_2865</th>\n",
       "      <th>X_2866</th>\n",
       "      <th>X_2867</th>\n",
       "      <th>X_2868</th>\n",
       "      <th>X_2869</th>\n",
       "      <th>X_2870</th>\n",
       "      <th>X_2871</th>\n",
       "    </tr>\n",
       "  </thead>\n",
       "  <tbody>\n",
       "    <tr>\n",
       "      <th>0</th>\n",
       "      <td>TRAIN_000</td>\n",
       "      <td>1</td>\n",
       "      <td>0.533433</td>\n",
       "      <td>2022-06-13 5:14</td>\n",
       "      <td>T050304</td>\n",
       "      <td>A_31</td>\n",
       "      <td>NaN</td>\n",
       "      <td>NaN</td>\n",
       "      <td>NaN</td>\n",
       "      <td>NaN</td>\n",
       "      <td>...</td>\n",
       "      <td>189.0</td>\n",
       "      <td>383.0</td>\n",
       "      <td>368.296296</td>\n",
       "      <td>353.0</td>\n",
       "      <td>39.34</td>\n",
       "      <td>40.89</td>\n",
       "      <td>32.56</td>\n",
       "      <td>34.09</td>\n",
       "      <td>77.77</td>\n",
       "      <td>NaN</td>\n",
       "    </tr>\n",
       "    <tr>\n",
       "      <th>1</th>\n",
       "      <td>TRAIN_001</td>\n",
       "      <td>2</td>\n",
       "      <td>0.541819</td>\n",
       "      <td>2022-06-13 5:22</td>\n",
       "      <td>T050307</td>\n",
       "      <td>A_31</td>\n",
       "      <td>NaN</td>\n",
       "      <td>NaN</td>\n",
       "      <td>NaN</td>\n",
       "      <td>NaN</td>\n",
       "      <td>...</td>\n",
       "      <td>185.6</td>\n",
       "      <td>383.0</td>\n",
       "      <td>367.735849</td>\n",
       "      <td>353.0</td>\n",
       "      <td>38.89</td>\n",
       "      <td>42.82</td>\n",
       "      <td>43.92</td>\n",
       "      <td>35.34</td>\n",
       "      <td>72.55</td>\n",
       "      <td>NaN</td>\n",
       "    </tr>\n",
       "    <tr>\n",
       "      <th>2</th>\n",
       "      <td>TRAIN_002</td>\n",
       "      <td>1</td>\n",
       "      <td>0.531267</td>\n",
       "      <td>2022-06-13 5:30</td>\n",
       "      <td>T050304</td>\n",
       "      <td>A_31</td>\n",
       "      <td>NaN</td>\n",
       "      <td>NaN</td>\n",
       "      <td>NaN</td>\n",
       "      <td>NaN</td>\n",
       "      <td>...</td>\n",
       "      <td>165.5</td>\n",
       "      <td>383.0</td>\n",
       "      <td>367.320755</td>\n",
       "      <td>353.0</td>\n",
       "      <td>39.19</td>\n",
       "      <td>36.65</td>\n",
       "      <td>42.47</td>\n",
       "      <td>36.53</td>\n",
       "      <td>78.35</td>\n",
       "      <td>NaN</td>\n",
       "    </tr>\n",
       "  </tbody>\n",
       "</table>\n",
       "<p>3 rows × 2714 columns</p>\n",
       "</div>"
      ],
      "text/plain": [
       "  PRODUCT_ID  Y_Class  Y_Quality        TIMESTAMP     LINE PRODUCT_CODE  X_1  \\\n",
       "0  TRAIN_000        1   0.533433  2022-06-13 5:14  T050304         A_31  NaN   \n",
       "1  TRAIN_001        2   0.541819  2022-06-13 5:22  T050307         A_31  NaN   \n",
       "2  TRAIN_002        1   0.531267  2022-06-13 5:30  T050304         A_31  NaN   \n",
       "\n",
       "   X_2  X_3  X_4  ...  X_2862  X_2863      X_2864  X_2865  X_2866  X_2867  \\\n",
       "0  NaN  NaN  NaN  ...   189.0   383.0  368.296296   353.0   39.34   40.89   \n",
       "1  NaN  NaN  NaN  ...   185.6   383.0  367.735849   353.0   38.89   42.82   \n",
       "2  NaN  NaN  NaN  ...   165.5   383.0  367.320755   353.0   39.19   36.65   \n",
       "\n",
       "   X_2868  X_2869  X_2870  X_2871  \n",
       "0   32.56   34.09   77.77     NaN  \n",
       "1   43.92   35.34   72.55     NaN  \n",
       "2   42.47   36.53   78.35     NaN  \n",
       "\n",
       "[3 rows x 2714 columns]"
      ]
     },
     "execution_count": 250,
     "metadata": {},
     "output_type": "execute_result"
    }
   ],
   "source": [
    "col_list = train.columns\n",
    "nan_list = []\n",
    "nan_cnt = []\n",
    "nan_col = []\n",
    "full_list = []\n",
    "for col in col_list:\n",
    "    if train[col].isnull().sum() == 0 :\n",
    "        full_list.append(col)\n",
    "        continue\n",
    "    nan_list.append([col, train[col].isnull().sum()])\n",
    "    nan_cnt.append(train[col].isnull().sum())\n",
    "    nan_col.append(col)\n",
    "    \n",
    "'''모든값이 결측값이면 제거'''\n",
    "del_col = []\n",
    "for col in nan_list :\n",
    "    if col[1] == 598 :\n",
    "        del_col.append(col[0])\n",
    "train = train.drop(columns=del_col)\n",
    "test = test.drop(columns=del_col)\n",
    "train.head(3)"
   ]
  },
  {
   "cell_type": "code",
   "execution_count": 251,
   "id": "adverse-millennium",
   "metadata": {},
   "outputs": [],
   "source": [
    "trainA_31 = train[train['PRODUCT_CODE']=='A_31']\n",
    "train_T_31 = train[train['PRODUCT_CODE']=='T_31']\n",
    "train_O_31 = train[train['PRODUCT_CODE']=='O_31']\n",
    "\n",
    "testA_31 = test[test['PRODUCT_CODE']=='A_31']\n",
    "test_T_31 = test[test['PRODUCT_CODE']=='T_31']\n",
    "test_O_31 = test[test['PRODUCT_CODE']=='O_31']"
   ]
  },
  {
   "cell_type": "code",
   "execution_count": 252,
   "id": "appropriate-receipt",
   "metadata": {},
   "outputs": [],
   "source": [
    "col_list = train.columns\n",
    "nan_listA_31 = []\n",
    "nan_cntA_31 = []\n",
    "nan_colA_31 = []\n",
    "full_listA_31 = []\n",
    "for col in col_list:\n",
    "    if trainA_31[col].isnull().sum() == 0 :\n",
    "        full_listA_31.append(col)\n",
    "        continue\n",
    "    nan_listA_31.append([col, trainA_31[col].isnull().sum()])\n",
    "    nan_cntA_31.append(trainA_31[col].isnull().sum())\n",
    "    nan_colA_31.append(col)\n",
    "    \n",
    "'''모든값이 결측값이면 제거'''\n",
    "del_col = []\n",
    "for col in nan_listA_31 :\n",
    "    if col[1] == len(trainA_31) :\n",
    "        del_col.append(col[0])\n",
    "trainA_31 = trainA_31.drop(columns=del_col)\n",
    "testA_31 = testA_31.drop(columns=del_col)\n",
    "\n",
    "'''값이 1개 존재하면 제거'''\n",
    "del_col = []\n",
    "col_list = trainA_31.columns\n",
    "for col in col_list[6:] :\n",
    "    if trainA_31[col].nunique()==1 :\n",
    "        del_col.append(col)\n",
    "trainA_31 = trainA_31.drop(columns=del_col)\n",
    "testA_31 = testA_31.drop(columns=del_col)"
   ]
  },
  {
   "cell_type": "code",
   "execution_count": 253,
   "id": "sophisticated-colon",
   "metadata": {},
   "outputs": [],
   "source": [
    "col_list = train.columns\n",
    "nan_listO = []\n",
    "nan_cntO = []\n",
    "nan_colO = []\n",
    "full_listO = []\n",
    "for col in col_list:\n",
    "    if train_O_31[col].isnull().sum() == 0 :\n",
    "        full_listO.append(col)\n",
    "        continue\n",
    "    nan_listO.append([col, train_O_31[col].isnull().sum()])\n",
    "    nan_cntO.append(train_O_31[col].isnull().sum())\n",
    "    nan_colO.append(col)\n",
    "    \n",
    "'''모든값이 결측값이면 제거'''\n",
    "del_col = []\n",
    "for col in nan_listO :\n",
    "    if col[1] == len(train_O_31) :\n",
    "        del_col.append(col[0])\n",
    "train_O_31 = train_O_31.drop(columns=del_col)\n",
    "test_O_31 = test_O_31.drop(columns=del_col)\n",
    "\n",
    "'''값이 1개 존재하면 제거'''\n",
    "del_col = []\n",
    "col_list = train_O_31.columns\n",
    "for col in col_list[6:] :\n",
    "    if train_O_31[col].nunique()==1 :\n",
    "        del_col.append(col)\n",
    "train_O_31 = train_O_31.drop(columns=del_col)\n",
    "test_O_31 = test_O_31.drop(columns=del_col)"
   ]
  },
  {
   "cell_type": "code",
   "execution_count": 254,
   "id": "suitable-jacksonville",
   "metadata": {},
   "outputs": [],
   "source": [
    "col_list = train.columns\n",
    "nan_listT = []\n",
    "nan_cntT = []\n",
    "nan_colT = []\n",
    "full_listT = []\n",
    "for col in col_list:\n",
    "    if train_T_31[col].isnull().sum() == 0 :\n",
    "        full_listT.append(col)\n",
    "        continue\n",
    "    nan_listT.append([col, train_T_31[col].isnull().sum()])\n",
    "    nan_cntT.append(train_T_31[col].isnull().sum())\n",
    "    nan_colT.append(col)\n",
    "    \n",
    "'''모든값이 결측값이면 제거'''\n",
    "del_col = []\n",
    "for col in nan_listT :\n",
    "    if col[1] == len(train_T_31) :\n",
    "        del_col.append(col[0])\n",
    "train_T_31 = train_T_31.drop(columns=del_col)\n",
    "test_T_31 = test_T_31.drop(columns=del_col)\n",
    "\n",
    "'''값이 1개 존재하면 제거'''\n",
    "del_col = []\n",
    "col_list = train_T_31.columns\n",
    "for col in col_list[6:] :\n",
    "    if train_T_31[col].nunique()==1 :\n",
    "        del_col.append(col)\n",
    "train_T_31 = train_T_31.drop(columns=del_col)\n",
    "test_T_31 = test_T_31.drop(columns=del_col)"
   ]
  },
  {
   "cell_type": "code",
   "execution_count": 255,
   "id": "swiss-density",
   "metadata": {},
   "outputs": [],
   "source": [
    "trainA_31_x = trainA_31.drop(columns=['PRODUCT_ID','TIMESTAMP','PRODUCT_CODE','Y_Class','Y_Quality'])\n",
    "testA_31_x = testA_31.drop(columns=['PRODUCT_ID','TIMESTAMP','PRODUCT_CODE'])\n",
    "train_T_31_x = train_T_31.drop(columns=['PRODUCT_ID','TIMESTAMP','Y_Class','Y_Quality','PRODUCT_CODE'])\n",
    "test_T_31_x = test_T_31.drop(columns=['PRODUCT_ID','TIMESTAMP','PRODUCT_CODE'])\n",
    "train_O_31_x = train_O_31.drop(columns=['PRODUCT_ID','TIMESTAMP','PRODUCT_CODE','Y_Class','Y_Quality'])\n",
    "test_O_31_x = test_O_31.drop(columns=['PRODUCT_ID','TIMESTAMP','PRODUCT_CODE'])\n",
    "\n",
    "# classification\n",
    "trainA_31_y_c = trainA_31['Y_Class']\n",
    "train_T_31_y_c = train_T_31['Y_Class']\n",
    "train_O_31_y_c = train_O_31['Y_Class']\n",
    "\n",
    "# regression\n",
    "trainA_31_y_r = trainA_31['Y_Quality']\n",
    "train_T_31_y_r = train_T_31['Y_Quality']\n",
    "train_O_31_y_r = train_O_31['Y_Quality']"
   ]
  },
  {
   "cell_type": "code",
   "execution_count": 256,
   "id": "royal-worry",
   "metadata": {},
   "outputs": [
    {
     "name": "stdout",
     "output_type": "stream",
     "text": [
      "(249, 1786) \n",
      " (67, 1786) \n",
      " (343, 545) \n",
      " (239, 545) \n",
      " (6, 494) \n",
      " (4, 494)\n"
     ]
    }
   ],
   "source": [
    "print(trainA_31_x.shape,'\\n',testA_31_x.shape,'\\n',train_T_31_x.shape,'\\n',test_T_31_x.shape,'\\n',train_O_31_x.shape,'\\n',test_O_31_x.shape)"
   ]
  },
  {
   "cell_type": "code",
   "execution_count": 258,
   "id": "perceived-nylon",
   "metadata": {},
   "outputs": [],
   "source": [
    "trainA_31_x=trainA_31_x.fillna(-1)\n",
    "testA_31_x=testA_31_x.fillna(-1)\n",
    "train_T_31_x=train_T_31_x.fillna(-1)\n",
    "test_T_31_x=test_T_31_x.fillna(-1)\n",
    "train_O_31_x=train_O_31_x.fillna(-1)\n",
    "test_O_31_x=test_O_31_x.fillna(-1)"
   ]
  },
  {
   "cell_type": "code",
   "execution_count": 259,
   "id": "sought-flour",
   "metadata": {},
   "outputs": [
    {
     "name": "stdout",
     "output_type": "stream",
     "text": [
      "Done.\n"
     ]
    }
   ],
   "source": [
    "# qualitative to quantitative\n",
    "qual_col = ['LINE']\n",
    "for i in qual_col:\n",
    "    le = LabelEncoder()\n",
    "    le = le.fit(trainA_31_x[i])\n",
    "    trainA_31_x[i] = le.transform(trainA_31_x[i])\n",
    "    \n",
    "    for label in np.unique(testA_31_x[i]): \n",
    "        if label not in le.classes_: \n",
    "            le.classes_ = np.append(le.classes_, label)\n",
    "    testA_31_x[i] = le.transform(testA_31_x[i]) \n",
    "print('Done.')"
   ]
  },
  {
   "cell_type": "code",
   "execution_count": 260,
   "id": "alone-modification",
   "metadata": {},
   "outputs": [
    {
     "name": "stdout",
     "output_type": "stream",
     "text": [
      "Done.\n"
     ]
    }
   ],
   "source": [
    "# qualitative to quantitative\n",
    "qual_col = ['LINE']\n",
    "for i in qual_col:\n",
    "    le = LabelEncoder()\n",
    "    le = le.fit(train_T_31_x[i])\n",
    "    train_T_31_x[i] = le.transform(train_T_31_x[i])\n",
    "    \n",
    "    for label in np.unique(test_T_31_x[i]): \n",
    "        if label not in le.classes_: \n",
    "            le.classes_ = np.append(le.classes_, label)\n",
    "    test_T_31_x[i] = le.transform(test_T_31_x[i]) \n",
    "print('Done.')"
   ]
  },
  {
   "cell_type": "code",
   "execution_count": 261,
   "id": "excess-backing",
   "metadata": {},
   "outputs": [
    {
     "name": "stdout",
     "output_type": "stream",
     "text": [
      "Done.\n"
     ]
    }
   ],
   "source": [
    "# qualitative to quantitative\n",
    "qual_col = ['LINE']\n",
    "for i in qual_col:\n",
    "    le = LabelEncoder()\n",
    "    le = le.fit(train_O_31_x[i])\n",
    "    train_O_31_x[i] = le.transform(train_O_31_x[i])\n",
    "    \n",
    "    for label in np.unique(test_O_31_x[i]): \n",
    "        if label not in le.classes_: \n",
    "            le.classes_ = np.append(le.classes_, label)\n",
    "    test_O_31_x[i] = le.transform(test_O_31_x[i]) \n",
    "print('Done.')"
   ]
  },
  {
   "cell_type": "code",
   "execution_count": 262,
   "id": "roman-syria",
   "metadata": {},
   "outputs": [],
   "source": [
    "#from imblearn.combine import SMOTETomek"
   ]
  },
  {
   "cell_type": "code",
   "execution_count": 263,
   "id": "bridal-storage",
   "metadata": {},
   "outputs": [],
   "source": [
    "from catboost import *"
   ]
  },
  {
   "cell_type": "code",
   "execution_count": 264,
   "id": "smooth-remains",
   "metadata": {},
   "outputs": [
    {
     "name": "stdout",
     "output_type": "stream",
     "text": [
      "0:\tlearn: 0.0098641\ttotal: 55.1ms\tremaining: 1m 50s\n",
      "500:\tlearn: 0.0006188\ttotal: 24.1s\tremaining: 1m 12s\n",
      "1000:\tlearn: 0.0000581\ttotal: 51.5s\tremaining: 51.4s\n",
      "1500:\tlearn: 0.0000055\ttotal: 1m 22s\tremaining: 27.3s\n",
      "1999:\tlearn: 0.0000006\ttotal: 1m 53s\tremaining: 0us\n"
     ]
    }
   ],
   "source": [
    "model = CatBoostRegressor(random_state=1234,verbose=500,iterations=2000,learning_rate=0.033)\n",
    "model.fit(trainA_31_x, trainA_31_y_r)\n",
    "pred_a = model.predict(testA_31_x)"
   ]
  },
  {
   "cell_type": "code",
   "execution_count": 265,
   "id": "solved-alloy",
   "metadata": {},
   "outputs": [
    {
     "name": "stdout",
     "output_type": "stream",
     "text": [
      "0:\tlearn: 0.0047201\ttotal: 21.8ms\tremaining: 43.5s\n",
      "500:\tlearn: 0.0005142\ttotal: 12.8s\tremaining: 38.2s\n",
      "1000:\tlearn: 0.0000543\ttotal: 26.4s\tremaining: 26.3s\n",
      "1500:\tlearn: 0.0000079\ttotal: 38.1s\tremaining: 12.7s\n",
      "1999:\tlearn: 0.0000010\ttotal: 50.5s\tremaining: 0us\n"
     ]
    }
   ],
   "source": [
    "#model = CatBoostRegressor(random_state=110,verbose=500,iterations=500)\n",
    "model.fit(train_T_31_x, train_T_31_y_r)\n",
    "pred_t = model.predict(test_T_31_x)"
   ]
  },
  {
   "cell_type": "code",
   "execution_count": 266,
   "id": "contemporary-imperial",
   "metadata": {},
   "outputs": [
    {
     "name": "stdout",
     "output_type": "stream",
     "text": [
      "0:\tlearn: 0.0031730\ttotal: 5.78ms\tremaining: 11.6s\n",
      "500:\tlearn: 0.0000474\ttotal: 2.11s\tremaining: 6.31s\n",
      "1000:\tlearn: 0.0000008\ttotal: 3.98s\tremaining: 3.97s\n",
      "1500:\tlearn: 0.0000000\ttotal: 5.81s\tremaining: 1.93s\n",
      "1999:\tlearn: 0.0000000\ttotal: 8.2s\tremaining: 0us\n"
     ]
    }
   ],
   "source": [
    "#model = CatBoostRegressor(random_state=110,verbose=500,iterations=500)\n",
    "model.fit(train_O_31_x, train_O_31_y_r)\n",
    "pred_o = model.predict(test_O_31_x)"
   ]
  },
  {
   "cell_type": "code",
   "execution_count": 267,
   "id": "adaptive-qualification",
   "metadata": {},
   "outputs": [],
   "source": [
    "testA_31['Y_quanlity'] = pred_a\n",
    "test_T_31['Y_quanlity'] = pred_t\n",
    "test_O_31['Y_quanlity'] = pred_o"
   ]
  },
  {
   "cell_type": "code",
   "execution_count": 268,
   "id": "attached-clear",
   "metadata": {},
   "outputs": [],
   "source": [
    "testA_31['Y_Class'] = 1\n",
    "test_T_31['Y_Class'] = 1\n",
    "test_O_31['Y_Class'] = 1"
   ]
  },
  {
   "cell_type": "code",
   "execution_count": 269,
   "id": "juvenile-turning",
   "metadata": {},
   "outputs": [],
   "source": [
    "testA_31.loc[(testA_31['Y_quanlity']<0.52507), 'Y_Class'] = 0\n",
    "testA_31.loc[(testA_31['Y_quanlity']>0.5349), 'Y_Class'] = 2\n",
    "\n",
    "test_T_31.loc[(test_T_31['Y_quanlity']<0.52507), 'Y_Class'] = 0\n",
    "test_T_31.loc[(test_T_31['Y_quanlity']>0.5349), 'Y_Class'] = 2\n",
    "\n",
    "test_O_31.loc[(test_O_31['Y_quanlity']<0.52507), 'Y_Class'] = 0\n",
    "test_O_31.loc[(test_O_31['Y_quanlity']>0.5349), 'Y_Class'] = 2"
   ]
  },
  {
   "cell_type": "code",
   "execution_count": 270,
   "id": "knowing-tuning",
   "metadata": {},
   "outputs": [],
   "source": [
    "submita = pd.read_csv('sample_submission.csv')\n",
    "submitt = pd.read_csv('sample_submission.csv')\n",
    "submito = pd.read_csv('sample_submission.csv')"
   ]
  },
  {
   "cell_type": "code",
   "execution_count": 271,
   "id": "endless-meeting",
   "metadata": {},
   "outputs": [],
   "source": [
    "submita = pd.merge(submita[['PRODUCT_ID']],testA_31[['PRODUCT_ID','Y_Class']],on='PRODUCT_ID')\n",
    "submitt = pd.merge(submitt[['PRODUCT_ID']],test_T_31[['PRODUCT_ID','Y_Class']],on='PRODUCT_ID')\n",
    "submito = pd.merge(submito[['PRODUCT_ID']],test_O_31[['PRODUCT_ID','Y_Class']],on='PRODUCT_ID')"
   ]
  },
  {
   "cell_type": "code",
   "execution_count": 272,
   "id": "little-module",
   "metadata": {
    "scrolled": true
   },
   "outputs": [],
   "source": [
    "pd.concat([submita,submitt,submito]).sort_values(by='PRODUCT_ID').to_csv('2000.csv',index=False)"
   ]
  },
  {
   "cell_type": "code",
   "execution_count": null,
   "id": "representative-extraction",
   "metadata": {},
   "outputs": [],
   "source": []
  },
  {
   "cell_type": "code",
   "execution_count": 211,
   "id": "statistical-orlando",
   "metadata": {},
   "outputs": [
    {
     "data": {
      "text/html": [
       "<div>\n",
       "<style scoped>\n",
       "    .dataframe tbody tr th:only-of-type {\n",
       "        vertical-align: middle;\n",
       "    }\n",
       "\n",
       "    .dataframe tbody tr th {\n",
       "        vertical-align: top;\n",
       "    }\n",
       "\n",
       "    .dataframe thead th {\n",
       "        text-align: right;\n",
       "    }\n",
       "</style>\n",
       "<table border=\"1\" class=\"dataframe\">\n",
       "  <thead>\n",
       "    <tr style=\"text-align: right;\">\n",
       "      <th></th>\n",
       "      <th>PRODUCT_ID</th>\n",
       "      <th>Y_Class</th>\n",
       "    </tr>\n",
       "  </thead>\n",
       "  <tbody>\n",
       "    <tr>\n",
       "      <th>0</th>\n",
       "      <td>TEST_138</td>\n",
       "      <td>1</td>\n",
       "    </tr>\n",
       "    <tr>\n",
       "      <th>1</th>\n",
       "      <td>TEST_256</td>\n",
       "      <td>1</td>\n",
       "    </tr>\n",
       "    <tr>\n",
       "      <th>2</th>\n",
       "      <td>TEST_257</td>\n",
       "      <td>1</td>\n",
       "    </tr>\n",
       "    <tr>\n",
       "      <th>3</th>\n",
       "      <td>TEST_287</td>\n",
       "      <td>1</td>\n",
       "    </tr>\n",
       "  </tbody>\n",
       "</table>\n",
       "</div>"
      ],
      "text/plain": [
       "  PRODUCT_ID  Y_Class\n",
       "0   TEST_138        1\n",
       "1   TEST_256        1\n",
       "2   TEST_257        1\n",
       "3   TEST_287        1"
      ]
     },
     "execution_count": 211,
     "metadata": {},
     "output_type": "execute_result"
    }
   ],
   "source": [
    "submito"
   ]
  },
  {
   "cell_type": "code",
   "execution_count": null,
   "id": "massive-norway",
   "metadata": {},
   "outputs": [],
   "source": []
  },
  {
   "cell_type": "code",
   "execution_count": 157,
   "id": "italian-plaintiff",
   "metadata": {},
   "outputs": [
    {
     "data": {
      "text/html": [
       "<div>\n",
       "<style scoped>\n",
       "    .dataframe tbody tr th:only-of-type {\n",
       "        vertical-align: middle;\n",
       "    }\n",
       "\n",
       "    .dataframe tbody tr th {\n",
       "        vertical-align: top;\n",
       "    }\n",
       "\n",
       "    .dataframe thead th {\n",
       "        text-align: right;\n",
       "    }\n",
       "</style>\n",
       "<table border=\"1\" class=\"dataframe\">\n",
       "  <thead>\n",
       "    <tr style=\"text-align: right;\">\n",
       "      <th></th>\n",
       "      <th>PRODUCT_ID</th>\n",
       "      <th>Y_Class</th>\n",
       "    </tr>\n",
       "  </thead>\n",
       "  <tbody>\n",
       "    <tr>\n",
       "      <th>257</th>\n",
       "      <td>TEST_257</td>\n",
       "      <td>1</td>\n",
       "    </tr>\n",
       "  </tbody>\n",
       "</table>\n",
       "</div>"
      ],
      "text/plain": [
       "    PRODUCT_ID  Y_Class\n",
       "257   TEST_257        1"
      ]
     },
     "execution_count": 157,
     "metadata": {},
     "output_type": "execute_result"
    }
   ],
   "source": [
    "pd.read_csv('catboost.csv')[pd.read_csv('catboost.csv')['PRODUCT_ID']=='TEST_257']"
   ]
  },
  {
   "cell_type": "code",
   "execution_count": null,
   "id": "opposite-national",
   "metadata": {},
   "outputs": [],
   "source": []
  },
  {
   "cell_type": "code",
   "execution_count": 17,
   "id": "laden-remedy",
   "metadata": {},
   "outputs": [
    {
     "name": "stdout",
     "output_type": "stream",
     "text": [
      "Learning rate set to 0.051607\n",
      "0:\tlearn: 0.0097830\ttotal: 221ms\tremaining: 1m 50s\n",
      "499:\tlearn: 0.0001949\ttotal: 31.4s\tremaining: 0us\n"
     ]
    }
   ],
   "source": [
    "model = CatBoostRegressor(random_state=110,verbose=500,iterations=500)\n",
    "model.fit(trainA_31_x, trainA_31_y_r)\n",
    "pred_a = model.predict(testA_31_x)"
   ]
  },
  {
   "cell_type": "code",
   "execution_count": 18,
   "id": "intelligent-orange",
   "metadata": {},
   "outputs": [
    {
     "name": "stdout",
     "output_type": "stream",
     "text": [
      "Learning rate set to 0.054803\n",
      "0:\tlearn: 0.0046878\ttotal: 31.2ms\tremaining: 15.6s\n",
      "499:\tlearn: 0.0001367\ttotal: 12.5s\tremaining: 0us\n"
     ]
    }
   ],
   "source": [
    "model.fit(train_T_O_x, train_T_O_y_r)\n",
    "pred_t = model.predict(test_T_O_x)"
   ]
  },
  {
   "cell_type": "code",
   "execution_count": 19,
   "id": "heavy-jackson",
   "metadata": {},
   "outputs": [],
   "source": [
    "testA_31['Y_quanlity'] = pred_a\n",
    "test_T_O['Y_quanlity'] = pred_t"
   ]
  },
  {
   "cell_type": "code",
   "execution_count": 20,
   "id": "polished-valuation",
   "metadata": {},
   "outputs": [],
   "source": [
    "testA_31['Y_Class'] = 1\n",
    "test_T_O['Y_Class'] = 1"
   ]
  },
  {
   "cell_type": "code",
   "execution_count": 21,
   "id": "musical-recipe",
   "metadata": {},
   "outputs": [],
   "source": [
    "testA_31.loc[(testA_31['Y_quanlity']<0.52507), 'Y_Class'] = 0\n",
    "testA_31.loc[(testA_31['Y_quanlity']>0.5349), 'Y_Class'] = 2\n",
    "\n",
    "test_T_O.loc[(test_T_O['Y_quanlity']<0.52507), 'Y_Class'] = 0\n",
    "test_T_O.loc[(test_T_O['Y_quanlity']>0.5349), 'Y_Class'] = 2"
   ]
  },
  {
   "cell_type": "code",
   "execution_count": 22,
   "id": "adult-success",
   "metadata": {},
   "outputs": [],
   "source": [
    "submita = pd.read_csv('sample_submission.csv')\n",
    "submitt = pd.read_csv('sample_submission.csv')"
   ]
  },
  {
   "cell_type": "code",
   "execution_count": 23,
   "id": "raising-morocco",
   "metadata": {},
   "outputs": [],
   "source": [
    "submita = pd.merge(submita[['PRODUCT_ID']],testA_31[['PRODUCT_ID','Y_Class']],on='PRODUCT_ID')\n",
    "submitt = pd.merge(submitt[['PRODUCT_ID']],test_T_O[['PRODUCT_ID','Y_Class']],on='PRODUCT_ID')\n",
    "\n",
    "pd.concat([submita,submitt]).sort_values(by='PRODUCT_ID').to_csv('sub0203_cat_reg_time_del.csv',index=False)"
   ]
  },
  {
   "cell_type": "code",
   "execution_count": 212,
   "id": "instant-bridal",
   "metadata": {},
   "outputs": [
    {
     "data": {
      "text/plain": [
       "array([0, 1, 1, 1, 0, 0, 1, 1, 1, 1, 0, 0, 0, 1, 0, 2, 0, 1, 0, 0, 0, 0,\n",
       "       0, 0, 0, 0, 0, 0, 0, 0, 1, 1, 0, 1, 0, 1, 1, 1, 1, 1, 1, 1, 1, 1,\n",
       "       1, 1, 1, 1, 1, 1, 1, 1, 1, 1, 1, 1, 1, 1, 1, 1, 1, 1, 1, 0, 1, 0,\n",
       "       1], dtype=int64)"
      ]
     },
     "execution_count": 212,
     "metadata": {},
     "output_type": "execute_result"
    }
   ],
   "source": [
    "testA_31['Y_quanlity'] = pred_a\n",
    "testA_31['Y_Class'] = 1\n",
    "testA_31.loc[(testA_31['Y_quanlity']<0.52507), 'Y_Class'] = 0\n",
    "testA_31.loc[(testA_31['Y_quanlity']>0.5349), 'Y_Class'] = 2\n",
    "testA_31['Y_Class'].values"
   ]
  },
  {
   "cell_type": "code",
   "execution_count": 122,
   "id": "moderate-denmark",
   "metadata": {},
   "outputs": [
    {
     "data": {
      "text/plain": [
       "array([0, 1, 1, 1, 0, 0, 1, 1, 1, 1, 0, 0, 0, 1, 0, 2, 0, 1, 0, 0, 0, 0,\n",
       "       1, 0, 0, 1, 0, 0, 0, 0, 1, 1, 0, 1, 0, 1, 1, 1, 1, 1, 1, 1, 1, 0,\n",
       "       0, 1, 1, 1, 1, 1, 0, 1, 0, 0, 0, 0, 1, 1, 0, 1, 1, 1, 0, 0, 0, 0,\n",
       "       0], dtype=int64)"
      ]
     },
     "execution_count": 122,
     "metadata": {},
     "output_type": "execute_result"
    }
   ],
   "source": [
    "testA_31['Y_Class'].values"
   ]
  },
  {
   "cell_type": "code",
   "execution_count": 93,
   "id": "civil-wells",
   "metadata": {},
   "outputs": [
    {
     "data": {
      "text/plain": [
       "array([0, 1, 1, 1, 0, 0, 1, 1, 1, 2, 0, 0, 0, 1, 0, 2, 1, 1, 0, 0, 1, 1,\n",
       "       1, 0, 0, 1, 0, 0, 0, 0, 1, 1, 0, 1, 0, 1, 1, 1, 1, 1, 1, 1, 1, 1,\n",
       "       1, 1, 1, 1, 1, 1, 0, 0, 0, 0, 0, 0, 1, 1, 1, 0, 1, 1, 0, 0, 0, 0,\n",
       "       0], dtype=int64)"
      ]
     },
     "execution_count": 93,
     "metadata": {},
     "output_type": "execute_result"
    }
   ],
   "source": [
    "testA_31['Y_Class'].values"
   ]
  },
  {
   "cell_type": "code",
   "execution_count": 24,
   "id": "specialized-honduras",
   "metadata": {},
   "outputs": [
    {
     "data": {
      "text/plain": [
       "array([0, 1, 1, 1, 0, 0, 1, 1, 1, 1, 0, 0, 0, 1, 0, 2, 0, 1, 0, 0, 0, 0,\n",
       "       1, 0, 0, 1, 0, 0, 0, 0, 1, 1, 0, 1, 0, 1, 1, 1, 1, 1, 1, 1, 1, 0,\n",
       "       0, 1, 1, 1, 1, 1, 0, 1, 0, 0, 0, 0, 1, 1, 0, 1, 1, 1, 0, 0, 0, 0,\n",
       "       0], dtype=int64)"
      ]
     },
     "execution_count": 24,
     "metadata": {},
     "output_type": "execute_result"
    }
   ],
   "source": [
    "testA_31['Y_Class'].values"
   ]
  },
  {
   "cell_type": "code",
   "execution_count": 123,
   "id": "dutch-edgar",
   "metadata": {},
   "outputs": [
    {
     "data": {
      "text/plain": [
       "array([1, 1, 1, 1, 1, 1, 1, 1, 1, 1, 1, 1, 1, 1, 1, 1, 1, 1, 1, 1, 1, 1,\n",
       "       1, 1, 1, 1, 1, 0, 1, 0, 1, 0, 1, 1, 1, 1, 1, 1, 1, 1, 1, 1, 1, 1,\n",
       "       1, 1, 1, 1, 1, 1, 1, 1, 1, 1, 1, 1, 1, 1, 1, 1, 1, 1, 1, 1, 1, 1,\n",
       "       1, 1, 1, 1, 1, 1, 2, 1, 1, 1, 1, 1, 2, 1, 1, 1, 1, 1, 1, 2, 1, 1,\n",
       "       1, 1, 1, 1, 1, 1, 1, 1, 1, 1, 1, 1, 1, 1, 1, 1, 1, 1, 1, 1, 1, 1,\n",
       "       1, 2, 2, 1, 2, 1, 1, 1, 1, 1, 1, 1, 1, 1, 1, 1, 1, 1, 1, 1, 1, 1,\n",
       "       1, 1, 2, 1, 1, 1, 2, 1, 1, 1, 1, 1, 1, 1, 1, 1, 1, 1, 1, 1, 1, 1,\n",
       "       1, 1, 1, 1, 1, 1, 1, 1, 1, 1, 1, 1, 1, 1, 1, 1, 1, 1, 1, 1, 1, 1,\n",
       "       1, 1, 1, 1, 1, 1, 1, 1, 1, 1, 1, 1, 1, 1, 1, 1, 1, 1, 1, 1, 1, 1,\n",
       "       1, 1, 1, 1, 1, 1, 1, 1, 1, 1, 1, 1, 1, 1, 1, 1, 1, 1, 1, 1, 1, 1,\n",
       "       1, 1, 1, 1, 1, 1, 1, 1, 1, 1, 1, 1, 1, 1, 1, 1, 1, 1, 1],\n",
       "      dtype=int64)"
      ]
     },
     "execution_count": 123,
     "metadata": {},
     "output_type": "execute_result"
    }
   ],
   "source": [
    "test_T_31['Y_Class'].values"
   ]
  },
  {
   "cell_type": "code",
   "execution_count": 94,
   "id": "surrounded-africa",
   "metadata": {},
   "outputs": [
    {
     "data": {
      "text/plain": [
       "array([1, 1, 1, 1, 1, 1, 1, 1, 1, 1, 1, 1, 1, 1, 1, 1, 1, 1, 1, 1, 1, 1,\n",
       "       1, 1, 1, 1, 1, 0, 1, 0, 1, 0, 1, 1, 1, 1, 1, 1, 1, 1, 1, 1, 1, 1,\n",
       "       1, 1, 1, 2, 1, 1, 1, 1, 1, 1, 1, 1, 1, 1, 1, 1, 1, 1, 1, 1, 1, 1,\n",
       "       1, 1, 1, 1, 1, 1, 1, 1, 1, 1, 1, 1, 1, 1, 1, 1, 1, 1, 1, 2, 1, 1,\n",
       "       2, 1, 1, 1, 1, 1, 1, 1, 1, 1, 1, 1, 1, 1, 1, 1, 1, 1, 1, 1, 1, 1,\n",
       "       1, 2, 2, 1, 2, 1, 1, 1, 1, 1, 1, 1, 1, 1, 1, 1, 1, 1, 1, 1, 2, 1,\n",
       "       1, 1, 1, 1, 1, 1, 1, 1, 1, 1, 1, 1, 1, 1, 1, 1, 1, 1, 1, 1, 1, 1,\n",
       "       1, 1, 1, 1, 1, 1, 1, 1, 1, 1, 1, 1, 1, 1, 1, 1, 1, 1, 1, 1, 1, 1,\n",
       "       1, 1, 1, 1, 1, 1, 1, 1, 1, 1, 1, 1, 1, 1, 1, 1, 1, 1, 1, 1, 1, 1,\n",
       "       1, 1, 1, 1, 1, 1, 1, 1, 1, 1, 1, 1, 1, 1, 1, 1, 1, 1, 1, 1, 1, 1,\n",
       "       1, 1, 1, 1, 1, 1, 1, 1, 1, 1, 1, 1, 1, 1, 1, 1, 1, 1, 1],\n",
       "      dtype=int64)"
      ]
     },
     "execution_count": 94,
     "metadata": {},
     "output_type": "execute_result"
    }
   ],
   "source": [
    "test_T_31['Y_Class'].values"
   ]
  },
  {
   "cell_type": "code",
   "execution_count": 35,
   "id": "regulation-height",
   "metadata": {},
   "outputs": [
    {
     "data": {
      "text/plain": [
       "array([1, 1, 1, 1, 1, 1, 1, 1, 1, 1, 1, 1, 1, 1, 1, 1, 1, 1, 1, 1, 1, 1,\n",
       "       1, 1, 1, 1, 1, 0, 1, 0, 1, 0, 0, 1, 1, 1, 1, 0, 1, 1, 1, 1, 1, 1,\n",
       "       1, 1, 1, 2, 1, 1, 1, 1, 1, 1, 1, 1, 1, 1, 1, 1, 1, 1, 1, 1, 1, 1,\n",
       "       1, 1, 1, 1, 1, 1, 1, 1, 1, 1, 1, 1, 1, 1, 1, 1, 1, 1, 1, 1, 1, 1,\n",
       "       1, 2, 1, 1, 1, 1, 1, 1, 1, 1, 1, 1, 1, 1, 1, 1, 1, 1, 1, 1, 1, 1,\n",
       "       1, 1, 1, 2, 1, 2, 1, 1, 1, 1, 1, 1, 1, 1, 1, 1, 1, 1, 1, 1, 1, 1,\n",
       "       1, 1, 1, 2, 1, 1, 1, 1, 1, 1, 1, 1, 1, 1, 1, 1, 1, 1, 1, 1, 1, 1,\n",
       "       1, 1, 1, 1, 1, 1, 1, 1, 1, 1, 1, 1, 1, 1, 1, 1, 1, 1, 1, 1, 1, 1,\n",
       "       1, 1, 1, 1, 1, 1, 1, 1, 1, 1, 1, 1, 1, 1, 1, 1, 1, 1, 1, 1, 1, 1,\n",
       "       1, 1, 1, 1, 1, 1, 1, 1, 1, 1, 1, 1, 1, 1, 1, 1, 1, 1, 1, 1, 1, 1,\n",
       "       1, 1, 1, 1, 1, 1, 1, 1, 1, 1, 1, 1, 1, 1, 1, 1, 1, 1, 1, 1, 1, 1,\n",
       "       1], dtype=int64)"
      ]
     },
     "execution_count": 35,
     "metadata": {},
     "output_type": "execute_result"
    }
   ],
   "source": [
    "test_T_O['Y_Class'].values"
   ]
  },
  {
   "cell_type": "code",
   "execution_count": 95,
   "id": "indian-import",
   "metadata": {},
   "outputs": [
    {
     "data": {
      "text/plain": [
       "array([1, 1, 1, 1], dtype=int64)"
      ]
     },
     "execution_count": 95,
     "metadata": {},
     "output_type": "execute_result"
    }
   ],
   "source": [
    "test_O_31['Y_Class'].values"
   ]
  },
  {
   "cell_type": "code",
   "execution_count": 25,
   "id": "assumed-reflection",
   "metadata": {},
   "outputs": [
    {
     "data": {
      "text/plain": [
       "array([1, 1, 1, 0, 1, 1, 1, 1, 1, 1, 1, 1, 1, 1, 1, 1, 1, 1, 1, 1, 1, 1,\n",
       "       1, 1, 1, 1, 1, 0, 1, 0, 1, 0, 1, 1, 1, 1, 1, 0, 1, 1, 1, 1, 1, 1,\n",
       "       1, 1, 1, 2, 1, 1, 1, 1, 1, 1, 1, 1, 1, 1, 1, 1, 1, 1, 1, 1, 1, 1,\n",
       "       1, 1, 1, 1, 1, 1, 1, 1, 1, 1, 1, 1, 1, 1, 1, 1, 1, 1, 1, 1, 1, 1,\n",
       "       1, 1, 1, 1, 1, 1, 1, 1, 1, 1, 1, 1, 1, 1, 1, 1, 1, 1, 1, 1, 1, 1,\n",
       "       1, 1, 2, 2, 1, 2, 1, 1, 1, 1, 1, 1, 1, 1, 1, 1, 1, 1, 1, 1, 1, 1,\n",
       "       1, 1, 1, 2, 1, 1, 1, 1, 1, 1, 1, 1, 1, 1, 1, 1, 1, 1, 1, 1, 1, 1,\n",
       "       1, 1, 1, 1, 1, 1, 1, 1, 1, 1, 1, 1, 1, 1, 1, 1, 1, 1, 1, 1, 1, 1,\n",
       "       1, 1, 1, 1, 1, 1, 1, 1, 1, 1, 1, 1, 1, 1, 1, 1, 1, 1, 1, 1, 1, 1,\n",
       "       1, 1, 1, 1, 1, 1, 1, 1, 1, 1, 1, 1, 1, 1, 1, 1, 1, 1, 1, 1, 1, 1,\n",
       "       1, 1, 1, 1, 1, 1, 1, 1, 1, 1, 1, 1, 1, 1, 1, 1, 1, 1, 1, 1, 1, 1,\n",
       "       1], dtype=int64)"
      ]
     },
     "execution_count": 25,
     "metadata": {},
     "output_type": "execute_result"
    }
   ],
   "source": [
    "test_T_O['Y_Class'].values"
   ]
  }
 ],
 "metadata": {
  "kernelspec": {
   "display_name": "Python 3",
   "language": "python",
   "name": "python3"
  },
  "language_info": {
   "codemirror_mode": {
    "name": "ipython",
    "version": 3
   },
   "file_extension": ".py",
   "mimetype": "text/x-python",
   "name": "python",
   "nbconvert_exporter": "python",
   "pygments_lexer": "ipython3",
   "version": "3.8.8"
  }
 },
 "nbformat": 4,
 "nbformat_minor": 5
}
