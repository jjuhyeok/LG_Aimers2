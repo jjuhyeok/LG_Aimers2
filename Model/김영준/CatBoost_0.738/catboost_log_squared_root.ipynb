{
 "cells": [
  {
   "cell_type": "code",
   "execution_count": 1,
   "id": "2L3xrpqoe1iY",
   "metadata": {
    "colab": {
     "base_uri": "https://localhost:8080/"
    },
    "id": "2L3xrpqoe1iY",
    "outputId": "e5feb096-ac3d-4002-b977-3fd1440d6ea6"
   },
   "outputs": [],
   "source": [
    "# from google.colab import drive\n",
    "# drive.mount('/content/drive')"
   ]
  },
  {
   "cell_type": "code",
   "execution_count": 2,
   "id": "spectacular-freeware",
   "metadata": {
    "id": "spectacular-freeware"
   },
   "outputs": [],
   "source": [
    "import pandas as pd\n",
    "import numpy as np\n",
    "import re\n",
    "import seaborn as sns\n",
    "import matplotlib.pyplot as plt\n",
    "from sklearn.preprocessing import LabelEncoder\n",
    "#from category.encoders import OneHotEncoder\n",
    "import warnings\n",
    "import random\n",
    "import os\n",
    "plt.style.use('ggplot')\n",
    "warnings.filterwarnings(action='ignore')"
   ]
  },
  {
   "cell_type": "code",
   "execution_count": 3,
   "id": "funky-painting",
   "metadata": {
    "id": "funky-painting"
   },
   "outputs": [],
   "source": [
    "def seed_everything(seed):\n",
    "    random.seed(seed)\n",
    "    os.environ['PYTHONHASHSEED'] = str(seed)\n",
    "    np.random.seed(seed)\n",
    "seed_everything(37) # Seed 고정"
   ]
  },
  {
   "cell_type": "code",
   "execution_count": 4,
   "id": "dental-rental",
   "metadata": {
    "id": "dental-rental"
   },
   "outputs": [],
   "source": [
    "# train = pd.read_csv('/content/drive/MyDrive/LG_Aimers2/open (7)/train.csv')\n",
    "# test = pd.read_csv('/content/drive/MyDrive/LG_Aimers2/open (7)/test.csv')\n",
    "train = pd.read_csv('./datasets/train.csv')\n",
    "test = pd.read_csv('./datasets/test.csv')"
   ]
  },
  {
   "cell_type": "code",
   "execution_count": 5,
   "id": "b2810efd",
   "metadata": {},
   "outputs": [
    {
     "data": {
      "text/plain": [
       "1    0.680602\n",
       "2    0.172241\n",
       "0    0.147157\n",
       "Name: Y_Class, dtype: float64"
      ]
     },
     "execution_count": 5,
     "metadata": {},
     "output_type": "execute_result"
    }
   ],
   "source": [
    "train[\"Y_Class\"].value_counts(normalize=True)"
   ]
  },
  {
   "cell_type": "code",
   "execution_count": 6,
   "id": "monetary-paris",
   "metadata": {
    "id": "monetary-paris"
   },
   "outputs": [],
   "source": [
    "# 124-127"
   ]
  },
  {
   "cell_type": "code",
   "execution_count": 7,
   "id": "critical-recovery",
   "metadata": {
    "colab": {
     "base_uri": "https://localhost:8080/",
     "height": 289
    },
    "id": "critical-recovery",
    "outputId": "cc45e78c-26e2-4846-e778-8edcf7642079"
   },
   "outputs": [
    {
     "data": {
      "text/html": [
       "<div>\n",
       "<style scoped>\n",
       "    .dataframe tbody tr th:only-of-type {\n",
       "        vertical-align: middle;\n",
       "    }\n",
       "\n",
       "    .dataframe tbody tr th {\n",
       "        vertical-align: top;\n",
       "    }\n",
       "\n",
       "    .dataframe thead th {\n",
       "        text-align: right;\n",
       "    }\n",
       "</style>\n",
       "<table border=\"1\" class=\"dataframe\">\n",
       "  <thead>\n",
       "    <tr style=\"text-align: right;\">\n",
       "      <th></th>\n",
       "      <th>PRODUCT_ID</th>\n",
       "      <th>Y_Class</th>\n",
       "      <th>Y_Quality</th>\n",
       "      <th>TIMESTAMP</th>\n",
       "      <th>LINE</th>\n",
       "      <th>PRODUCT_CODE</th>\n",
       "      <th>X_1</th>\n",
       "      <th>X_2</th>\n",
       "      <th>X_3</th>\n",
       "      <th>X_4</th>\n",
       "      <th>...</th>\n",
       "      <th>X_2862</th>\n",
       "      <th>X_2863</th>\n",
       "      <th>X_2864</th>\n",
       "      <th>X_2865</th>\n",
       "      <th>X_2866</th>\n",
       "      <th>X_2867</th>\n",
       "      <th>X_2868</th>\n",
       "      <th>X_2869</th>\n",
       "      <th>X_2870</th>\n",
       "      <th>X_2871</th>\n",
       "    </tr>\n",
       "  </thead>\n",
       "  <tbody>\n",
       "    <tr>\n",
       "      <th>0</th>\n",
       "      <td>TRAIN_000</td>\n",
       "      <td>1</td>\n",
       "      <td>0.533433</td>\n",
       "      <td>2022-06-13 5:14</td>\n",
       "      <td>T050304</td>\n",
       "      <td>A_31</td>\n",
       "      <td>NaN</td>\n",
       "      <td>NaN</td>\n",
       "      <td>NaN</td>\n",
       "      <td>NaN</td>\n",
       "      <td>...</td>\n",
       "      <td>189.0</td>\n",
       "      <td>383.0</td>\n",
       "      <td>368.296296</td>\n",
       "      <td>353.0</td>\n",
       "      <td>39.34</td>\n",
       "      <td>40.89</td>\n",
       "      <td>32.56</td>\n",
       "      <td>34.09</td>\n",
       "      <td>77.77</td>\n",
       "      <td>NaN</td>\n",
       "    </tr>\n",
       "    <tr>\n",
       "      <th>1</th>\n",
       "      <td>TRAIN_001</td>\n",
       "      <td>2</td>\n",
       "      <td>0.541819</td>\n",
       "      <td>2022-06-13 5:22</td>\n",
       "      <td>T050307</td>\n",
       "      <td>A_31</td>\n",
       "      <td>NaN</td>\n",
       "      <td>NaN</td>\n",
       "      <td>NaN</td>\n",
       "      <td>NaN</td>\n",
       "      <td>...</td>\n",
       "      <td>185.6</td>\n",
       "      <td>383.0</td>\n",
       "      <td>367.735849</td>\n",
       "      <td>353.0</td>\n",
       "      <td>38.89</td>\n",
       "      <td>42.82</td>\n",
       "      <td>43.92</td>\n",
       "      <td>35.34</td>\n",
       "      <td>72.55</td>\n",
       "      <td>NaN</td>\n",
       "    </tr>\n",
       "    <tr>\n",
       "      <th>2</th>\n",
       "      <td>TRAIN_002</td>\n",
       "      <td>1</td>\n",
       "      <td>0.531267</td>\n",
       "      <td>2022-06-13 5:30</td>\n",
       "      <td>T050304</td>\n",
       "      <td>A_31</td>\n",
       "      <td>NaN</td>\n",
       "      <td>NaN</td>\n",
       "      <td>NaN</td>\n",
       "      <td>NaN</td>\n",
       "      <td>...</td>\n",
       "      <td>165.5</td>\n",
       "      <td>383.0</td>\n",
       "      <td>367.320755</td>\n",
       "      <td>353.0</td>\n",
       "      <td>39.19</td>\n",
       "      <td>36.65</td>\n",
       "      <td>42.47</td>\n",
       "      <td>36.53</td>\n",
       "      <td>78.35</td>\n",
       "      <td>NaN</td>\n",
       "    </tr>\n",
       "  </tbody>\n",
       "</table>\n",
       "<p>3 rows × 2799 columns</p>\n",
       "</div>"
      ],
      "text/plain": [
       "  PRODUCT_ID  Y_Class  Y_Quality        TIMESTAMP     LINE PRODUCT_CODE  X_1  \\\n",
       "0  TRAIN_000        1   0.533433  2022-06-13 5:14  T050304         A_31  NaN   \n",
       "1  TRAIN_001        2   0.541819  2022-06-13 5:22  T050307         A_31  NaN   \n",
       "2  TRAIN_002        1   0.531267  2022-06-13 5:30  T050304         A_31  NaN   \n",
       "\n",
       "   X_2  X_3  X_4  ...  X_2862  X_2863      X_2864  X_2865  X_2866  X_2867  \\\n",
       "0  NaN  NaN  NaN  ...   189.0   383.0  368.296296   353.0   39.34   40.89   \n",
       "1  NaN  NaN  NaN  ...   185.6   383.0  367.735849   353.0   38.89   42.82   \n",
       "2  NaN  NaN  NaN  ...   165.5   383.0  367.320755   353.0   39.19   36.65   \n",
       "\n",
       "   X_2868  X_2869  X_2870  X_2871  \n",
       "0   32.56   34.09   77.77     NaN  \n",
       "1   43.92   35.34   72.55     NaN  \n",
       "2   42.47   36.53   78.35     NaN  \n",
       "\n",
       "[3 rows x 2799 columns]"
      ]
     },
     "execution_count": 7,
     "metadata": {},
     "output_type": "execute_result"
    }
   ],
   "source": [
    "col_list = train.columns\n",
    "nan_list = []\n",
    "nan_cnt = []\n",
    "nan_col = []\n",
    "full_list = []\n",
    "for col in col_list:\n",
    "    if train[col].isnull().sum() == 0 :\n",
    "        full_list.append(col)\n",
    "        continue\n",
    "    nan_list.append([col, train[col].isnull().sum()])\n",
    "    nan_cnt.append(train[col].isnull().sum())\n",
    "    nan_col.append(col)\n",
    "    \n",
    "'''모든값이 결측값이면 제거'''\n",
    "del_col = []\n",
    "for col in nan_list :\n",
    "    if col[1] == 598 :\n",
    "        del_col.append(col[0])\n",
    "train = train.drop(columns=del_col)\n",
    "test = test.drop(columns=del_col)\n",
    "train.head(3)"
   ]
  },
  {
   "cell_type": "code",
   "execution_count": 8,
   "id": "adverse-millennium",
   "metadata": {
    "id": "adverse-millennium"
   },
   "outputs": [],
   "source": [
    "trainA_31 = train[train['PRODUCT_CODE']=='A_31']\n",
    "train_T_31 = train[train['PRODUCT_CODE']=='T_31']\n",
    "train_O_31 = train[train['PRODUCT_CODE']=='O_31']\n",
    "\n",
    "testA_31 = test[test['PRODUCT_CODE']=='A_31']\n",
    "test_T_31 = test[test['PRODUCT_CODE']=='T_31']\n",
    "test_O_31 = test[test['PRODUCT_CODE']=='O_31']"
   ]
  },
  {
   "cell_type": "code",
   "execution_count": 9,
   "id": "appropriate-receipt",
   "metadata": {
    "id": "appropriate-receipt"
   },
   "outputs": [],
   "source": [
    "col_list = train.columns\n",
    "nan_listA_31 = []\n",
    "nan_cntA_31 = []\n",
    "nan_colA_31 = []\n",
    "full_listA_31 = []\n",
    "for col in col_list:\n",
    "    if trainA_31[col].isnull().sum() == 0 :\n",
    "        full_listA_31.append(col)\n",
    "        continue\n",
    "    nan_listA_31.append([col, trainA_31[col].isnull().sum()])\n",
    "    nan_cntA_31.append(trainA_31[col].isnull().sum())\n",
    "    nan_colA_31.append(col)\n",
    "    \n",
    "'''모든값이 결측값이면 제거'''\n",
    "del_col = []\n",
    "for col in nan_listA_31 :\n",
    "    if col[1] == len(trainA_31) :\n",
    "        del_col.append(col[0])\n",
    "trainA_31 = trainA_31.drop(columns=del_col)\n",
    "testA_31 = testA_31.drop(columns=del_col)\n",
    "\n",
    "'''값이 1개 존재하면 제거'''\n",
    "del_col = []\n",
    "col_list = trainA_31.columns\n",
    "for col in col_list[6:] :\n",
    "    if trainA_31[col].nunique()==1 :\n",
    "        del_col.append(col)\n",
    "trainA_31 = trainA_31.drop(columns=del_col)\n",
    "testA_31 = testA_31.drop(columns=del_col)"
   ]
  },
  {
   "cell_type": "code",
   "execution_count": 10,
   "id": "sophisticated-colon",
   "metadata": {
    "id": "sophisticated-colon"
   },
   "outputs": [],
   "source": [
    "col_list = train.columns\n",
    "nan_listO = []\n",
    "nan_cntO = []\n",
    "nan_colO = []\n",
    "full_listO = []\n",
    "for col in col_list:\n",
    "    if train_O_31[col].isnull().sum() == 0 :\n",
    "        full_listO.append(col)\n",
    "        continue\n",
    "    nan_listO.append([col, train_O_31[col].isnull().sum()])\n",
    "    nan_cntO.append(train_O_31[col].isnull().sum())\n",
    "    nan_colO.append(col)\n",
    "    \n",
    "'''모든값이 결측값이면 제거'''\n",
    "del_col = []\n",
    "for col in nan_listO :\n",
    "    if col[1] == len(train_O_31) :\n",
    "        del_col.append(col[0])\n",
    "train_O_31 = train_O_31.drop(columns=del_col)\n",
    "test_O_31 = test_O_31.drop(columns=del_col)\n",
    "\n",
    "'''값이 1개 존재하면 제거'''\n",
    "del_col = []\n",
    "col_list = train_O_31.columns\n",
    "for col in col_list[6:] :\n",
    "    if train_O_31[col].nunique()==1 :\n",
    "        del_col.append(col)\n",
    "train_O_31 = train_O_31.drop(columns=del_col)\n",
    "test_O_31 = test_O_31.drop(columns=del_col)"
   ]
  },
  {
   "cell_type": "code",
   "execution_count": 11,
   "id": "massive-dominican",
   "metadata": {
    "id": "massive-dominican"
   },
   "outputs": [],
   "source": [
    "col_list = train.columns\n",
    "nan_listT = []\n",
    "nan_cntT = []\n",
    "nan_colT = []\n",
    "full_listT = []\n",
    "for col in col_list:\n",
    "    if train_T_31[col].isnull().sum() == 0 :\n",
    "        full_listT.append(col)\n",
    "        continue\n",
    "    nan_listT.append([col, train_T_31[col].isnull().sum()])\n",
    "    nan_cntT.append(train_T_31[col].isnull().sum())\n",
    "    nan_colT.append(col)\n",
    "    \n",
    "'''모든값이 결측값이면 제거'''\n",
    "del_col = []\n",
    "for col in nan_listT :\n",
    "    if col[1] == len(train_T_31) :\n",
    "        del_col.append(col[0])\n",
    "train_T_31 = train_T_31.drop(columns=del_col)\n",
    "test_T_31 = test_T_31.drop(columns=del_col)\n",
    "\n",
    "'''값이 1개 존재하면 제거'''\n",
    "del_col = []\n",
    "col_list = train_T_31.columns\n",
    "for col in col_list[6:] :\n",
    "    if train_T_31[col].nunique()==1 :\n",
    "        del_col.append(col)\n",
    "train_T_31 = train_T_31.drop(columns=del_col)\n",
    "test_T_31 = test_T_31.drop(columns=del_col)"
   ]
  },
  {
   "cell_type": "code",
   "execution_count": 12,
   "id": "swiss-density",
   "metadata": {
    "id": "swiss-density"
   },
   "outputs": [],
   "source": [
    "trainA_31_x = trainA_31.drop(columns=['PRODUCT_ID','TIMESTAMP','PRODUCT_CODE','Y_Class','Y_Quality'])\n",
    "testA_31_x = testA_31.drop(columns=['PRODUCT_ID','TIMESTAMP','PRODUCT_CODE'])\n",
    "train_T_31_x = train_T_31.drop(columns=['PRODUCT_ID','TIMESTAMP','Y_Class','Y_Quality','PRODUCT_CODE'])\n",
    "test_T_31_x = test_T_31.drop(columns=['PRODUCT_ID','TIMESTAMP','PRODUCT_CODE'])\n",
    "train_O_31_x = train_O_31.drop(columns=['PRODUCT_ID','TIMESTAMP','PRODUCT_CODE','Y_Class','Y_Quality'])\n",
    "test_O_31_x = test_O_31.drop(columns=['PRODUCT_ID','TIMESTAMP','PRODUCT_CODE'])\n",
    "\n",
    "# classification\n",
    "trainA_31_y_c = trainA_31['Y_Class']\n",
    "train_T_31_y_c = train_T_31['Y_Class']\n",
    "train_O_31_y_c = train_O_31['Y_Class']\n",
    "\n",
    "# regression\n",
    "trainA_31_y_r = trainA_31['Y_Quality']\n",
    "train_T_31_y_r = train_T_31['Y_Quality']\n",
    "train_O_31_y_r = train_O_31['Y_Quality']"
   ]
  },
  {
   "cell_type": "code",
   "execution_count": 13,
   "id": "royal-worry",
   "metadata": {
    "colab": {
     "base_uri": "https://localhost:8080/"
    },
    "id": "royal-worry",
    "outputId": "3568daaa-a68a-4c16-ad61-af44a4445ec7"
   },
   "outputs": [
    {
     "name": "stdout",
     "output_type": "stream",
     "text": [
      "(249, 1866) \n",
      " (67, 1866) \n",
      " (343, 550) \n",
      " (239, 550) \n",
      " (6, 499) \n",
      " (4, 499)\n"
     ]
    }
   ],
   "source": [
    "print(trainA_31_x.shape,'\\n',testA_31_x.shape,'\\n',train_T_31_x.shape,'\\n',test_T_31_x.shape,'\\n',train_O_31_x.shape,'\\n',test_O_31_x.shape)"
   ]
  },
  {
   "cell_type": "code",
   "execution_count": 14,
   "id": "outstanding-marker",
   "metadata": {
    "colab": {
     "base_uri": "https://localhost:8080/"
    },
    "id": "outstanding-marker",
    "outputId": "30b4f586-2e89-422d-8c4d-3e4789def9b3"
   },
   "outputs": [
    {
     "data": {
      "text/plain": [
       "array(['T050304', 'T050307', 'T010306', 'T010305'], dtype=object)"
      ]
     },
     "execution_count": 14,
     "metadata": {},
     "output_type": "execute_result"
    }
   ],
   "source": [
    "trainA_31_x['LINE'].unique()"
   ]
  },
  {
   "cell_type": "code",
   "execution_count": 15,
   "id": "powered-bottom",
   "metadata": {
    "colab": {
     "base_uri": "https://localhost:8080/"
    },
    "id": "powered-bottom",
    "outputId": "9a5663b3-b542-4346-adac-2b67422f48b5"
   },
   "outputs": [
    {
     "data": {
      "text/plain": [
       "array(['T010305', 'T010306', 'T050304', 'T050307'], dtype=object)"
      ]
     },
     "execution_count": 15,
     "metadata": {},
     "output_type": "execute_result"
    }
   ],
   "source": [
    "testA_31_x['LINE'].unique()"
   ]
  },
  {
   "cell_type": "code",
   "execution_count": 16,
   "id": "appreciated-environment",
   "metadata": {
    "colab": {
     "base_uri": "https://localhost:8080/"
    },
    "id": "appreciated-environment",
    "outputId": "1b9ebb04-ad79-44bb-be0f-04a1d6dc570f"
   },
   "outputs": [
    {
     "name": "stdout",
     "output_type": "stream",
     "text": [
      "0 \n",
      " 0 \n",
      " 0 \n",
      " 0 \n",
      " 0 \n",
      " 0 \n",
      " 0 \n",
      " 0\n"
     ]
    }
   ],
   "source": [
    "print(len(trainA_31_x[trainA_31_x['LINE']==0]),'\\n',\n",
    "len(trainA_31_x[trainA_31_x['LINE']==1]),'\\n',\n",
    "len(trainA_31_x[trainA_31_x['LINE']==2]),'\\n',\n",
    "len(trainA_31_x[trainA_31_x['LINE']==3]),'\\n',\n",
    "len(testA_31_x[testA_31_x['LINE']==0]),'\\n',\n",
    "len(testA_31_x[testA_31_x['LINE']==1]),'\\n',\n",
    "len(testA_31_x[testA_31_x['LINE']==2]),'\\n',\n",
    "len(testA_31_x[testA_31_x['LINE']==3]))"
   ]
  },
  {
   "cell_type": "code",
   "execution_count": 17,
   "id": "perceived-nylon",
   "metadata": {
    "id": "perceived-nylon"
   },
   "outputs": [],
   "source": [
    "trainA_31_x=trainA_31_x.fillna(-1)\n",
    "testA_31_x=testA_31_x.fillna(-1)\n",
    "train_T_31_x=train_T_31_x.fillna(-1)\n",
    "test_T_31_x=test_T_31_x.fillna(-1)\n",
    "train_O_31_x=train_O_31_x.fillna(-1)\n",
    "test_O_31_x=test_O_31_x.fillna(-1)"
   ]
  },
  {
   "cell_type": "code",
   "execution_count": 18,
   "id": "sought-flour",
   "metadata": {
    "colab": {
     "base_uri": "https://localhost:8080/"
    },
    "id": "sought-flour",
    "outputId": "ed9ae2da-6a94-41cf-e959-b5cc472fee2d"
   },
   "outputs": [
    {
     "name": "stdout",
     "output_type": "stream",
     "text": [
      "Done.\n"
     ]
    }
   ],
   "source": [
    "# qualitative to quantitative\n",
    "qual_col = ['LINE']\n",
    "for i in qual_col:\n",
    "    le = LabelEncoder()\n",
    "    le = le.fit(trainA_31_x[i])\n",
    "    trainA_31_x[i] = le.transform(trainA_31_x[i])\n",
    "    \n",
    "    for label in np.unique(testA_31_x[i]): \n",
    "        if label not in le.classes_: \n",
    "            le.classes_ = np.append(le.classes_, label)\n",
    "    testA_31_x[i] = le.transform(testA_31_x[i]) \n",
    "print('Done.')"
   ]
  },
  {
   "cell_type": "code",
   "execution_count": 19,
   "id": "alone-modification",
   "metadata": {
    "colab": {
     "base_uri": "https://localhost:8080/"
    },
    "id": "alone-modification",
    "outputId": "7f24c436-c72f-41ad-a088-4f02ed8f34ab"
   },
   "outputs": [
    {
     "name": "stdout",
     "output_type": "stream",
     "text": [
      "Done.\n"
     ]
    }
   ],
   "source": [
    "# qualitative to quantitative\n",
    "qual_col = ['LINE']\n",
    "for i in qual_col:\n",
    "    le = LabelEncoder()\n",
    "    le = le.fit(train_T_31_x[i])\n",
    "    train_T_31_x[i] = le.transform(train_T_31_x[i])\n",
    "    \n",
    "    for label in np.unique(test_T_31_x[i]): \n",
    "        if label not in le.classes_: \n",
    "            le.classes_ = np.append(le.classes_, label)\n",
    "    test_T_31_x[i] = le.transform(test_T_31_x[i]) \n",
    "print('Done.')"
   ]
  },
  {
   "cell_type": "code",
   "execution_count": 20,
   "id": "associate-threat",
   "metadata": {
    "colab": {
     "base_uri": "https://localhost:8080/"
    },
    "id": "associate-threat",
    "outputId": "7114c845-08d7-49b7-a78e-20ad91cac2ae"
   },
   "outputs": [
    {
     "name": "stdout",
     "output_type": "stream",
     "text": [
      "Done.\n"
     ]
    }
   ],
   "source": [
    "# qualitative to quantitative\n",
    "qual_col = ['LINE']\n",
    "for i in qual_col:\n",
    "    le = LabelEncoder()\n",
    "    le = le.fit(train_O_31_x[i])\n",
    "    train_O_31_x[i] = le.transform(train_O_31_x[i])\n",
    "    \n",
    "    for label in np.unique(test_O_31_x[i]): \n",
    "        if label not in le.classes_: \n",
    "            le.classes_ = np.append(le.classes_, label)\n",
    "    test_O_31_x[i] = le.transform(test_O_31_x[i]) \n",
    "print('Done.')"
   ]
  },
  {
   "cell_type": "markdown",
   "id": "fTJv4eVNfV5T",
   "metadata": {
    "id": "fTJv4eVNfV5T"
   },
   "source": [
    "# LOG"
   ]
  },
  {
   "cell_type": "code",
   "execution_count": 21,
   "id": "j6hEppRSgClA",
   "metadata": {
    "colab": {
     "base_uri": "https://localhost:8080/"
    },
    "id": "j6hEppRSgClA",
    "outputId": "722bed37-6f61-41e6-bd78-9312e0abf5ba"
   },
   "outputs": [
    {
     "data": {
      "text/plain": [
       "-1.0"
      ]
     },
     "execution_count": 21,
     "metadata": {},
     "output_type": "execute_result"
    }
   ],
   "source": [
    "trainA_31_x['X_1032'].min()"
   ]
  },
  {
   "cell_type": "code",
   "execution_count": 22,
   "id": "di1se6bnfyUB",
   "metadata": {
    "colab": {
     "base_uri": "https://localhost:8080/"
    },
    "id": "di1se6bnfyUB",
    "outputId": "dac5287a-f1fd-4df8-d76b-edaaa660a0a5"
   },
   "outputs": [
    {
     "name": "stdout",
     "output_type": "stream",
     "text": [
      "X_953 -69.0\n",
      "X_954 -149.0\n",
      "X_955 -37.0\n",
      "X_956 -90.0\n",
      "X_1002 -60.79245283\n",
      "X_1078 -55.0\n",
      "X_1105 -55.0\n",
      "X_1132 -55.0\n",
      "X_1741 -4.0\n",
      "X_1745 -5.0\n",
      "X_1815 -6.0\n",
      "X_1819 -6.0\n",
      "======================\n",
      "X_953 -44.0\n",
      "X_954 -116.0\n",
      "X_955 -6.0\n",
      "X_956 -31.0\n",
      "X_1002 -13.88679245\n",
      "X_1078 -17.0\n",
      "X_1105 -17.0\n",
      "X_1132 -17.0\n",
      "X_1741 -4.0\n",
      "X_1745 -5.0\n",
      "X_1815 -6.0\n",
      "X_1819 -6.0\n"
     ]
    }
   ],
   "source": [
    "arr_A = []\n",
    "for col in trainA_31_x.columns:\n",
    "    if(trainA_31_x[col].min() < -3):\n",
    "        arr_A.append(col)\n",
    "        print(col,trainA_31_x[col].min())\n",
    "\n",
    "print(\"======================\")\n",
    "for col in testA_31_x.columns:\n",
    "    if(testA_31_x[col].min() < -3):\n",
    "        print(col,testA_31_x[col].min())"
   ]
  },
  {
   "cell_type": "code",
   "execution_count": 23,
   "id": "Zkv8MmiKhV5a",
   "metadata": {
    "colab": {
     "base_uri": "https://localhost:8080/"
    },
    "id": "Zkv8MmiKhV5a",
    "outputId": "9192464c-5904-4747-fe55-2698344541bb"
   },
   "outputs": [
    {
     "name": "stdout",
     "output_type": "stream",
     "text": [
      "X_393 -10.0\n",
      "X_394 -100.0\n",
      "X_395 -190.0\n",
      "X_396 -260.0\n",
      "X_428 -219.2727273\n",
      "X_472 -250.0\n",
      "X_488 -250.0\n",
      "X_504 -250.0\n",
      "======================\n",
      "X_393 -10.0\n",
      "X_394 -90.0\n",
      "X_395 -60.0\n",
      "X_396 -170.0\n",
      "X_428 -105.0909091\n",
      "X_472 -70.0\n",
      "X_488 -70.0\n",
      "X_504 -70.0\n"
     ]
    },
    {
     "data": {
      "text/plain": [
       "['X_393', 'X_394', 'X_395', 'X_396', 'X_428', 'X_472', 'X_488', 'X_504']"
      ]
     },
     "execution_count": 23,
     "metadata": {},
     "output_type": "execute_result"
    }
   ],
   "source": [
    "arr_T = []\n",
    "for col in train_T_31_x.columns:\n",
    "    if(train_T_31_x[col].min() < -1):\n",
    "        arr_T.append(col)\n",
    "        print(col,train_T_31_x[col].min())\n",
    "\n",
    "print(\"======================\")\n",
    "for col in test_T_31_x.columns:\n",
    "    if(test_T_31_x[col].min() < -1):\n",
    "        print(col,test_T_31_x[col].min())\n",
    "\n",
    "arr_T"
   ]
  },
  {
   "cell_type": "code",
   "execution_count": 24,
   "id": "XyMR0EgZhgLs",
   "metadata": {
    "colab": {
     "base_uri": "https://localhost:8080/"
    },
    "id": "XyMR0EgZhgLs",
    "outputId": "dce52569-a715-4a15-8323-9576f5e7ba5c"
   },
   "outputs": [
    {
     "name": "stdout",
     "output_type": "stream",
     "text": [
      "X_394 -20.0\n",
      "X_395 -30.0\n",
      "X_396 -70.0\n",
      "X_428 -52.36363636\n",
      "======================\n",
      "X_394 -20.0\n",
      "X_395 -30.0\n",
      "X_396 -70.0\n",
      "X_428 -53.63636364\n"
     ]
    },
    {
     "data": {
      "text/plain": [
       "['X_394', 'X_395', 'X_396', 'X_428']"
      ]
     },
     "execution_count": 24,
     "metadata": {},
     "output_type": "execute_result"
    }
   ],
   "source": [
    "arr_O = []\n",
    "for col in train_O_31_x.columns:\n",
    "    if(train_O_31_x[col].min() < -1):\n",
    "        arr_O.append(col)\n",
    "        print(col,train_O_31_x[col].min())\n",
    "\n",
    "print(\"======================\")\n",
    "for col in test_O_31_x.columns:\n",
    "    if(test_O_31_x[col].min() < -1):\n",
    "        print(col,test_O_31_x[col].min())\n",
    "arr_O"
   ]
  },
  {
   "cell_type": "code",
   "execution_count": 25,
   "id": "Z1iS4M_Zgp5Z",
   "metadata": {
    "id": "Z1iS4M_Zgp5Z"
   },
   "outputs": [],
   "source": [
    "import math"
   ]
  },
  {
   "cell_type": "code",
   "execution_count": 26,
   "id": "Oep-_4--fWpn",
   "metadata": {
    "id": "Oep-_4--fWpn"
   },
   "outputs": [],
   "source": [
    "# 0값이 있는 피쳐 제외하고 log 변환 (log1p 사용 안함)\n",
    "basic_col = trainA_31_x.columns\n",
    "for col in basic_col:\n",
    "    if col in arr_A:\n",
    "        continue\n",
    "    trainA_31_x[col+\"_log\"] = trainA_31_x[col].apply(lambda x : math.log(x + 3))\n",
    "    testA_31_x[col+\"_log\"] = testA_31_x[col].apply(lambda x : math.log(x + 3))\n",
    "\n",
    "basic_col = train_T_31_x.columns\n",
    "for col in basic_col:\n",
    "    if col in arr_T:\n",
    "        continue\n",
    "    train_T_31_x[col+\"_log\"] = train_T_31_x[col].apply(lambda x : math.log(x + 3))\n",
    "    test_T_31_x[col+\"_log\"] = test_T_31_x[col].apply(lambda x : math.log(x + 3))\n",
    "\n",
    "basic_col = train_O_31_x.columns\n",
    "for col in basic_col:\n",
    "    if col in arr_O:\n",
    "        continue\n",
    "    train_O_31_x[col+\"_log\"] = train_O_31_x[col].apply(lambda x : math.log(x + 3))\n",
    "    test_O_31_x[col+\"_log\"] = test_O_31_x[col].apply(lambda x : math.log(x + 3))"
   ]
  },
  {
   "cell_type": "code",
   "execution_count": null,
   "id": "284efe42",
   "metadata": {},
   "outputs": [],
   "source": []
  },
  {
   "cell_type": "code",
   "execution_count": null,
   "id": "ff5117ab",
   "metadata": {},
   "outputs": [],
   "source": [
    "trainA_31_x[[\"square_\" + i for i in trainA_31_x.columns]] = (trainA_31_x ** 2).values\n",
    "trainA_31_x[[\"root_\" + i for i in trainA_31_x.columns]] = (trainA_31_x ** (1/2)).values\n",
    "\n",
    "train_T_31_x[[\"square_\" + i for i in train_T_31_x.columns]] = (train_T_31_x ** 2).values\n",
    "train_T_31_x[[\"root_\" + i for i in train_T_31_x.columns]] = (train_T_31_x ** (1/2)).values\n",
    "\n",
    "train_O_31_x[[\"square_\" + i for i in train_O_31_x.columns]] = (train_O_31_x ** 2).values\n",
    "train_O_31_x[[\"root_\" + i for i in train_O_31_x.columns]] = (train_O_31_x ** (1/2)).values\n",
    "\n",
    "testA_31_x[[\"square_\" + i for i in testA_31_x.columns]] = (testA_31_x ** 2).values\n",
    "testA_31_x[[\"root_\" + i for i in testA_31_x.columns]] = (testA_31_x ** (1/2)).values\n",
    "\n",
    "test_T_31_x[[\"square_\" + i for i in test_T_31_x.columns]] = (test_T_31_x ** 2).values\n",
    "test_T_31_x[[\"root_\" + i for i in test_T_31_x.columns]] = (test_T_31_x ** (1/2)).values\n",
    "\n",
    "test_O_31_x[[\"square_\" + i for i in test_O_31_x.columns]] = (test_O_31_x ** 2).values\n",
    "test_O_31_x[[\"root_\" + i for i in test_O_31_x.columns]] = (test_O_31_x ** (1/2)).values"
   ]
  },
  {
   "cell_type": "code",
   "execution_count": 31,
   "id": "98632031",
   "metadata": {},
   "outputs": [
    {
     "data": {
      "text/plain": [
       "(249, 14880)"
      ]
     },
     "execution_count": 31,
     "metadata": {},
     "output_type": "execute_result"
    }
   ],
   "source": [
    "trainA_31_x.shape"
   ]
  },
  {
   "cell_type": "code",
   "execution_count": 32,
   "id": "13f0d898",
   "metadata": {},
   "outputs": [
    {
     "data": {
      "text/plain": [
       "(343, 4368)"
      ]
     },
     "execution_count": 32,
     "metadata": {},
     "output_type": "execute_result"
    }
   ],
   "source": [
    "train_T_31_x.shape"
   ]
  },
  {
   "cell_type": "code",
   "execution_count": 33,
   "id": "4973d4e3",
   "metadata": {},
   "outputs": [
    {
     "data": {
      "text/plain": [
       "(4, 3976)"
      ]
     },
     "execution_count": 33,
     "metadata": {},
     "output_type": "execute_result"
    }
   ],
   "source": [
    "test_O_31_x.shape"
   ]
  },
  {
   "cell_type": "markdown",
   "id": "b24a9a2e",
   "metadata": {},
   "source": [
    "## Training"
   ]
  },
  {
   "cell_type": "code",
   "execution_count": 31,
   "id": "bridal-storage",
   "metadata": {
    "id": "bridal-storage"
   },
   "outputs": [],
   "source": [
    "from catboost import *"
   ]
  },
  {
   "cell_type": "code",
   "execution_count": 32,
   "id": "material-isolation",
   "metadata": {
    "colab": {
     "base_uri": "https://localhost:8080/"
    },
    "id": "material-isolation",
    "outputId": "efcd1651-cef0-4b1a-c137-73d58ab46210"
   },
   "outputs": [
    {
     "name": "stdout",
     "output_type": "stream",
     "text": [
      "0:\tlearn: 0.0098652\ttotal: 572ms\tremaining: 14m 16s\n"
     ]
    },
    {
     "name": "stderr",
     "output_type": "stream",
     "text": [
      "ERROR:root:Internal Python error in the inspect module.\n",
      "Below is the traceback from this internal error.\n",
      "\n"
     ]
    },
    {
     "name": "stdout",
     "output_type": "stream",
     "text": [
      "Traceback (most recent call last):\n",
      "  File \"c:\\users\\flash\\pycharmprojects\\pythonproject\\venv\\lib\\site-packages\\catboost\\core.py\", line 2037, in _fit\n",
      "    self._train(\n",
      "  File \"c:\\users\\flash\\pycharmprojects\\pythonproject\\venv\\lib\\site-packages\\catboost\\core.py\", line 1464, in _train\n",
      "    self._object._train(train_pool, test_pool, params, allow_clear_pool, init_model._object if init_model else None)\n",
      "  File \"_catboost.pyx\", line 4393, in _catboost._CatBoost._train\n",
      "  File \"_catboost.pyx\", line 4442, in _catboost._CatBoost._train\n",
      "KeyboardInterrupt\n",
      "\n",
      "During handling of the above exception, another exception occurred:\n",
      "\n",
      "Traceback (most recent call last):\n",
      "  File \"c:\\users\\flash\\pycharmprojects\\pythonproject\\venv\\lib\\site-packages\\IPython\\core\\interactiveshell.py\", line 3444, in run_code\n",
      "    exec(code_obj, self.user_global_ns, self.user_ns)\n",
      "  File \"C:\\Users\\flash\\AppData\\Local\\Temp\\ipykernel_11608\\1702919691.py\", line 2, in <module>\n",
      "    model.fit(trainA_31_x, trainA_31_y_r)\n",
      "  File \"c:\\users\\flash\\pycharmprojects\\pythonproject\\venv\\lib\\site-packages\\catboost\\core.py\", line 5299, in fit\n",
      "    return self._fit(X, y, cat_features, None, None, None, sample_weight, None, None, None, None, baseline,\n",
      "  File \"c:\\users\\flash\\pycharmprojects\\pythonproject\\venv\\lib\\site-packages\\catboost\\core.py\", line 2037, in _fit\n",
      "    self._train(\n",
      "KeyboardInterrupt\n",
      "\n",
      "During handling of the above exception, another exception occurred:\n",
      "\n",
      "Traceback (most recent call last):\n",
      "  File \"c:\\users\\flash\\pycharmprojects\\pythonproject\\venv\\lib\\site-packages\\IPython\\core\\interactiveshell.py\", line 2064, in showtraceback\n",
      "    stb = value._render_traceback_()\n",
      "AttributeError: 'KeyboardInterrupt' object has no attribute '_render_traceback_'\n",
      "\n",
      "During handling of the above exception, another exception occurred:\n",
      "\n",
      "Traceback (most recent call last):\n",
      "  File \"c:\\users\\flash\\pycharmprojects\\pythonproject\\venv\\lib\\site-packages\\IPython\\core\\ultratb.py\", line 1101, in get_records\n",
      "    return _fixed_getinnerframes(etb, number_of_lines_of_context, tb_offset)\n",
      "  File \"c:\\users\\flash\\pycharmprojects\\pythonproject\\venv\\lib\\site-packages\\IPython\\core\\ultratb.py\", line 248, in wrapped\n",
      "    return f(*args, **kwargs)\n",
      "  File \"c:\\users\\flash\\pycharmprojects\\pythonproject\\venv\\lib\\site-packages\\IPython\\core\\ultratb.py\", line 281, in _fixed_getinnerframes\n",
      "    records = fix_frame_records_filenames(inspect.getinnerframes(etb, context))\n",
      "  File \"C:\\Users\\flash\\AppData\\Local\\Programs\\Python\\Python38\\lib\\inspect.py\", line 1515, in getinnerframes\n",
      "    frameinfo = (tb.tb_frame,) + getframeinfo(tb, context)\n",
      "  File \"C:\\Users\\flash\\AppData\\Local\\Programs\\Python\\Python38\\lib\\inspect.py\", line 1473, in getframeinfo\n",
      "    filename = getsourcefile(frame) or getfile(frame)\n",
      "  File \"C:\\Users\\flash\\AppData\\Local\\Programs\\Python\\Python38\\lib\\inspect.py\", line 708, in getsourcefile\n",
      "    if getattr(getmodule(object, filename), '__loader__', None) is not None:\n",
      "  File \"C:\\Users\\flash\\AppData\\Local\\Programs\\Python\\Python38\\lib\\inspect.py\", line 754, in getmodule\n",
      "    os.path.realpath(f)] = module.__name__\n",
      "  File \"C:\\Users\\flash\\AppData\\Local\\Programs\\Python\\Python38\\lib\\ntpath.py\", line 664, in realpath\n",
      "    if _getfinalpathname(spath) == path:\n",
      "KeyboardInterrupt\n"
     ]
    },
    {
     "ename": "TypeError",
     "evalue": "object of type 'NoneType' has no len()",
     "output_type": "error",
     "traceback": [
      "\u001b[1;31m---------------------------------------------------------------------------\u001b[0m",
      "\u001b[1;31mKeyboardInterrupt\u001b[0m                         Traceback (most recent call last)",
      "\u001b[1;32mc:\\users\\flash\\pycharmprojects\\pythonproject\\venv\\lib\\site-packages\\catboost\\core.py\u001b[0m in \u001b[0;36m_fit\u001b[1;34m(self, X, y, cat_features, text_features, embedding_features, pairs, sample_weight, group_id, group_weight, subgroup_id, pairs_weight, baseline, use_best_model, eval_set, verbose, logging_level, plot, column_description, verbose_eval, metric_period, silent, early_stopping_rounds, save_snapshot, snapshot_file, snapshot_interval, init_model, callbacks, log_cout, log_cerr)\u001b[0m\n\u001b[0;32m   2036\u001b[0m             \u001b[0mplot_wrapper\u001b[0m\u001b[1;33m(\u001b[0m\u001b[0mplot\u001b[0m\u001b[1;33m,\u001b[0m \u001b[1;33m[\u001b[0m\u001b[0m_get_train_dir\u001b[0m\u001b[1;33m(\u001b[0m\u001b[0mself\u001b[0m\u001b[1;33m.\u001b[0m\u001b[0mget_params\u001b[0m\u001b[1;33m(\u001b[0m\u001b[1;33m)\u001b[0m\u001b[1;33m)\u001b[0m\u001b[1;33m]\u001b[0m\u001b[1;33m)\u001b[0m\u001b[1;33m:\u001b[0m\u001b[1;33m\u001b[0m\u001b[1;33m\u001b[0m\u001b[0m\n\u001b[1;32m-> 2037\u001b[1;33m             self._train(\n\u001b[0m\u001b[0;32m   2038\u001b[0m                 \u001b[0mtrain_pool\u001b[0m\u001b[1;33m,\u001b[0m\u001b[1;33m\u001b[0m\u001b[1;33m\u001b[0m\u001b[0m\n",
      "\u001b[1;32mc:\\users\\flash\\pycharmprojects\\pythonproject\\venv\\lib\\site-packages\\catboost\\core.py\u001b[0m in \u001b[0;36m_train\u001b[1;34m(self, train_pool, test_pool, params, allow_clear_pool, init_model)\u001b[0m\n\u001b[0;32m   1463\u001b[0m     \u001b[1;32mdef\u001b[0m \u001b[0m_train\u001b[0m\u001b[1;33m(\u001b[0m\u001b[0mself\u001b[0m\u001b[1;33m,\u001b[0m \u001b[0mtrain_pool\u001b[0m\u001b[1;33m,\u001b[0m \u001b[0mtest_pool\u001b[0m\u001b[1;33m,\u001b[0m \u001b[0mparams\u001b[0m\u001b[1;33m,\u001b[0m \u001b[0mallow_clear_pool\u001b[0m\u001b[1;33m,\u001b[0m \u001b[0minit_model\u001b[0m\u001b[1;33m)\u001b[0m\u001b[1;33m:\u001b[0m\u001b[1;33m\u001b[0m\u001b[1;33m\u001b[0m\u001b[0m\n\u001b[1;32m-> 1464\u001b[1;33m         \u001b[0mself\u001b[0m\u001b[1;33m.\u001b[0m\u001b[0m_object\u001b[0m\u001b[1;33m.\u001b[0m\u001b[0m_train\u001b[0m\u001b[1;33m(\u001b[0m\u001b[0mtrain_pool\u001b[0m\u001b[1;33m,\u001b[0m \u001b[0mtest_pool\u001b[0m\u001b[1;33m,\u001b[0m \u001b[0mparams\u001b[0m\u001b[1;33m,\u001b[0m \u001b[0mallow_clear_pool\u001b[0m\u001b[1;33m,\u001b[0m \u001b[0minit_model\u001b[0m\u001b[1;33m.\u001b[0m\u001b[0m_object\u001b[0m \u001b[1;32mif\u001b[0m \u001b[0minit_model\u001b[0m \u001b[1;32melse\u001b[0m \u001b[1;32mNone\u001b[0m\u001b[1;33m)\u001b[0m\u001b[1;33m\u001b[0m\u001b[1;33m\u001b[0m\u001b[0m\n\u001b[0m\u001b[0;32m   1465\u001b[0m         \u001b[0mself\u001b[0m\u001b[1;33m.\u001b[0m\u001b[0m_set_trained_model_attributes\u001b[0m\u001b[1;33m(\u001b[0m\u001b[1;33m)\u001b[0m\u001b[1;33m\u001b[0m\u001b[1;33m\u001b[0m\u001b[0m\n",
      "\u001b[1;32m_catboost.pyx\u001b[0m in \u001b[0;36m_catboost._CatBoost._train\u001b[1;34m()\u001b[0m\n",
      "\u001b[1;32m_catboost.pyx\u001b[0m in \u001b[0;36m_catboost._CatBoost._train\u001b[1;34m()\u001b[0m\n",
      "\u001b[1;31mKeyboardInterrupt\u001b[0m: ",
      "\nDuring handling of the above exception, another exception occurred:\n",
      "\u001b[1;31mKeyboardInterrupt\u001b[0m                         Traceback (most recent call last)",
      "    \u001b[1;31m[... skipping hidden 1 frame]\u001b[0m\n",
      "\u001b[1;32m~\\AppData\\Local\\Temp\\ipykernel_11608\\1702919691.py\u001b[0m in \u001b[0;36m<module>\u001b[1;34m\u001b[0m\n\u001b[0;32m      1\u001b[0m \u001b[0mmodel\u001b[0m \u001b[1;33m=\u001b[0m \u001b[0mCatBoostRegressor\u001b[0m\u001b[1;33m(\u001b[0m\u001b[0mrandom_state\u001b[0m\u001b[1;33m=\u001b[0m\u001b[1;36m1234\u001b[0m\u001b[1;33m,\u001b[0m \u001b[0mverbose\u001b[0m\u001b[1;33m=\u001b[0m\u001b[1;36m500\u001b[0m\u001b[1;33m,\u001b[0m \u001b[0miterations\u001b[0m\u001b[1;33m=\u001b[0m\u001b[1;36m1500\u001b[0m\u001b[1;33m,\u001b[0m \u001b[0mlearning_rate\u001b[0m\u001b[1;33m=\u001b[0m\u001b[1;36m0.033\u001b[0m\u001b[1;33m)\u001b[0m\u001b[1;33m\u001b[0m\u001b[1;33m\u001b[0m\u001b[0m\n\u001b[1;32m----> 2\u001b[1;33m \u001b[0mmodel\u001b[0m\u001b[1;33m.\u001b[0m\u001b[0mfit\u001b[0m\u001b[1;33m(\u001b[0m\u001b[0mtrainA_31_x\u001b[0m\u001b[1;33m,\u001b[0m \u001b[0mtrainA_31_y_r\u001b[0m\u001b[1;33m)\u001b[0m\u001b[1;33m\u001b[0m\u001b[1;33m\u001b[0m\u001b[0m\n\u001b[0m\u001b[0;32m      3\u001b[0m \u001b[0mpred_a\u001b[0m \u001b[1;33m=\u001b[0m \u001b[0mmodel\u001b[0m\u001b[1;33m.\u001b[0m\u001b[0mpredict\u001b[0m\u001b[1;33m(\u001b[0m\u001b[0mtestA_31_x\u001b[0m\u001b[1;33m)\u001b[0m\u001b[1;33m\u001b[0m\u001b[1;33m\u001b[0m\u001b[0m\n",
      "\u001b[1;32mc:\\users\\flash\\pycharmprojects\\pythonproject\\venv\\lib\\site-packages\\catboost\\core.py\u001b[0m in \u001b[0;36mfit\u001b[1;34m(self, X, y, cat_features, sample_weight, baseline, use_best_model, eval_set, verbose, logging_level, plot, column_description, verbose_eval, metric_period, silent, early_stopping_rounds, save_snapshot, snapshot_file, snapshot_interval, init_model, callbacks, log_cout, log_cerr)\u001b[0m\n\u001b[0;32m   5298\u001b[0m \u001b[1;33m\u001b[0m\u001b[0m\n\u001b[1;32m-> 5299\u001b[1;33m         return self._fit(X, y, cat_features, None, None, None, sample_weight, None, None, None, None, baseline,\n\u001b[0m\u001b[0;32m   5300\u001b[0m                          \u001b[0muse_best_model\u001b[0m\u001b[1;33m,\u001b[0m \u001b[0meval_set\u001b[0m\u001b[1;33m,\u001b[0m \u001b[0mverbose\u001b[0m\u001b[1;33m,\u001b[0m \u001b[0mlogging_level\u001b[0m\u001b[1;33m,\u001b[0m \u001b[0mplot\u001b[0m\u001b[1;33m,\u001b[0m \u001b[0mcolumn_description\u001b[0m\u001b[1;33m,\u001b[0m\u001b[1;33m\u001b[0m\u001b[1;33m\u001b[0m\u001b[0m\n",
      "\u001b[1;32mc:\\users\\flash\\pycharmprojects\\pythonproject\\venv\\lib\\site-packages\\catboost\\core.py\u001b[0m in \u001b[0;36m_fit\u001b[1;34m(self, X, y, cat_features, text_features, embedding_features, pairs, sample_weight, group_id, group_weight, subgroup_id, pairs_weight, baseline, use_best_model, eval_set, verbose, logging_level, plot, column_description, verbose_eval, metric_period, silent, early_stopping_rounds, save_snapshot, snapshot_file, snapshot_interval, init_model, callbacks, log_cout, log_cerr)\u001b[0m\n\u001b[0;32m   2036\u001b[0m             \u001b[0mplot_wrapper\u001b[0m\u001b[1;33m(\u001b[0m\u001b[0mplot\u001b[0m\u001b[1;33m,\u001b[0m \u001b[1;33m[\u001b[0m\u001b[0m_get_train_dir\u001b[0m\u001b[1;33m(\u001b[0m\u001b[0mself\u001b[0m\u001b[1;33m.\u001b[0m\u001b[0mget_params\u001b[0m\u001b[1;33m(\u001b[0m\u001b[1;33m)\u001b[0m\u001b[1;33m)\u001b[0m\u001b[1;33m]\u001b[0m\u001b[1;33m)\u001b[0m\u001b[1;33m:\u001b[0m\u001b[1;33m\u001b[0m\u001b[1;33m\u001b[0m\u001b[0m\n\u001b[1;32m-> 2037\u001b[1;33m             self._train(\n\u001b[0m\u001b[0;32m   2038\u001b[0m                 \u001b[0mtrain_pool\u001b[0m\u001b[1;33m,\u001b[0m\u001b[1;33m\u001b[0m\u001b[1;33m\u001b[0m\u001b[0m\n",
      "\u001b[1;31mKeyboardInterrupt\u001b[0m: ",
      "\nDuring handling of the above exception, another exception occurred:\n",
      "\u001b[1;31mAttributeError\u001b[0m                            Traceback (most recent call last)",
      "\u001b[1;32mc:\\users\\flash\\pycharmprojects\\pythonproject\\venv\\lib\\site-packages\\IPython\\core\\interactiveshell.py\u001b[0m in \u001b[0;36mshowtraceback\u001b[1;34m(self, exc_tuple, filename, tb_offset, exception_only, running_compiled_code)\u001b[0m\n\u001b[0;32m   2063\u001b[0m                         \u001b[1;31m# in the engines. This should return a list of strings.\u001b[0m\u001b[1;33m\u001b[0m\u001b[1;33m\u001b[0m\u001b[1;33m\u001b[0m\u001b[0m\n\u001b[1;32m-> 2064\u001b[1;33m                         \u001b[0mstb\u001b[0m \u001b[1;33m=\u001b[0m \u001b[0mvalue\u001b[0m\u001b[1;33m.\u001b[0m\u001b[0m_render_traceback_\u001b[0m\u001b[1;33m(\u001b[0m\u001b[1;33m)\u001b[0m\u001b[1;33m\u001b[0m\u001b[1;33m\u001b[0m\u001b[0m\n\u001b[0m\u001b[0;32m   2065\u001b[0m                     \u001b[1;32mexcept\u001b[0m \u001b[0mException\u001b[0m\u001b[1;33m:\u001b[0m\u001b[1;33m\u001b[0m\u001b[1;33m\u001b[0m\u001b[0m\n",
      "\u001b[1;31mAttributeError\u001b[0m: 'KeyboardInterrupt' object has no attribute '_render_traceback_'",
      "\nDuring handling of the above exception, another exception occurred:\n",
      "\u001b[1;31mTypeError\u001b[0m                                 Traceback (most recent call last)",
      "    \u001b[1;31m[... skipping hidden 1 frame]\u001b[0m\n",
      "\u001b[1;32mc:\\users\\flash\\pycharmprojects\\pythonproject\\venv\\lib\\site-packages\\IPython\\core\\interactiveshell.py\u001b[0m in \u001b[0;36mshowtraceback\u001b[1;34m(self, exc_tuple, filename, tb_offset, exception_only, running_compiled_code)\u001b[0m\n\u001b[0;32m   2064\u001b[0m                         \u001b[0mstb\u001b[0m \u001b[1;33m=\u001b[0m \u001b[0mvalue\u001b[0m\u001b[1;33m.\u001b[0m\u001b[0m_render_traceback_\u001b[0m\u001b[1;33m(\u001b[0m\u001b[1;33m)\u001b[0m\u001b[1;33m\u001b[0m\u001b[1;33m\u001b[0m\u001b[0m\n\u001b[0;32m   2065\u001b[0m                     \u001b[1;32mexcept\u001b[0m \u001b[0mException\u001b[0m\u001b[1;33m:\u001b[0m\u001b[1;33m\u001b[0m\u001b[1;33m\u001b[0m\u001b[0m\n\u001b[1;32m-> 2066\u001b[1;33m                         stb = self.InteractiveTB.structured_traceback(etype,\n\u001b[0m\u001b[0;32m   2067\u001b[0m                                             value, tb, tb_offset=tb_offset)\n\u001b[0;32m   2068\u001b[0m \u001b[1;33m\u001b[0m\u001b[0m\n",
      "\u001b[1;32mc:\\users\\flash\\pycharmprojects\\pythonproject\\venv\\lib\\site-packages\\IPython\\core\\ultratb.py\u001b[0m in \u001b[0;36mstructured_traceback\u001b[1;34m(self, etype, value, tb, tb_offset, number_of_lines_of_context)\u001b[0m\n\u001b[0;32m   1365\u001b[0m         \u001b[1;32melse\u001b[0m\u001b[1;33m:\u001b[0m\u001b[1;33m\u001b[0m\u001b[1;33m\u001b[0m\u001b[0m\n\u001b[0;32m   1366\u001b[0m             \u001b[0mself\u001b[0m\u001b[1;33m.\u001b[0m\u001b[0mtb\u001b[0m \u001b[1;33m=\u001b[0m \u001b[0mtb\u001b[0m\u001b[1;33m\u001b[0m\u001b[1;33m\u001b[0m\u001b[0m\n\u001b[1;32m-> 1367\u001b[1;33m         return FormattedTB.structured_traceback(\n\u001b[0m\u001b[0;32m   1368\u001b[0m             self, etype, value, tb, tb_offset, number_of_lines_of_context)\n\u001b[0;32m   1369\u001b[0m \u001b[1;33m\u001b[0m\u001b[0m\n",
      "\u001b[1;32mc:\\users\\flash\\pycharmprojects\\pythonproject\\venv\\lib\\site-packages\\IPython\\core\\ultratb.py\u001b[0m in \u001b[0;36mstructured_traceback\u001b[1;34m(self, etype, value, tb, tb_offset, number_of_lines_of_context)\u001b[0m\n\u001b[0;32m   1265\u001b[0m         \u001b[1;32mif\u001b[0m \u001b[0mmode\u001b[0m \u001b[1;32min\u001b[0m \u001b[0mself\u001b[0m\u001b[1;33m.\u001b[0m\u001b[0mverbose_modes\u001b[0m\u001b[1;33m:\u001b[0m\u001b[1;33m\u001b[0m\u001b[1;33m\u001b[0m\u001b[0m\n\u001b[0;32m   1266\u001b[0m             \u001b[1;31m# Verbose modes need a full traceback\u001b[0m\u001b[1;33m\u001b[0m\u001b[1;33m\u001b[0m\u001b[1;33m\u001b[0m\u001b[0m\n\u001b[1;32m-> 1267\u001b[1;33m             return VerboseTB.structured_traceback(\n\u001b[0m\u001b[0;32m   1268\u001b[0m                 \u001b[0mself\u001b[0m\u001b[1;33m,\u001b[0m \u001b[0metype\u001b[0m\u001b[1;33m,\u001b[0m \u001b[0mvalue\u001b[0m\u001b[1;33m,\u001b[0m \u001b[0mtb\u001b[0m\u001b[1;33m,\u001b[0m \u001b[0mtb_offset\u001b[0m\u001b[1;33m,\u001b[0m \u001b[0mnumber_of_lines_of_context\u001b[0m\u001b[1;33m\u001b[0m\u001b[1;33m\u001b[0m\u001b[0m\n\u001b[0;32m   1269\u001b[0m             )\n",
      "\u001b[1;32mc:\\users\\flash\\pycharmprojects\\pythonproject\\venv\\lib\\site-packages\\IPython\\core\\ultratb.py\u001b[0m in \u001b[0;36mstructured_traceback\u001b[1;34m(self, etype, evalue, etb, tb_offset, number_of_lines_of_context)\u001b[0m\n\u001b[0;32m   1122\u001b[0m         \u001b[1;34m\"\"\"Return a nice text document describing the traceback.\"\"\"\u001b[0m\u001b[1;33m\u001b[0m\u001b[1;33m\u001b[0m\u001b[0m\n\u001b[0;32m   1123\u001b[0m \u001b[1;33m\u001b[0m\u001b[0m\n\u001b[1;32m-> 1124\u001b[1;33m         formatted_exception = self.format_exception_as_a_whole(etype, evalue, etb, number_of_lines_of_context,\n\u001b[0m\u001b[0;32m   1125\u001b[0m                                                                tb_offset)\n\u001b[0;32m   1126\u001b[0m \u001b[1;33m\u001b[0m\u001b[0m\n",
      "\u001b[1;32mc:\\users\\flash\\pycharmprojects\\pythonproject\\venv\\lib\\site-packages\\IPython\\core\\ultratb.py\u001b[0m in \u001b[0;36mformat_exception_as_a_whole\u001b[1;34m(self, etype, evalue, etb, number_of_lines_of_context, tb_offset)\u001b[0m\n\u001b[0;32m   1080\u001b[0m \u001b[1;33m\u001b[0m\u001b[0m\n\u001b[0;32m   1081\u001b[0m \u001b[1;33m\u001b[0m\u001b[0m\n\u001b[1;32m-> 1082\u001b[1;33m         \u001b[0mlast_unique\u001b[0m\u001b[1;33m,\u001b[0m \u001b[0mrecursion_repeat\u001b[0m \u001b[1;33m=\u001b[0m \u001b[0mfind_recursion\u001b[0m\u001b[1;33m(\u001b[0m\u001b[0morig_etype\u001b[0m\u001b[1;33m,\u001b[0m \u001b[0mevalue\u001b[0m\u001b[1;33m,\u001b[0m \u001b[0mrecords\u001b[0m\u001b[1;33m)\u001b[0m\u001b[1;33m\u001b[0m\u001b[1;33m\u001b[0m\u001b[0m\n\u001b[0m\u001b[0;32m   1083\u001b[0m \u001b[1;33m\u001b[0m\u001b[0m\n\u001b[0;32m   1084\u001b[0m         \u001b[0mframes\u001b[0m \u001b[1;33m=\u001b[0m \u001b[0mself\u001b[0m\u001b[1;33m.\u001b[0m\u001b[0mformat_records\u001b[0m\u001b[1;33m(\u001b[0m\u001b[0mrecords\u001b[0m\u001b[1;33m,\u001b[0m \u001b[0mlast_unique\u001b[0m\u001b[1;33m,\u001b[0m \u001b[0mrecursion_repeat\u001b[0m\u001b[1;33m)\u001b[0m\u001b[1;33m\u001b[0m\u001b[1;33m\u001b[0m\u001b[0m\n",
      "\u001b[1;32mc:\\users\\flash\\pycharmprojects\\pythonproject\\venv\\lib\\site-packages\\IPython\\core\\ultratb.py\u001b[0m in \u001b[0;36mfind_recursion\u001b[1;34m(etype, value, records)\u001b[0m\n\u001b[0;32m    380\u001b[0m     \u001b[1;31m# first frame (from in to out) that looks different.\u001b[0m\u001b[1;33m\u001b[0m\u001b[1;33m\u001b[0m\u001b[1;33m\u001b[0m\u001b[0m\n\u001b[0;32m    381\u001b[0m     \u001b[1;32mif\u001b[0m \u001b[1;32mnot\u001b[0m \u001b[0mis_recursion_error\u001b[0m\u001b[1;33m(\u001b[0m\u001b[0metype\u001b[0m\u001b[1;33m,\u001b[0m \u001b[0mvalue\u001b[0m\u001b[1;33m,\u001b[0m \u001b[0mrecords\u001b[0m\u001b[1;33m)\u001b[0m\u001b[1;33m:\u001b[0m\u001b[1;33m\u001b[0m\u001b[1;33m\u001b[0m\u001b[0m\n\u001b[1;32m--> 382\u001b[1;33m         \u001b[1;32mreturn\u001b[0m \u001b[0mlen\u001b[0m\u001b[1;33m(\u001b[0m\u001b[0mrecords\u001b[0m\u001b[1;33m)\u001b[0m\u001b[1;33m,\u001b[0m \u001b[1;36m0\u001b[0m\u001b[1;33m\u001b[0m\u001b[1;33m\u001b[0m\u001b[0m\n\u001b[0m\u001b[0;32m    383\u001b[0m \u001b[1;33m\u001b[0m\u001b[0m\n\u001b[0;32m    384\u001b[0m     \u001b[1;31m# Select filename, lineno, func_name to track frames with\u001b[0m\u001b[1;33m\u001b[0m\u001b[1;33m\u001b[0m\u001b[1;33m\u001b[0m\u001b[0m\n",
      "\u001b[1;31mTypeError\u001b[0m: object of type 'NoneType' has no len()"
     ]
    }
   ],
   "source": [
    "model = CatBoostRegressor(random_state=1234, verbose=500, iterations=2000, learning_rate=0.033)\n",
    "model.fit(trainA_31_x, trainA_31_y_r)\n",
    "pred_a = model.predict(testA_31_x)"
   ]
  },
  {
   "cell_type": "code",
   "execution_count": null,
   "id": "requested-acceptance",
   "metadata": {
    "colab": {
     "base_uri": "https://localhost:8080/"
    },
    "id": "requested-acceptance",
    "outputId": "73cb3a84-8aea-4368-83df-5426c90244ff"
   },
   "outputs": [],
   "source": [
    "#model = CatBoostRegressor(random_state=110,verbose=500,iterations=500)\n",
    "model.fit(train_T_31_x, train_T_31_y_r)\n",
    "pred_t = model.predict(test_T_31_x)"
   ]
  },
  {
   "cell_type": "code",
   "execution_count": null,
   "id": "driven-thong",
   "metadata": {
    "colab": {
     "base_uri": "https://localhost:8080/"
    },
    "id": "driven-thong",
    "outputId": "d2a6d743-7384-45ac-ce34-84b8bda20773"
   },
   "outputs": [],
   "source": [
    "#model = CatBoostRegressor(random_state=110,verbose=500,iterations=500)\n",
    "model.fit(train_O_31_x, train_O_31_y_r)\n",
    "pred_o = model.predict(test_O_31_x)"
   ]
  },
  {
   "cell_type": "code",
   "execution_count": null,
   "id": "intended-zimbabwe",
   "metadata": {
    "id": "intended-zimbabwe"
   },
   "outputs": [],
   "source": [
    "testA_31['Y_quanlity'] = pred_a\n",
    "test_T_31['Y_quanlity'] = pred_t\n",
    "test_O_31['Y_quanlity'] = pred_o"
   ]
  },
  {
   "cell_type": "code",
   "execution_count": null,
   "id": "seventh-argentina",
   "metadata": {
    "id": "seventh-argentina"
   },
   "outputs": [],
   "source": [
    "testA_31['Y_Class'] = 1\n",
    "test_T_31['Y_Class'] = 1\n",
    "test_O_31['Y_Class'] = 1"
   ]
  },
  {
   "cell_type": "code",
   "execution_count": null,
   "id": "reduced-least",
   "metadata": {
    "id": "reduced-least"
   },
   "outputs": [],
   "source": [
    "testA_31.loc[(testA_31['Y_quanlity']<0.52507), 'Y_Class'] = 0\n",
    "testA_31.loc[(testA_31['Y_quanlity']>0.5349), 'Y_Class'] = 2\n",
    "\n",
    "test_T_31.loc[(test_T_31['Y_quanlity']<0.52507), 'Y_Class'] = 0\n",
    "test_T_31.loc[(test_T_31['Y_quanlity']>0.5349), 'Y_Class'] = 2\n",
    "\n",
    "test_O_31.loc[(test_O_31['Y_quanlity']<0.52507), 'Y_Class'] = 0\n",
    "test_O_31.loc[(test_O_31['Y_quanlity']>0.5349), 'Y_Class'] = 2"
   ]
  },
  {
   "cell_type": "code",
   "execution_count": null,
   "id": "knowing-tuning",
   "metadata": {
    "id": "knowing-tuning"
   },
   "outputs": [],
   "source": [
    "submita = pd.read_csv('./datasets/sample_submission.csv')\n",
    "submitt = pd.read_csv('./datasets/sample_submission.csv')\n",
    "submito = pd.read_csv('./datasets/sample_submission.csv')"
   ]
  },
  {
   "cell_type": "code",
   "execution_count": null,
   "id": "significant-aspect",
   "metadata": {
    "id": "significant-aspect"
   },
   "outputs": [],
   "source": [
    "submita = pd.merge(submita[['PRODUCT_ID']],testA_31[['PRODUCT_ID','Y_Class']],on='PRODUCT_ID')\n",
    "submitt = pd.merge(submitt[['PRODUCT_ID']],test_T_31[['PRODUCT_ID','Y_Class']],on='PRODUCT_ID')\n",
    "submito = pd.merge(submito[['PRODUCT_ID']],test_O_31[['PRODUCT_ID','Y_Class']],on='PRODUCT_ID')"
   ]
  },
  {
   "cell_type": "code",
   "execution_count": null,
   "id": "little-module",
   "metadata": {
    "id": "little-module",
    "scrolled": true
   },
   "outputs": [],
   "source": [
    "pd.concat([submita,submitt,submito]).sort_values(by='PRODUCT_ID').to_csv('./748_log_pca.csv',index=False)"
   ]
  },
  {
   "cell_type": "markdown",
   "id": "ER93b4gWlglM",
   "metadata": {
    "id": "ER93b4gWlglM"
   },
   "source": [
    "### ------------------------------"
   ]
  },
  {
   "cell_type": "code",
   "execution_count": null,
   "id": "81a5a024",
   "metadata": {},
   "outputs": [],
   "source": [
    "result = pd.concat([submita,submitt,submito]).sort_values(by='PRODUCT_ID')"
   ]
  },
  {
   "cell_type": "code",
   "execution_count": null,
   "id": "86a96478",
   "metadata": {},
   "outputs": [],
   "source": [
    "result[\"Y_Class\"].value_counts(normalize=True)"
   ]
  },
  {
   "cell_type": "code",
   "execution_count": null,
   "id": "208e363d",
   "metadata": {},
   "outputs": [],
   "source": [
    "jg_sub = pd.read_csv(\"./748_log.csv\")\n",
    "jg_sub[\"Y_Class\"].value_counts(normalize=True)"
   ]
  },
  {
   "cell_type": "code",
   "execution_count": null,
   "id": "5c1e39ba",
   "metadata": {},
   "outputs": [],
   "source": []
  },
  {
   "cell_type": "code",
   "execution_count": null,
   "id": "964db236",
   "metadata": {},
   "outputs": [],
   "source": []
  },
  {
   "cell_type": "code",
   "execution_count": null,
   "id": "41650b28",
   "metadata": {},
   "outputs": [],
   "source": []
  },
  {
   "cell_type": "code",
   "execution_count": null,
   "id": "d35aeb36",
   "metadata": {},
   "outputs": [],
   "source": []
  }
 ],
 "metadata": {
  "colab": {
   "provenance": []
  },
  "kernelspec": {
   "display_name": "Python 3 (ipykernel)",
   "language": "python",
   "name": "python3"
  },
  "language_info": {
   "codemirror_mode": {
    "name": "ipython",
    "version": 3
   },
   "file_extension": ".py",
   "mimetype": "text/x-python",
   "name": "python",
   "nbconvert_exporter": "python",
   "pygments_lexer": "ipython3",
   "version": "3.8.10"
  }
 },
 "nbformat": 4,
 "nbformat_minor": 5
}
