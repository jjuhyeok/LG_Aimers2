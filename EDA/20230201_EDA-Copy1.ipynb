{
 "cells": [
  {
   "cell_type": "code",
   "execution_count": null,
   "id": "expanded-istanbul",
   "metadata": {},
   "outputs": [],
   "source": [
    "'''\n",
    "Dataset Info.\n",
    "\n",
    "train.csv [파일]\n",
    "PRODUCT_ID : 제품의 고유 ID\n",
    "Y_Class : 제품 품질 상태(Target) \n",
    "0 : 적정 기준 미달 (부적합)\n",
    "1 : 적합\n",
    "2 : 적정 기준 초과 (부적합)\n",
    "Y_Quality : 제품 품질 관련 정량적 수치\n",
    "TIMESTAMP : 제품이 공정에 들어간 시각\n",
    "LINE : 제품이 들어간 공정 LINE 종류 ('T050304', 'T050307', 'T100304', 'T100306', 'T010306', 'T010305' 존재)\n",
    "PRODUCT_CODE : 제품의 CODE 번호 ('A_31', 'T_31', 'V' 존재)\n",
    "X_1 ~ X_2875 : 공정 과정에서 추출되어 비식별화된 변수\n",
    "\n",
    "\n",
    "test.csv [파일]\n",
    "PRODUCT_ID : 제품의 고유 ID\n",
    "TIMESTAMP : 제품이 공정에 들어간 시각\n",
    "LINE : 제품이 들어간 공정 LINE 종류 ('T050304', 'T050307', 'T100304', 'T100306', 'T010306', 'T010305' 존재)\n",
    "PRODUCT_CODE : 제품의 CODE 번호 ('A_31', 'T_31', 'O_31' 존재)\n",
    "X_1 ~ X_2875 : 공정 과정에서 추출되어 비식별화된 변수\n",
    "\n",
    "\n",
    "sample_submission.csv [파일] - 제출 양식\n",
    "PRODUCT_ID : 제품의 고유 ID\n",
    "Y_Class : 예측한 제품 품질 상태\n",
    "0 : 적정 기준 미달 (부적합)\n",
    "1 : 적합\n",
    "2 : 적정 기준 초과 (부적합)\n",
    "\n",
    "실제 공정 과정에서의 데이터로, 보안상의 이유로 일부 변수가 비식별화 처리 되었습니다. (X변수)\n",
    "'LINE', 'PRODUCT_CODE'는 Train / Test 모두 동일한 종류가 존재합니다.\n",
    "'''"
   ]
  },
  {
   "cell_type": "code",
   "execution_count": 204,
   "id": "identified-basics",
   "metadata": {},
   "outputs": [],
   "source": [
    "import pandas as pd\n",
    "import numpy as np\n",
    "import re\n",
    "import seaborn as sns\n",
    "import matplotlib.pyplot as plt\n",
    "import warnings\n",
    "\n",
    "plt.style.use('ggplot')\n",
    "warnings.filterwarnings(action='ignore')"
   ]
  },
  {
   "cell_type": "code",
   "execution_count": 205,
   "id": "classified-absolute",
   "metadata": {},
   "outputs": [],
   "source": [
    "def cnt_plot(data, col,  hue, title):\n",
    "    plt.rc('font', family='Malgun Gothic')\n",
    "    plt.rc(\"axes\",unicode_minus=False)\n",
    "    plt.figure(figsize=(10,5))\n",
    "    plt.xticks(rotation=40)\n",
    "    ax=sns.countplot(x=col, hue=hue ,data = data, palette='Reds')\n",
    "    for p in ax.patches:\n",
    "        ax.annotate(\"%.0f\"%p.get_height(),(p.get_x() + p.get_width()/2, p.get_height()),\n",
    "                   ha='center', va='center', fontsize=11, color='black', xytext=(0,10),\n",
    "                   textcoords='offset points')\n",
    "    plt.title(title)\n",
    "    plt.show()"
   ]
  },
  {
   "cell_type": "code",
   "execution_count": 206,
   "id": "greater-native",
   "metadata": {},
   "outputs": [],
   "source": [
    "def cyclical_feature(df): \n",
    "    df['sin_time'] = np.sin(2*np.pi*(df.HOUR*60+df.MIN)/60)\n",
    "    df['cos_time'] = np.cos(2*np.pi*(df.HOUR*60+df.MIN)/60)"
   ]
  },
  {
   "cell_type": "code",
   "execution_count": 207,
   "id": "serious-chart",
   "metadata": {},
   "outputs": [],
   "source": [
    "def cyclical_feature(df): \n",
    "    df['sin_time'] = np.sin(2*np.pi*df.HOUR/24)\n",
    "    df['cos_time'] = np.cos(2*np.pi*df.HOUR/24)"
   ]
  },
  {
   "cell_type": "code",
   "execution_count": 208,
   "id": "joined-boring",
   "metadata": {},
   "outputs": [],
   "source": [
    "train = pd.read_csv('train.csv')\n",
    "test = pd.read_csv('test.csv')"
   ]
  },
  {
   "cell_type": "code",
   "execution_count": 216,
   "id": "statistical-latex",
   "metadata": {},
   "outputs": [
    {
     "data": {
      "text/html": [
       "<div>\n",
       "<style scoped>\n",
       "    .dataframe tbody tr th:only-of-type {\n",
       "        vertical-align: middle;\n",
       "    }\n",
       "\n",
       "    .dataframe tbody tr th {\n",
       "        vertical-align: top;\n",
       "    }\n",
       "\n",
       "    .dataframe thead th {\n",
       "        text-align: right;\n",
       "    }\n",
       "</style>\n",
       "<table border=\"1\" class=\"dataframe\">\n",
       "  <thead>\n",
       "    <tr style=\"text-align: right;\">\n",
       "      <th></th>\n",
       "      <th>PRODUCT_ID</th>\n",
       "      <th>TIMESTAMP</th>\n",
       "      <th>LINE</th>\n",
       "      <th>PRODUCT_CODE</th>\n",
       "      <th>X_1</th>\n",
       "      <th>X_2</th>\n",
       "      <th>X_3</th>\n",
       "      <th>X_4</th>\n",
       "      <th>X_5</th>\n",
       "      <th>X_6</th>\n",
       "      <th>...</th>\n",
       "      <th>X_2866</th>\n",
       "      <th>X_2867</th>\n",
       "      <th>X_2868</th>\n",
       "      <th>X_2869</th>\n",
       "      <th>X_2870</th>\n",
       "      <th>X_2871</th>\n",
       "      <th>X_2872</th>\n",
       "      <th>X_2873</th>\n",
       "      <th>X_2874</th>\n",
       "      <th>X_2875</th>\n",
       "    </tr>\n",
       "  </thead>\n",
       "  <tbody>\n",
       "    <tr>\n",
       "      <th>307</th>\n",
       "      <td>TEST_307</td>\n",
       "      <td>2022-11-05 16:47</td>\n",
       "      <td>T100306</td>\n",
       "      <td>T_31</td>\n",
       "      <td>2.0</td>\n",
       "      <td>91.0</td>\n",
       "      <td>0.0</td>\n",
       "      <td>45.0</td>\n",
       "      <td>10.0</td>\n",
       "      <td>0.0</td>\n",
       "      <td>...</td>\n",
       "      <td>NaN</td>\n",
       "      <td>NaN</td>\n",
       "      <td>NaN</td>\n",
       "      <td>NaN</td>\n",
       "      <td>NaN</td>\n",
       "      <td>NaN</td>\n",
       "      <td>NaN</td>\n",
       "      <td>NaN</td>\n",
       "      <td>NaN</td>\n",
       "      <td>NaN</td>\n",
       "    </tr>\n",
       "    <tr>\n",
       "      <th>308</th>\n",
       "      <td>TEST_308</td>\n",
       "      <td>2022-11-05 20:53</td>\n",
       "      <td>T100306</td>\n",
       "      <td>T_31</td>\n",
       "      <td>2.0</td>\n",
       "      <td>95.0</td>\n",
       "      <td>0.0</td>\n",
       "      <td>45.0</td>\n",
       "      <td>10.0</td>\n",
       "      <td>0.0</td>\n",
       "      <td>...</td>\n",
       "      <td>NaN</td>\n",
       "      <td>NaN</td>\n",
       "      <td>NaN</td>\n",
       "      <td>NaN</td>\n",
       "      <td>NaN</td>\n",
       "      <td>NaN</td>\n",
       "      <td>NaN</td>\n",
       "      <td>NaN</td>\n",
       "      <td>NaN</td>\n",
       "      <td>NaN</td>\n",
       "    </tr>\n",
       "    <tr>\n",
       "      <th>309</th>\n",
       "      <td>TEST_309</td>\n",
       "      <td>2022-11-05 21:01</td>\n",
       "      <td>T100306</td>\n",
       "      <td>T_31</td>\n",
       "      <td>2.0</td>\n",
       "      <td>87.0</td>\n",
       "      <td>0.0</td>\n",
       "      <td>45.0</td>\n",
       "      <td>10.0</td>\n",
       "      <td>0.0</td>\n",
       "      <td>...</td>\n",
       "      <td>NaN</td>\n",
       "      <td>NaN</td>\n",
       "      <td>NaN</td>\n",
       "      <td>NaN</td>\n",
       "      <td>NaN</td>\n",
       "      <td>NaN</td>\n",
       "      <td>NaN</td>\n",
       "      <td>NaN</td>\n",
       "      <td>NaN</td>\n",
       "      <td>NaN</td>\n",
       "    </tr>\n",
       "  </tbody>\n",
       "</table>\n",
       "<p>3 rows × 2879 columns</p>\n",
       "</div>"
      ],
      "text/plain": [
       "    PRODUCT_ID         TIMESTAMP     LINE PRODUCT_CODE  X_1   X_2  X_3   X_4  \\\n",
       "307   TEST_307  2022-11-05 16:47  T100306         T_31  2.0  91.0  0.0  45.0   \n",
       "308   TEST_308  2022-11-05 20:53  T100306         T_31  2.0  95.0  0.0  45.0   \n",
       "309   TEST_309  2022-11-05 21:01  T100306         T_31  2.0  87.0  0.0  45.0   \n",
       "\n",
       "      X_5  X_6  ...  X_2866  X_2867  X_2868  X_2869  X_2870  X_2871  X_2872  \\\n",
       "307  10.0  0.0  ...     NaN     NaN     NaN     NaN     NaN     NaN     NaN   \n",
       "308  10.0  0.0  ...     NaN     NaN     NaN     NaN     NaN     NaN     NaN   \n",
       "309  10.0  0.0  ...     NaN     NaN     NaN     NaN     NaN     NaN     NaN   \n",
       "\n",
       "     X_2873  X_2874  X_2875  \n",
       "307     NaN     NaN     NaN  \n",
       "308     NaN     NaN     NaN  \n",
       "309     NaN     NaN     NaN  \n",
       "\n",
       "[3 rows x 2879 columns]"
      ]
     },
     "execution_count": 216,
     "metadata": {},
     "output_type": "execute_result"
    }
   ],
   "source": [
    "test.tail(3)"
   ]
  },
  {
   "cell_type": "code",
   "execution_count": 210,
   "id": "fantastic-command",
   "metadata": {
    "scrolled": true
   },
   "outputs": [
    {
     "data": {
      "text/html": [
       "<div>\n",
       "<style scoped>\n",
       "    .dataframe tbody tr th:only-of-type {\n",
       "        vertical-align: middle;\n",
       "    }\n",
       "\n",
       "    .dataframe tbody tr th {\n",
       "        vertical-align: top;\n",
       "    }\n",
       "\n",
       "    .dataframe thead th {\n",
       "        text-align: right;\n",
       "    }\n",
       "</style>\n",
       "<table border=\"1\" class=\"dataframe\">\n",
       "  <thead>\n",
       "    <tr style=\"text-align: right;\">\n",
       "      <th></th>\n",
       "      <th>PRODUCT_ID</th>\n",
       "      <th>Y_Class</th>\n",
       "      <th>Y_Quality</th>\n",
       "      <th>TIMESTAMP</th>\n",
       "      <th>LINE</th>\n",
       "      <th>PRODUCT_CODE</th>\n",
       "      <th>X_1</th>\n",
       "      <th>X_2</th>\n",
       "      <th>X_3</th>\n",
       "      <th>X_4</th>\n",
       "      <th>...</th>\n",
       "      <th>X_2866</th>\n",
       "      <th>X_2867</th>\n",
       "      <th>X_2868</th>\n",
       "      <th>X_2869</th>\n",
       "      <th>X_2870</th>\n",
       "      <th>X_2871</th>\n",
       "      <th>X_2872</th>\n",
       "      <th>X_2873</th>\n",
       "      <th>X_2874</th>\n",
       "      <th>X_2875</th>\n",
       "    </tr>\n",
       "  </thead>\n",
       "  <tbody>\n",
       "    <tr>\n",
       "      <th>0</th>\n",
       "      <td>TRAIN_000</td>\n",
       "      <td>1</td>\n",
       "      <td>0.533433</td>\n",
       "      <td>2022-06-13 5:14</td>\n",
       "      <td>T050304</td>\n",
       "      <td>A_31</td>\n",
       "      <td>NaN</td>\n",
       "      <td>NaN</td>\n",
       "      <td>NaN</td>\n",
       "      <td>NaN</td>\n",
       "      <td>...</td>\n",
       "      <td>39.34</td>\n",
       "      <td>40.89</td>\n",
       "      <td>32.56</td>\n",
       "      <td>34.09</td>\n",
       "      <td>77.77</td>\n",
       "      <td>NaN</td>\n",
       "      <td>NaN</td>\n",
       "      <td>NaN</td>\n",
       "      <td>NaN</td>\n",
       "      <td>NaN</td>\n",
       "    </tr>\n",
       "    <tr>\n",
       "      <th>1</th>\n",
       "      <td>TRAIN_001</td>\n",
       "      <td>2</td>\n",
       "      <td>0.541819</td>\n",
       "      <td>2022-06-13 5:22</td>\n",
       "      <td>T050307</td>\n",
       "      <td>A_31</td>\n",
       "      <td>NaN</td>\n",
       "      <td>NaN</td>\n",
       "      <td>NaN</td>\n",
       "      <td>NaN</td>\n",
       "      <td>...</td>\n",
       "      <td>38.89</td>\n",
       "      <td>42.82</td>\n",
       "      <td>43.92</td>\n",
       "      <td>35.34</td>\n",
       "      <td>72.55</td>\n",
       "      <td>NaN</td>\n",
       "      <td>NaN</td>\n",
       "      <td>NaN</td>\n",
       "      <td>NaN</td>\n",
       "      <td>NaN</td>\n",
       "    </tr>\n",
       "    <tr>\n",
       "      <th>2</th>\n",
       "      <td>TRAIN_002</td>\n",
       "      <td>1</td>\n",
       "      <td>0.531267</td>\n",
       "      <td>2022-06-13 5:30</td>\n",
       "      <td>T050304</td>\n",
       "      <td>A_31</td>\n",
       "      <td>NaN</td>\n",
       "      <td>NaN</td>\n",
       "      <td>NaN</td>\n",
       "      <td>NaN</td>\n",
       "      <td>...</td>\n",
       "      <td>39.19</td>\n",
       "      <td>36.65</td>\n",
       "      <td>42.47</td>\n",
       "      <td>36.53</td>\n",
       "      <td>78.35</td>\n",
       "      <td>NaN</td>\n",
       "      <td>NaN</td>\n",
       "      <td>NaN</td>\n",
       "      <td>NaN</td>\n",
       "      <td>NaN</td>\n",
       "    </tr>\n",
       "  </tbody>\n",
       "</table>\n",
       "<p>3 rows × 2881 columns</p>\n",
       "</div>"
      ],
      "text/plain": [
       "  PRODUCT_ID  Y_Class  Y_Quality        TIMESTAMP     LINE PRODUCT_CODE  X_1  \\\n",
       "0  TRAIN_000        1   0.533433  2022-06-13 5:14  T050304         A_31  NaN   \n",
       "1  TRAIN_001        2   0.541819  2022-06-13 5:22  T050307         A_31  NaN   \n",
       "2  TRAIN_002        1   0.531267  2022-06-13 5:30  T050304         A_31  NaN   \n",
       "\n",
       "   X_2  X_3  X_4  ...  X_2866  X_2867  X_2868  X_2869  X_2870  X_2871  X_2872  \\\n",
       "0  NaN  NaN  NaN  ...   39.34   40.89   32.56   34.09   77.77     NaN     NaN   \n",
       "1  NaN  NaN  NaN  ...   38.89   42.82   43.92   35.34   72.55     NaN     NaN   \n",
       "2  NaN  NaN  NaN  ...   39.19   36.65   42.47   36.53   78.35     NaN     NaN   \n",
       "\n",
       "   X_2873  X_2874  X_2875  \n",
       "0     NaN     NaN     NaN  \n",
       "1     NaN     NaN     NaN  \n",
       "2     NaN     NaN     NaN  \n",
       "\n",
       "[3 rows x 2881 columns]"
      ]
     },
     "execution_count": 210,
     "metadata": {},
     "output_type": "execute_result"
    }
   ],
   "source": [
    "train.head(3)"
   ]
  },
  {
   "cell_type": "code",
   "execution_count": 211,
   "id": "acoustic-aging",
   "metadata": {},
   "outputs": [
    {
     "data": {
      "text/plain": [
       "0"
      ]
     },
     "execution_count": 211,
     "metadata": {},
     "output_type": "execute_result"
    }
   ],
   "source": [
    "train.iloc[:,1:].duplicated().sum()"
   ]
  },
  {
   "cell_type": "markdown",
   "id": "unnecessary-commercial",
   "metadata": {},
   "source": [
    "# TIMESTAMP SPLIT"
   ]
  },
  {
   "cell_type": "code",
   "execution_count": 212,
   "id": "native-comfort",
   "metadata": {},
   "outputs": [],
   "source": [
    "train['YEAR'] = train['TIMESTAMP'].str.split('-').str[0].astype('int')\n",
    "train['MONTH'] = train['TIMESTAMP'].str.split('-').str[1].astype('int')\n",
    "train['DAY'] = train['TIMESTAMP'].str.split('-').str[2]\n",
    "train['DAY'] = train['DAY'].str.split().str[0].astype('int')\n",
    "train['TIME'] = train['TIMESTAMP'].str.split().str[1]\n",
    "train['HOUR'] = train['TIME'].str.split(':').str[0].astype('int')\n",
    "train['TIME_MIN'] = train['TIME'].str.split(':').str[1].astype('int')+train['HOUR']*60"
   ]
  },
  {
   "cell_type": "code",
   "execution_count": 213,
   "id": "filled-consultancy",
   "metadata": {},
   "outputs": [],
   "source": [
    "cyclical_feature(train)"
   ]
  },
  {
   "cell_type": "code",
   "execution_count": 214,
   "id": "respected-lebanon",
   "metadata": {},
   "outputs": [
    {
     "data": {
      "text/html": [
       "<div>\n",
       "<style scoped>\n",
       "    .dataframe tbody tr th:only-of-type {\n",
       "        vertical-align: middle;\n",
       "    }\n",
       "\n",
       "    .dataframe tbody tr th {\n",
       "        vertical-align: top;\n",
       "    }\n",
       "\n",
       "    .dataframe thead th {\n",
       "        text-align: right;\n",
       "    }\n",
       "</style>\n",
       "<table border=\"1\" class=\"dataframe\">\n",
       "  <thead>\n",
       "    <tr style=\"text-align: right;\">\n",
       "      <th></th>\n",
       "      <th>PRODUCT_ID</th>\n",
       "      <th>Y_Class</th>\n",
       "      <th>Y_Quality</th>\n",
       "      <th>TIMESTAMP</th>\n",
       "      <th>LINE</th>\n",
       "      <th>PRODUCT_CODE</th>\n",
       "      <th>X_1</th>\n",
       "      <th>X_2</th>\n",
       "      <th>X_3</th>\n",
       "      <th>X_4</th>\n",
       "      <th>...</th>\n",
       "      <th>X_2874</th>\n",
       "      <th>X_2875</th>\n",
       "      <th>YEAR</th>\n",
       "      <th>MONTH</th>\n",
       "      <th>DAY</th>\n",
       "      <th>TIME</th>\n",
       "      <th>HOUR</th>\n",
       "      <th>TIME_MIN</th>\n",
       "      <th>sin_time</th>\n",
       "      <th>cos_time</th>\n",
       "    </tr>\n",
       "  </thead>\n",
       "  <tbody>\n",
       "    <tr>\n",
       "      <th>0</th>\n",
       "      <td>TRAIN_000</td>\n",
       "      <td>1</td>\n",
       "      <td>0.533433</td>\n",
       "      <td>2022-06-13 5:14</td>\n",
       "      <td>T050304</td>\n",
       "      <td>A_31</td>\n",
       "      <td>NaN</td>\n",
       "      <td>NaN</td>\n",
       "      <td>NaN</td>\n",
       "      <td>NaN</td>\n",
       "      <td>...</td>\n",
       "      <td>NaN</td>\n",
       "      <td>NaN</td>\n",
       "      <td>2022</td>\n",
       "      <td>6</td>\n",
       "      <td>13</td>\n",
       "      <td>5:14</td>\n",
       "      <td>5</td>\n",
       "      <td>314</td>\n",
       "      <td>0.965926</td>\n",
       "      <td>0.258819</td>\n",
       "    </tr>\n",
       "    <tr>\n",
       "      <th>1</th>\n",
       "      <td>TRAIN_001</td>\n",
       "      <td>2</td>\n",
       "      <td>0.541819</td>\n",
       "      <td>2022-06-13 5:22</td>\n",
       "      <td>T050307</td>\n",
       "      <td>A_31</td>\n",
       "      <td>NaN</td>\n",
       "      <td>NaN</td>\n",
       "      <td>NaN</td>\n",
       "      <td>NaN</td>\n",
       "      <td>...</td>\n",
       "      <td>NaN</td>\n",
       "      <td>NaN</td>\n",
       "      <td>2022</td>\n",
       "      <td>6</td>\n",
       "      <td>13</td>\n",
       "      <td>5:22</td>\n",
       "      <td>5</td>\n",
       "      <td>322</td>\n",
       "      <td>0.965926</td>\n",
       "      <td>0.258819</td>\n",
       "    </tr>\n",
       "    <tr>\n",
       "      <th>2</th>\n",
       "      <td>TRAIN_002</td>\n",
       "      <td>1</td>\n",
       "      <td>0.531267</td>\n",
       "      <td>2022-06-13 5:30</td>\n",
       "      <td>T050304</td>\n",
       "      <td>A_31</td>\n",
       "      <td>NaN</td>\n",
       "      <td>NaN</td>\n",
       "      <td>NaN</td>\n",
       "      <td>NaN</td>\n",
       "      <td>...</td>\n",
       "      <td>NaN</td>\n",
       "      <td>NaN</td>\n",
       "      <td>2022</td>\n",
       "      <td>6</td>\n",
       "      <td>13</td>\n",
       "      <td>5:30</td>\n",
       "      <td>5</td>\n",
       "      <td>330</td>\n",
       "      <td>0.965926</td>\n",
       "      <td>0.258819</td>\n",
       "    </tr>\n",
       "  </tbody>\n",
       "</table>\n",
       "<p>3 rows × 2889 columns</p>\n",
       "</div>"
      ],
      "text/plain": [
       "  PRODUCT_ID  Y_Class  Y_Quality        TIMESTAMP     LINE PRODUCT_CODE  X_1  \\\n",
       "0  TRAIN_000        1   0.533433  2022-06-13 5:14  T050304         A_31  NaN   \n",
       "1  TRAIN_001        2   0.541819  2022-06-13 5:22  T050307         A_31  NaN   \n",
       "2  TRAIN_002        1   0.531267  2022-06-13 5:30  T050304         A_31  NaN   \n",
       "\n",
       "   X_2  X_3  X_4  ...  X_2874  X_2875  YEAR  MONTH  DAY  TIME  HOUR  TIME_MIN  \\\n",
       "0  NaN  NaN  NaN  ...     NaN     NaN  2022      6   13  5:14     5       314   \n",
       "1  NaN  NaN  NaN  ...     NaN     NaN  2022      6   13  5:22     5       322   \n",
       "2  NaN  NaN  NaN  ...     NaN     NaN  2022      6   13  5:30     5       330   \n",
       "\n",
       "   sin_time  cos_time  \n",
       "0  0.965926  0.258819  \n",
       "1  0.965926  0.258819  \n",
       "2  0.965926  0.258819  \n",
       "\n",
       "[3 rows x 2889 columns]"
      ]
     },
     "execution_count": 214,
     "metadata": {},
     "output_type": "execute_result"
    }
   ],
   "source": [
    "train.head(3)"
   ]
  },
  {
   "cell_type": "code",
   "execution_count": 215,
   "id": "appreciated-graphics",
   "metadata": {},
   "outputs": [
    {
     "data": {
      "text/plain": [
       "477"
      ]
     },
     "execution_count": 215,
     "metadata": {},
     "output_type": "execute_result"
    }
   ],
   "source": [
    "train['TIME_MIN'].nunique()"
   ]
  },
  {
   "cell_type": "markdown",
   "id": "variable-pressure",
   "metadata": {},
   "source": [
    "# 유니크값"
   ]
  },
  {
   "cell_type": "code",
   "execution_count": 178,
   "id": "higher-albany",
   "metadata": {},
   "outputs": [
    {
     "data": {
      "text/plain": [
       "array(['T050304', 'T050307', 'T100304', 'T100306', 'T010306', 'T010305'],\n",
       "      dtype=object)"
      ]
     },
     "execution_count": 178,
     "metadata": {},
     "output_type": "execute_result"
    }
   ],
   "source": [
    "train['LINE'].unique()"
   ]
  },
  {
   "cell_type": "code",
   "execution_count": 179,
   "id": "suited-retail",
   "metadata": {},
   "outputs": [
    {
     "data": {
      "text/plain": [
       "array(['A_31', 'T_31', 'O_31'], dtype=object)"
      ]
     },
     "execution_count": 179,
     "metadata": {},
     "output_type": "execute_result"
    }
   ],
   "source": [
    "train['PRODUCT_CODE'].unique()"
   ]
  },
  {
   "cell_type": "code",
   "execution_count": 180,
   "id": "elegant-contribution",
   "metadata": {},
   "outputs": [
    {
     "data": {
      "text/plain": [
       "array([2022])"
      ]
     },
     "execution_count": 180,
     "metadata": {},
     "output_type": "execute_result"
    }
   ],
   "source": [
    "train['YEAR'].unique()"
   ]
  },
  {
   "cell_type": "code",
   "execution_count": 181,
   "id": "cooked-norwegian",
   "metadata": {},
   "outputs": [
    {
     "data": {
      "text/plain": [
       "array([13, 14, 16, 19, 20, 21, 22, 23, 24, 25, 26, 27, 29,  1,  2,  3,  4,\n",
       "        5,  6,  7,  8,  9, 10, 11, 12, 15, 17, 18, 28, 30, 31])"
      ]
     },
     "execution_count": 181,
     "metadata": {},
     "output_type": "execute_result"
    }
   ],
   "source": [
    "train['DAY'].unique()"
   ]
  },
  {
   "cell_type": "code",
   "execution_count": 182,
   "id": "organized-convertible",
   "metadata": {},
   "outputs": [
    {
     "data": {
      "text/plain": [
       "array([ 5,  6,  7,  8,  9, 23, 20, 21, 17,  3,  4, 12, 10, 15,  1, 22, 18,\n",
       "       16,  0, 19, 14,  2, 13, 11])"
      ]
     },
     "execution_count": 182,
     "metadata": {},
     "output_type": "execute_result"
    }
   ],
   "source": [
    "train['HOUR'].unique()"
   ]
  },
  {
   "cell_type": "code",
   "execution_count": 183,
   "id": "important-victim",
   "metadata": {},
   "outputs": [
    {
     "data": {
      "text/plain": [
       "array([14, 22, 30, 39, 47, 55,  3, 11, 19, 28, 36, 44, 52,  0,  8, 17, 25,\n",
       "       33, 41, 49, 58, 53,  1, 46, 20, 18, 26, 31,  6, 37, 45, 34, 24, 32,\n",
       "       42, 50,  2,  5, 13, 59, 38, 29, 54,  7, 15, 57, 43, 48, 56, 21, 12,\n",
       "       35, 40, 23, 16,  9,  4, 10, 51, 27])"
      ]
     },
     "execution_count": 183,
     "metadata": {},
     "output_type": "execute_result"
    }
   ],
   "source": [
    "train['MIN'].unique()"
   ]
  },
  {
   "cell_type": "markdown",
   "id": "brazilian-acceptance",
   "metadata": {},
   "source": [
    "# 결측치관련\n",
    "1. 결측비율 100% 인 경우 제거 -> 82개"
   ]
  },
  {
   "cell_type": "code",
   "execution_count": 184,
   "id": "shared-printer",
   "metadata": {},
   "outputs": [
    {
     "data": {
      "text/plain": [
       "PRODUCT_ID    0.0\n",
       "Y_Class       0.0\n",
       "Y_Quality     0.0\n",
       "TIMESTAMP     0.0\n",
       "LINE          0.0\n",
       "             ... \n",
       "TIME          0.0\n",
       "HOUR          0.0\n",
       "MIN           0.0\n",
       "sin_time      0.0\n",
       "cos_time      0.0\n",
       "Length: 2889, dtype: float64"
      ]
     },
     "execution_count": 184,
     "metadata": {},
     "output_type": "execute_result"
    }
   ],
   "source": [
    "train.isnull().sum()/len(train)"
   ]
  },
  {
   "cell_type": "code",
   "execution_count": 185,
   "id": "bacterial-acrobat",
   "metadata": {},
   "outputs": [],
   "source": [
    "col_list = train.columns\n",
    "nan_list = []\n",
    "nan_cnt = []\n",
    "nan_col = []\n",
    "full_list = []\n",
    "for col in col_list:\n",
    "    if train[col].isnull().sum() == 0 :\n",
    "        full_list.append(col)\n",
    "        continue\n",
    "    nan_list.append([col, train[col].isnull().sum()])\n",
    "    nan_cnt.append(train[col].isnull().sum())\n",
    "    nan_col.append(col)"
   ]
  },
  {
   "cell_type": "code",
   "execution_count": 186,
   "id": "meaningful-minute",
   "metadata": {},
   "outputs": [
    {
     "data": {
      "text/plain": [
       "{249,\n",
       " 250,\n",
       " 349,\n",
       " 350,\n",
       " 351,\n",
       " 365,\n",
       " 423,\n",
       " 424,\n",
       " 469,\n",
       " 478,\n",
       " 479,\n",
       " 480,\n",
       " 488,\n",
       " 494,\n",
       " 498,\n",
       " 499,\n",
       " 504,\n",
       " 511,\n",
       " 520,\n",
       " 528,\n",
       " 536,\n",
       " 539,\n",
       " 546,\n",
       " 556,\n",
       " 559,\n",
       " 565,\n",
       " 575,\n",
       " 588,\n",
       " 592,\n",
       " 598}"
      ]
     },
     "execution_count": 186,
     "metadata": {},
     "output_type": "execute_result"
    }
   ],
   "source": [
    "set(nan_cnt)"
   ]
  },
  {
   "cell_type": "code",
   "execution_count": 137,
   "id": "packed-report",
   "metadata": {},
   "outputs": [
    {
     "data": {
      "text/plain": [
       "2875"
      ]
     },
     "execution_count": 137,
     "metadata": {},
     "output_type": "execute_result"
    }
   ],
   "source": [
    "len(nan_col)"
   ]
  },
  {
   "cell_type": "code",
   "execution_count": 138,
   "id": "controlled-search",
   "metadata": {},
   "outputs": [
    {
     "data": {
      "text/html": [
       "<div>\n",
       "<style scoped>\n",
       "    .dataframe tbody tr th:only-of-type {\n",
       "        vertical-align: middle;\n",
       "    }\n",
       "\n",
       "    .dataframe tbody tr th {\n",
       "        vertical-align: top;\n",
       "    }\n",
       "\n",
       "    .dataframe thead th {\n",
       "        text-align: right;\n",
       "    }\n",
       "</style>\n",
       "<table border=\"1\" class=\"dataframe\">\n",
       "  <thead>\n",
       "    <tr style=\"text-align: right;\">\n",
       "      <th></th>\n",
       "      <th>PRODUCT_ID</th>\n",
       "      <th>Y_Class</th>\n",
       "      <th>Y_Quality</th>\n",
       "      <th>TIMESTAMP</th>\n",
       "      <th>LINE</th>\n",
       "      <th>PRODUCT_CODE</th>\n",
       "      <th>X_1</th>\n",
       "      <th>X_2</th>\n",
       "      <th>X_3</th>\n",
       "      <th>X_4</th>\n",
       "      <th>...</th>\n",
       "      <th>X_2870</th>\n",
       "      <th>X_2871</th>\n",
       "      <th>YEAR</th>\n",
       "      <th>MONTH</th>\n",
       "      <th>DAY</th>\n",
       "      <th>TIME</th>\n",
       "      <th>HOUR</th>\n",
       "      <th>MIN</th>\n",
       "      <th>sin_time</th>\n",
       "      <th>cos_time</th>\n",
       "    </tr>\n",
       "  </thead>\n",
       "  <tbody>\n",
       "    <tr>\n",
       "      <th>0</th>\n",
       "      <td>TRAIN_000</td>\n",
       "      <td>1</td>\n",
       "      <td>0.533433</td>\n",
       "      <td>2022-06-13 5:14</td>\n",
       "      <td>T050304</td>\n",
       "      <td>A_31</td>\n",
       "      <td>NaN</td>\n",
       "      <td>NaN</td>\n",
       "      <td>NaN</td>\n",
       "      <td>NaN</td>\n",
       "      <td>...</td>\n",
       "      <td>77.77</td>\n",
       "      <td>NaN</td>\n",
       "      <td>2022</td>\n",
       "      <td>6</td>\n",
       "      <td>13</td>\n",
       "      <td>5:14</td>\n",
       "      <td>5</td>\n",
       "      <td>14</td>\n",
       "      <td>0.965926</td>\n",
       "      <td>0.258819</td>\n",
       "    </tr>\n",
       "    <tr>\n",
       "      <th>1</th>\n",
       "      <td>TRAIN_001</td>\n",
       "      <td>2</td>\n",
       "      <td>0.541819</td>\n",
       "      <td>2022-06-13 5:22</td>\n",
       "      <td>T050307</td>\n",
       "      <td>A_31</td>\n",
       "      <td>NaN</td>\n",
       "      <td>NaN</td>\n",
       "      <td>NaN</td>\n",
       "      <td>NaN</td>\n",
       "      <td>...</td>\n",
       "      <td>72.55</td>\n",
       "      <td>NaN</td>\n",
       "      <td>2022</td>\n",
       "      <td>6</td>\n",
       "      <td>13</td>\n",
       "      <td>5:22</td>\n",
       "      <td>5</td>\n",
       "      <td>22</td>\n",
       "      <td>0.965926</td>\n",
       "      <td>0.258819</td>\n",
       "    </tr>\n",
       "    <tr>\n",
       "      <th>2</th>\n",
       "      <td>TRAIN_002</td>\n",
       "      <td>1</td>\n",
       "      <td>0.531267</td>\n",
       "      <td>2022-06-13 5:30</td>\n",
       "      <td>T050304</td>\n",
       "      <td>A_31</td>\n",
       "      <td>NaN</td>\n",
       "      <td>NaN</td>\n",
       "      <td>NaN</td>\n",
       "      <td>NaN</td>\n",
       "      <td>...</td>\n",
       "      <td>78.35</td>\n",
       "      <td>NaN</td>\n",
       "      <td>2022</td>\n",
       "      <td>6</td>\n",
       "      <td>13</td>\n",
       "      <td>5:30</td>\n",
       "      <td>5</td>\n",
       "      <td>30</td>\n",
       "      <td>0.965926</td>\n",
       "      <td>0.258819</td>\n",
       "    </tr>\n",
       "  </tbody>\n",
       "</table>\n",
       "<p>3 rows × 2807 columns</p>\n",
       "</div>"
      ],
      "text/plain": [
       "  PRODUCT_ID  Y_Class  Y_Quality        TIMESTAMP     LINE PRODUCT_CODE  X_1  \\\n",
       "0  TRAIN_000        1   0.533433  2022-06-13 5:14  T050304         A_31  NaN   \n",
       "1  TRAIN_001        2   0.541819  2022-06-13 5:22  T050307         A_31  NaN   \n",
       "2  TRAIN_002        1   0.531267  2022-06-13 5:30  T050304         A_31  NaN   \n",
       "\n",
       "   X_2  X_3  X_4  ...  X_2870  X_2871  YEAR  MONTH  DAY  TIME  HOUR  MIN  \\\n",
       "0  NaN  NaN  NaN  ...   77.77     NaN  2022      6   13  5:14     5   14   \n",
       "1  NaN  NaN  NaN  ...   72.55     NaN  2022      6   13  5:22     5   22   \n",
       "2  NaN  NaN  NaN  ...   78.35     NaN  2022      6   13  5:30     5   30   \n",
       "\n",
       "   sin_time  cos_time  \n",
       "0  0.965926  0.258819  \n",
       "1  0.965926  0.258819  \n",
       "2  0.965926  0.258819  \n",
       "\n",
       "[3 rows x 2807 columns]"
      ]
     },
     "execution_count": 138,
     "metadata": {},
     "output_type": "execute_result"
    }
   ],
   "source": [
    "'''모든값이 결측값이면 제거'''\n",
    "\n",
    "del_col = []\n",
    "for col in nan_list :\n",
    "    if col[1] == 598 :\n",
    "        del_col.append(col[0])\n",
    "train = train.drop(columns=del_col)\n",
    "train.head(3)"
   ]
  },
  {
   "cell_type": "code",
   "execution_count": null,
   "id": "specialized-detective",
   "metadata": {},
   "outputs": [],
   "source": [
    "# fill_company_mean = lambda g : g.fillna(g.mean())\n",
    "# data = data.groupby('company').apply(fill_company_mean)"
   ]
  },
  {
   "cell_type": "code",
   "execution_count": 147,
   "id": "changing-decimal",
   "metadata": {},
   "outputs": [],
   "source": [
    "list_249=[]\n",
    "for col in nan_list:\n",
    "    if col[1]==249 :\n",
    "        list_249.append(col)"
   ]
  },
  {
   "cell_type": "markdown",
   "id": "paperback-siemens",
   "metadata": {},
   "source": [
    "# 시각화"
   ]
  },
  {
   "cell_type": "markdown",
   "id": "comparable-richmond",
   "metadata": {},
   "source": [
    "### 1. Y_Class 관련\n",
    "\n",
    "- 6-7 월은 기준초과의 비율이 높은편, 8-9월은 기준 미달 비율이 높은 편 -> 6&7/8&9 피처별 차이 봐야할ㄷㅅ듯\n",
    "\n",
    "- A 라인은 6월에서 9월로 이동할수록 기준 누락 늘어남 , T 라인은 전체적으로 안정적"
   ]
  },
  {
   "cell_type": "code",
   "execution_count": 88,
   "id": "listed-second",
   "metadata": {},
   "outputs": [
    {
     "data": {
      "image/png": "[encoded data removed]",
      "text/plain": [
       "<Figure size 720x360 with 1 Axes>"
      ]
     },
     "metadata": {},
     "output_type": "display_data"
    }
   ],
   "source": [
    "cnt_plot(train, 'MONTH', 'Y_Class' , 'MONTH에 따른 품질상태')\n",
    "\n",
    "'''\n",
    "6-7 월은 기준초과의 비율이 높은편, 8-9월은 기준 미달 비율이 높은 편 -> 6&7/8&9 피처별 차이 봐야할ㄷㅅ듯\n",
    "\n",
    "가설1. 날씨에 영향을 받았다.\n",
    "가설2. 6-7월에 생산된 제품들이 전체적으로 기준 초과가 높아서 8월부터 생산과정에 변화를 주었더니 기준 미달 비율이 높아졌다.\n",
    "\n",
    "'''"
   ]
  },
  {
   "cell_type": "code",
   "execution_count": 97,
   "id": "black-ballot",
   "metadata": {
    "collapsed": true
   },
   "outputs": [
    {
     "data": {
      "image/png": "[encoded data removed]",
      "text/plain": [
       "<Figure size 720x360 with 1 Axes>"
      ]
     },
     "metadata": {},
     "output_type": "display_data"
    }
   ],
   "source": [
    "cnt_plot(train[train['MONTH']==6].sort_values(by=['HOUR']).reset_index(drop=True), 'HOUR', 'Y_Class' , '6월 HOUR에 따른 품질상태')"
   ]
  },
  {
   "cell_type": "code",
   "execution_count": 98,
   "id": "capital-parking",
   "metadata": {
    "collapsed": true
   },
   "outputs": [
    {
     "data": {
      "image/png": "[encoded data removed]",
      "text/plain": [
       "<Figure size 720x360 with 1 Axes>"
      ]
     },
     "metadata": {},
     "output_type": "display_data"
    }
   ],
   "source": [
    "cnt_plot(train[train['MONTH']==7].sort_values(by=['HOUR']).reset_index(drop=True), 'HOUR', 'Y_Class' , '7월 HOUR에 따른 품질상태')"
   ]
  },
  {
   "cell_type": "code",
   "execution_count": 99,
   "id": "skilled-regular",
   "metadata": {
    "collapsed": true
   },
   "outputs": [
    {
     "data": {
      "image/png": "[encoded data removed]",
      "text/plain": [
       "<Figure size 720x360 with 1 Axes>"
      ]
     },
     "metadata": {},
     "output_type": "display_data"
    }
   ],
   "source": [
    "cnt_plot(train[train['MONTH']==8].sort_values(by=['HOUR']).reset_index(drop=True), 'HOUR', 'Y_Class' , '8월 HOUR에 따른 품질상태')"
   ]
  },
  {
   "cell_type": "code",
   "execution_count": 139,
   "id": "champion-motel",
   "metadata": {},
   "outputs": [
    {
     "data": {
      "image/png": "[encoded data removed]",
      "text/plain": [
       "<Figure size 720x360 with 1 Axes>"
      ]
     },
     "metadata": {},
     "output_type": "display_data"
    }
   ],
   "source": [
    "cnt_plot(train, 'PRODUCT_CODE', 'Y_Class' , 'PRODUCT_CODE에 따른 품질상태')\n",
    "'''\n",
    "O_31은 9월에 생겼다.\n",
    "'''"
   ]
  },
  {
   "cell_type": "code",
   "execution_count": 142,
   "id": "natural-louisville",
   "metadata": {},
   "outputs": [
    {
     "data": {
      "image/png": "[encoded data removed]",
      "text/plain": [
       "<Figure size 720x360 with 1 Axes>"
      ]
     },
     "metadata": {},
     "output_type": "display_data"
    }
   ],
   "source": [
    "cnt_plot(train[train['MONTH']==6], 'PRODUCT_CODE', 'Y_Class' , 'PRODUCT_CODE에 따른 품질상태')"
   ]
  },
  {
   "cell_type": "code",
   "execution_count": 141,
   "id": "automated-chemical",
   "metadata": {},
   "outputs": [
    {
     "data": {
      "image/png": "[encoded data removed]",
      "text/plain": [
       "<Figure size 720x360 with 1 Axes>"
      ]
     },
     "metadata": {},
     "output_type": "display_data"
    }
   ],
   "source": [
    "cnt_plot(train[train['MONTH']==7], 'PRODUCT_CODE', 'Y_Class' , 'PRODUCT_CODE에 따른 품질상태')"
   ]
  },
  {
   "cell_type": "code",
   "execution_count": 140,
   "id": "secondary-april",
   "metadata": {},
   "outputs": [
    {
     "data": {
      "image/png": "[encoded data removed]",
      "text/plain": [
       "<Figure size 720x360 with 1 Axes>"
      ]
     },
     "metadata": {},
     "output_type": "display_data"
    }
   ],
   "source": [
    "cnt_plot(train[train['MONTH']==8], 'PRODUCT_CODE', 'Y_Class' , 'PRODUCT_CODE에 따른 품질상태')"
   ]
  },
  {
   "cell_type": "code",
   "execution_count": 143,
   "id": "celtic-typing",
   "metadata": {},
   "outputs": [
    {
     "data": {
      "image/png": "[encoded data removed]",
      "text/plain": [
       "<Figure size 720x360 with 1 Axes>"
      ]
     },
     "metadata": {},
     "output_type": "display_data"
    }
   ],
   "source": [
    "cnt_plot(train[train['MONTH']==9], 'PRODUCT_CODE', 'Y_Class' , 'PRODUCT_CODE에 따른 품질상태')"
   ]
  },
  {
   "cell_type": "code",
   "execution_count": 202,
   "id": "august-easter",
   "metadata": {},
   "outputs": [
    {
     "data": {
      "image/png": "[encoded data removed]",
      "text/plain": [
       "<Figure size 720x360 with 1 Axes>"
      ]
     },
     "metadata": {},
     "output_type": "display_data"
    }
   ],
   "source": [
    "cnt_plot(train, 'LINE', 'Y_Class' , 'LINE 따른 품질상태')"
   ]
  }
 ],
 "metadata": {
  "kernelspec": {
   "display_name": "Python 3",
   "language": "python",
   "name": "python3"
  },
  "language_info": {
   "codemirror_mode": {
    "name": "ipython",
    "version": 3
   },
   "file_extension": ".py",
   "mimetype": "text/x-python",
   "name": "python",
   "nbconvert_exporter": "python",
   "pygments_lexer": "ipython3",
   "version": "3.8.8"
  }
 },
 "nbformat": 4,
 "nbformat_minor": 5
}
